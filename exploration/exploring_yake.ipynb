{
  "nbformat": 4,
  "nbformat_minor": 0,
  "metadata": {
    "colab": {
      "name": "exploring_yake.ipynb",
      "version": "0.3.2",
      "provenance": [],
      "collapsed_sections": []
    },
    "kernelspec": {
      "name": "python3",
      "display_name": "Python 3"
    }
  },
  "cells": [
    {
      "cell_type": "markdown",
      "metadata": {
        "id": "PBAQt6jkRJAv",
        "colab_type": "text"
      },
      "source": [
        "# Mounting Google Drive"
      ]
    },
    {
      "cell_type": "code",
      "metadata": {
        "id": "Uf2q7pDIQnla",
        "colab_type": "code",
        "colab": {
          "base_uri": "https://localhost:8080/",
          "height": 138
        },
        "outputId": "ea80b99e-e9c7-48c5-cc14-86ccd725f3e2"
      },
      "source": [
        "from google.colab import drive\n",
        "drive.mount('/gdrive')\n",
        "\n",
        "with open('/gdrive/My Drive/foo.txt', 'w') as f:\n",
        "  f.write('Hello Google Drive!')\n",
        "!cat '/gdrive/My Drive/foo.txt'"
      ],
      "execution_count": 1,
      "outputs": [
        {
          "output_type": "stream",
          "text": [
            "Go to this URL in a browser: https://accounts.google.com/o/oauth2/auth?client_id=947318989803-6bn6qk8qdgf4n4g3pfee6491hc0brc4i.apps.googleusercontent.com&redirect_uri=urn%3Aietf%3Awg%3Aoauth%3A2.0%3Aoob&scope=email%20https%3A%2F%2Fwww.googleapis.com%2Fauth%2Fdocs.test%20https%3A%2F%2Fwww.googleapis.com%2Fauth%2Fdrive%20https%3A%2F%2Fwww.googleapis.com%2Fauth%2Fdrive.photos.readonly%20https%3A%2F%2Fwww.googleapis.com%2Fauth%2Fpeopleapi.readonly&response_type=code\n",
            "\n",
            "Enter your authorization code:\n",
            "··········\n",
            "Mounted at /gdrive\n",
            "Hello Google Drive!"
          ],
          "name": "stdout"
        }
      ]
    },
    {
      "cell_type": "markdown",
      "metadata": {
        "id": "OpfiwjlsRL3A",
        "colab_type": "text"
      },
      "source": [
        "# Installing Dependencies"
      ]
    },
    {
      "cell_type": "code",
      "metadata": {
        "id": "uWgVPX2z6rZh",
        "colab_type": "code",
        "colab": {
          "base_uri": "https://localhost:8080/",
          "height": 622
        },
        "outputId": "36b0ce08-a028-4cf0-b43e-5a6f12d6919c"
      },
      "source": [
        "!pip install yake"
      ],
      "execution_count": 2,
      "outputs": [
        {
          "output_type": "stream",
          "text": [
            "Collecting yake\n",
            "\u001b[?25l  Downloading https://files.pythonhosted.org/packages/b6/3c/ed20047202793a08786978be68ec44c7ffbcb814ed05b985b38037f31a56/yake-0.3.7.tar.gz (53kB)\n",
            "\u001b[K     |████████████████████████████████| 61kB 3.7MB/s \n",
            "\u001b[?25hRequirement already satisfied: Click>=6.0 in /usr/local/lib/python3.6/dist-packages (from yake) (7.0)\n",
            "Collecting fire (from yake)\n",
            "  Downloading https://files.pythonhosted.org/packages/5a/b7/205702f348aab198baecd1d8344a90748cb68f53bdcd1cc30cbc08e47d3e/fire-0.1.3.tar.gz\n",
            "Requirement already satisfied: numpy in /usr/local/lib/python3.6/dist-packages (from yake) (1.16.3)\n",
            "Collecting segtok (from yake)\n",
            "  Downloading https://files.pythonhosted.org/packages/1d/59/6ed78856ab99d2da04084b59e7da797972baa0efecb71546b16d48e49d9b/segtok-1.5.7.tar.gz\n",
            "Requirement already satisfied: pandas in /usr/local/lib/python3.6/dist-packages (from yake) (0.24.2)\n",
            "Requirement already satisfied: networkx in /usr/local/lib/python3.6/dist-packages (from yake) (2.3)\n",
            "Collecting jellyfish (from yake)\n",
            "\u001b[?25l  Downloading https://files.pythonhosted.org/packages/69/9f/ae6f6ad509725b71d45bb408953c850da7a2ecc3dbdad4063a825702ba29/jellyfish-0.7.1.tar.gz (131kB)\n",
            "\u001b[K     |████████████████████████████████| 133kB 14.0MB/s \n",
            "\u001b[?25hCollecting unidecode>=0.4.19 (from yake)\n",
            "\u001b[?25l  Downloading https://files.pythonhosted.org/packages/31/39/53096f9217b057cb049fe872b7fc7ce799a1a89b76cf917d9639e7a558b5/Unidecode-1.0.23-py2.py3-none-any.whl (237kB)\n",
            "\u001b[K     |████████████████████████████████| 245kB 52.7MB/s \n",
            "\u001b[?25hRequirement already satisfied: nltk>=3.1 in /usr/local/lib/python3.6/dist-packages (from yake) (3.2.5)\n",
            "Requirement already satisfied: scipy in /usr/local/lib/python3.6/dist-packages (from yake) (1.3.0)\n",
            "Requirement already satisfied: six in /usr/local/lib/python3.6/dist-packages (from fire->yake) (1.12.0)\n",
            "Requirement already satisfied: regex in /usr/local/lib/python3.6/dist-packages (from segtok->yake) (2018.1.10)\n",
            "Requirement already satisfied: pytz>=2011k in /usr/local/lib/python3.6/dist-packages (from pandas->yake) (2018.9)\n",
            "Requirement already satisfied: python-dateutil>=2.5.0 in /usr/local/lib/python3.6/dist-packages (from pandas->yake) (2.5.3)\n",
            "Requirement already satisfied: decorator>=4.3.0 in /usr/local/lib/python3.6/dist-packages (from networkx->yake) (4.4.0)\n",
            "Building wheels for collected packages: yake, fire, segtok, jellyfish\n",
            "  Building wheel for yake (setup.py) ... \u001b[?25l\u001b[?25hdone\n",
            "  Stored in directory: /root/.cache/pip/wheels/90/7d/56/63a3a3b064e9214e29616880dc4170a300ca68643728ce24ba\n",
            "  Building wheel for fire (setup.py) ... \u001b[?25l\u001b[?25hdone\n",
            "  Stored in directory: /root/.cache/pip/wheels/2a/1a/4d/6b30377c3051e76559d1185c1dbbfff15aed31f87acdd14c22\n",
            "  Building wheel for segtok (setup.py) ... \u001b[?25l\u001b[?25hdone\n",
            "  Stored in directory: /root/.cache/pip/wheels/15/ee/a8/6112173f1386d33eebedb3f73429cfa41a4c3084556bcee254\n",
            "  Building wheel for jellyfish (setup.py) ... \u001b[?25l\u001b[?25hdone\n",
            "  Stored in directory: /root/.cache/pip/wheels/eb/33/cf/c7ce9866a02202b1f8ca45595e20f5145bf56c0262cfa2daf1\n",
            "Successfully built yake fire segtok jellyfish\n",
            "Installing collected packages: fire, segtok, jellyfish, unidecode, yake\n",
            "Successfully installed fire-0.1.3 jellyfish-0.7.1 segtok-1.5.7 unidecode-1.0.23 yake-0.3.7\n"
          ],
          "name": "stdout"
        }
      ]
    },
    {
      "cell_type": "markdown",
      "metadata": {
        "id": "QzVFiLp_RS1u",
        "colab_type": "text"
      },
      "source": [
        "# Imports"
      ]
    },
    {
      "cell_type": "code",
      "metadata": {
        "id": "PynsSjOy7rN8",
        "colab_type": "code",
        "colab": {}
      },
      "source": [
        "import numpy as np\n",
        "import pandas as pd\n",
        "\n",
        "import yake"
      ],
      "execution_count": 0,
      "outputs": []
    },
    {
      "cell_type": "markdown",
      "metadata": {
        "id": "AdBFk_HsTCD_",
        "colab_type": "text"
      },
      "source": [
        "# ADS Data "
      ]
    },
    {
      "cell_type": "code",
      "metadata": {
        "id": "Xss4-oBF8CQd",
        "colab_type": "code",
        "colab": {
          "base_uri": "https://localhost:8080/",
          "height": 34
        },
        "outputId": "7f5d8bbe-c922-4d52-94bd-b0fd61858438"
      },
      "source": [
        "#ADS.xlsx\n",
        "\n",
        "df = pd.read_excel('/gdrive/My Drive/ADS.xlsx', encoding = 'latin1')\n",
        "df = df.dropna()\n",
        "print(len(df))\n",
        "\n",
        "docs = []\n",
        "\n",
        "for col in df.columns:\n",
        "  for i in range(len(df[col])):\n",
        "    docs.append(df[col][i])\n",
        "\n",
        "corpus = \"\"\n",
        "\n",
        "for doc in docs:\n",
        "  corpus += ((doc) + \" \")"
      ],
      "execution_count": 10,
      "outputs": [
        {
          "output_type": "stream",
          "text": [
            "17\n"
          ],
          "name": "stdout"
        }
      ]
    },
    {
      "cell_type": "code",
      "metadata": {
        "id": "uZSVHZNyTRpf",
        "colab_type": "code",
        "colab": {
          "base_uri": "https://localhost:8080/",
          "height": 353
        },
        "outputId": "50863b49-cce8-4c36-a4a2-133fbf334ef5"
      },
      "source": [
        "# specifying parameters, will need to tune the hyperparameters accordingly\n",
        "custom_kwextractor = yake.KeywordExtractor(lan=\"en\", n=3, dedupLim=0.9, windowsSize=6, top=20)\n",
        "keywords = custom_kwextractor.extract_keywords(str(corpus))\n",
        "\n",
        "for kw in keywords:\n",
        "\tprint(kw)"
      ],
      "execution_count": 11,
      "outputs": [
        {
          "output_type": "stream",
          "text": [
            "(-0.6248638010308375, 'student to find')\n",
            "(0.0, 'timing for live')\n",
            "(0.0, 'room for improvement')\n",
            "(0.0, 'exercises more coordination')\n",
            "(0.04198399287691157, 'learning')\n",
            "(0.05008065860318868, 'process poor presentations')\n",
            "(0.05081283661024654, 'material')\n",
            "(0.05148897238960922, 'videos')\n",
            "(0.05434072693318159, 'terrible user experience')\n",
            "(0.056882587650476525, 'market terrible user')\n",
            "(0.057744407434947694, 'assignments')\n",
            "(0.06007393513648833, 'poor')\n",
            "(0.06689194963136316, 'content')\n",
            "(0.06783174691120457, 'time')\n",
            "(0.07488652698909207, 'lectures')\n",
            "(0.0769708397021647, 'user experience')\n",
            "(0.0797438799607808, 'questions')\n",
            "(0.08091124232652877, 'video')\n",
            "(0.08700854036900052, 'messy evaluation process')\n",
            "(0.10412492260889283, 'columbia')\n"
          ],
          "name": "stdout"
        }
      ]
    },
    {
      "cell_type": "markdown",
      "metadata": {
        "id": "4yMFoSSURj6E",
        "colab_type": "text"
      },
      "source": [
        "# Demonetisation tweets data"
      ]
    },
    {
      "cell_type": "code",
      "metadata": {
        "id": "WDk8uQWVRgr0",
        "colab_type": "code",
        "colab": {
          "base_uri": "https://localhost:8080/",
          "height": 34
        },
        "outputId": "2fa4305e-6fb6-4e67-f574-cd52c6e1a03e"
      },
      "source": [
        "df = pd.read_csv('/gdrive/My Drive/demonetization_tweets.csv', encoding = 'latin1')\n",
        "df = df.dropna()\n",
        "print(len(df))\n",
        "\n",
        "docs = list(df['text'])\n",
        "\n",
        "corpus = \"\"\n",
        "\n",
        "for doc in docs:\n",
        "  corpus += (doc + \" \")"
      ],
      "execution_count": 12,
      "outputs": [
        {
          "output_type": "stream",
          "text": [
            "886\n"
          ],
          "name": "stdout"
        }
      ]
    },
    {
      "cell_type": "code",
      "metadata": {
        "id": "yAihHpMc7xXy",
        "colab_type": "code",
        "colab": {
          "base_uri": "https://localhost:8080/",
          "height": 353
        },
        "outputId": "75422719-2fbd-4038-e1c5-12f4b0a503c2"
      },
      "source": [
        "# specifying parameters\n",
        "custom_kwextractor = yake.KeywordExtractor(lan=\"en\", n=3, dedupLim=0.8, windowsSize=4, top=20)\n",
        "keywords = custom_kwextractor.extract_keywords(str(corpus))\n",
        "\n",
        "for kw in keywords:\n",
        "\tprint(kw)"
      ],
      "execution_count": 13,
      "outputs": [
        {
          "output_type": "stream",
          "text": [
            "(0.0, 'ujjwala to neem')\n",
            "(0.0, 'urea to e-mandis')\n",
            "(0.0, 'repubiicofindia mr. goswami')\n",
            "(0.0, 'modiledubega the size')\n",
            "(0.0001795029427654783, 'demonetization')\n",
            "(0.002990764007678561, 'india')\n",
            "(0.0042994352279650105, 'modi')\n",
            "(0.004504566384729245, 'money')\n",
            "(0.004922569421727868, 'narendramodi')\n",
            "(0.005233313539066513, 'black money')\n",
            "(0.0058514105224366725, 'bjp')\n",
            "(0.006457247897815655, 'post demonetization')\n",
            "(0.007787789296962952, 'people')\n",
            "(0.008890760226100417, 'supported demonetization')\n",
            "(0.009094823299036235, 'demonetization effect')\n",
            "(0.010828313511432961, 'india demonetization')\n",
            "(0.01141781454590178, 'youtube demonetization')\n",
            "(0.012285546801356498, 'black')\n",
            "(0.012502689911322208, 'cash')\n",
            "(0.012819179534735155, 'demonetization scam')\n"
          ],
          "name": "stdout"
        }
      ]
    },
    {
      "cell_type": "markdown",
      "metadata": {
        "id": "Epv7j1-5U6um",
        "colab_type": "text"
      },
      "source": [
        "# Reddit Television Data"
      ]
    },
    {
      "cell_type": "code",
      "metadata": {
        "id": "ldwbyKzBTp7_",
        "colab_type": "code",
        "colab": {
          "base_uri": "https://localhost:8080/",
          "height": 34
        },
        "outputId": "6bf3d4be-d8e0-4e5f-cb1c-48f8c3c41b15"
      },
      "source": [
        "df = pd.read_csv('/gdrive/My Drive/reddit_television.csv', encoding = 'latin1')\n",
        "df = df.dropna()\n",
        "print(len(df))\n",
        "\n",
        "docs = list(df['TEXT'])\n",
        "\n",
        "corpus = \"\"\n",
        "\n",
        "for doc in docs:\n",
        "  corpus += (doc + \" \")"
      ],
      "execution_count": 15,
      "outputs": [
        {
          "output_type": "stream",
          "text": [
            "301866\n"
          ],
          "name": "stdout"
        }
      ]
    },
    {
      "cell_type": "code",
      "metadata": {
        "id": "XM0nILkUV-gg",
        "colab_type": "code",
        "colab": {
          "base_uri": "https://localhost:8080/",
          "height": 554
        },
        "outputId": "37b219fa-d87e-40e5-aa39-2b45ac56a448"
      },
      "source": [
        "# specifying parameters\n",
        "custom_kwextractor = yake.KeywordExtractor(lan=\"en\", n=3, dedupLim=0.8, windowsSize=6, top=32)\n",
        "keywords = custom_kwextractor.extract_keywords(str(corpus))\n",
        "\n",
        "for kw in keywords:\n",
        "\tprint(kw)"
      ],
      "execution_count": 16,
      "outputs": [
        {
          "output_type": "stream",
          "text": [
            "(-0.00010776193870516731, 'pluses her minuses')\n",
            "(-8.13664532101766e-05, 'str a halfling')\n",
            "(-7.964647159373454e-05, 'fulfilled or unfulfilled')\n",
            "(-7.964647159373454e-05, 'coy and bubbly')\n",
            "(-7.964647159373454e-05, 'neighborhoods in georgia')\n",
            "(-3.6855773783164996e-05, 'affer a decimal')\n",
            "(-3.6855012829237786e-05, 'dome the slenderness')\n",
            "(-1.9308235122745864e-05, 'reuniting the remaining')\n",
            "(-1.651903710613787e-05, 'traaaaain the foreskins')\n",
            "(-1.4083856309858386e-05, 'separateddeadetc the crypts')\n",
            "(-5.893958786709857e-06, 'rdsnrk sp twibeamintensifies')\n",
            "(-2.6316403263620955e-06, 'wwwyoutubecomwatch v ugutqowzvzq')\n",
            "(-1.780133350541161e-06, 'visavis the rest')\n",
            "(-9.372196839538535e-07, 'inherited the imperial')\n",
            "(0.0, 'payroll and visibility')\n",
            "(0.0, 'floor and atrocities')\n",
            "(0.0, 'lithium and sodium')\n",
            "(0.0, 'becomeagitated i apologise')\n",
            "(0.0, 'slam at scientology')\n",
            "(0.0, 'guise of mocking')\n",
            "(0.0, 'binding the fragment')\n",
            "(0.0, 'summerfield and jago')\n",
            "(0.0, 'jago and litefoot')\n",
            "(0.0, 'joplin the beatles')\n",
            "(0.0, 'entrance to torchwoodshrine')\n",
            "(0.0, 'coordinate the troops')\n",
            "(0.0, 'resorting to cannibalism')\n",
            "(0.0, 'officialy his nephewking')\n",
            "(0.0, 'counteract the dullness')\n",
            "(0.0, 'broath the magician')\n",
            "(0.0, 'interchange the platinum')\n",
            "(0.0, 'apparatuses and woolen')\n"
          ],
          "name": "stdout"
        }
      ]
    },
    {
      "cell_type": "markdown",
      "metadata": {
        "id": "mYP_LR3BiAuK",
        "colab_type": "text"
      },
      "source": [
        "# ADS DATA sentence wise"
      ]
    },
    {
      "cell_type": "code",
      "metadata": {
        "id": "asOvq-9vV_f_",
        "colab_type": "code",
        "colab": {
          "base_uri": "https://localhost:8080/",
          "height": 34
        },
        "outputId": "b9d4648b-6912-4ecd-fcf7-770f17b1fa8e"
      },
      "source": [
        "#ADS.xlsx\n",
        "\n",
        "df = pd.read_excel('/gdrive/My Drive/ADS.xlsx', encoding = 'latin1')\n",
        "df = df.dropna()\n",
        "print(len(df))"
      ],
      "execution_count": 30,
      "outputs": [
        {
          "output_type": "stream",
          "text": [
            "17\n"
          ],
          "name": "stdout"
        }
      ]
    },
    {
      "cell_type": "code",
      "metadata": {
        "id": "BfE95g6liH6i",
        "colab_type": "code",
        "colab": {
          "base_uri": "https://localhost:8080/",
          "height": 34
        },
        "outputId": "76009482-0089-4413-ccda-4dfba1d0be49"
      },
      "source": [
        "data = pd.DataFrame(columns = ['text', 'keyword'])\n",
        "\n",
        "docs = []\n",
        "\n",
        "for col in df.columns:\n",
        "  for i in range(len(df[col])):\n",
        "    docs.append(df[col][i])\n",
        "    \n",
        "data['text'] = docs\n",
        "\n",
        "print(len(data))"
      ],
      "execution_count": 31,
      "outputs": [
        {
          "output_type": "stream",
          "text": [
            "68\n"
          ],
          "name": "stdout"
        }
      ]
    },
    {
      "cell_type": "code",
      "metadata": {
        "id": "Px146nnPiWI1",
        "colab_type": "code",
        "colab": {
          "base_uri": "https://localhost:8080/",
          "height": 195
        },
        "outputId": "dd804168-ab1a-49f1-e8c6-a1f2de11502b"
      },
      "source": [
        "data.head()"
      ],
      "execution_count": 32,
      "outputs": [
        {
          "output_type": "execute_result",
          "data": {
            "text/html": [
              "<div>\n",
              "<style scoped>\n",
              "    .dataframe tbody tr th:only-of-type {\n",
              "        vertical-align: middle;\n",
              "    }\n",
              "\n",
              "    .dataframe tbody tr th {\n",
              "        vertical-align: top;\n",
              "    }\n",
              "\n",
              "    .dataframe thead th {\n",
              "        text-align: right;\n",
              "    }\n",
              "</style>\n",
              "<table border=\"1\" class=\"dataframe\">\n",
              "  <thead>\n",
              "    <tr style=\"text-align: right;\">\n",
              "      <th></th>\n",
              "      <th>text</th>\n",
              "      <th>keyword</th>\n",
              "    </tr>\n",
              "  </thead>\n",
              "  <tbody>\n",
              "    <tr>\n",
              "      <th>0</th>\n",
              "      <td>Too costly for the same content available at v...</td>\n",
              "      <td>NaN</td>\n",
              "    </tr>\n",
              "    <tr>\n",
              "      <th>1</th>\n",
              "      <td>Need more time to complete all assignments</td>\n",
              "      <td>NaN</td>\n",
              "    </tr>\n",
              "    <tr>\n",
              "      <th>2</th>\n",
              "      <td>it is too pricy for a beginner course compared...</td>\n",
              "      <td>NaN</td>\n",
              "    </tr>\n",
              "    <tr>\n",
              "      <th>3</th>\n",
              "      <td>Terrible user experience, poor video lessons, ...</td>\n",
              "      <td>NaN</td>\n",
              "    </tr>\n",
              "    <tr>\n",
              "      <th>4</th>\n",
              "      <td>Poor presentations from content to the way the...</td>\n",
              "      <td>NaN</td>\n",
              "    </tr>\n",
              "  </tbody>\n",
              "</table>\n",
              "</div>"
            ],
            "text/plain": [
              "                                                text keyword\n",
              "0  Too costly for the same content available at v...     NaN\n",
              "1         Need more time to complete all assignments     NaN\n",
              "2  it is too pricy for a beginner course compared...     NaN\n",
              "3  Terrible user experience, poor video lessons, ...     NaN\n",
              "4  Poor presentations from content to the way the...     NaN"
            ]
          },
          "metadata": {
            "tags": []
          },
          "execution_count": 32
        }
      ]
    },
    {
      "cell_type": "code",
      "metadata": {
        "id": "TJ7SzocAiXs9",
        "colab_type": "code",
        "colab": {
          "base_uri": "https://localhost:8080/",
          "height": 185
        },
        "outputId": "4ab7155c-0b4f-40af-8022-d589c5988cc0"
      },
      "source": [
        "custom_kwextractor = yake.KeywordExtractor(lan=\"en\", n=3, dedupLim=0.85, windowsSize=3, top=2)\n",
        "\n",
        "\n",
        "for i in range(len(data)):\n",
        "  keywords = (custom_kwextractor.extract_keywords(str(data['text'][i])))\n",
        "  data['keyword'][i] = keywords"
      ],
      "execution_count": 33,
      "outputs": [
        {
          "output_type": "stream",
          "text": [
            "/usr/local/lib/python3.6/dist-packages/yake/datarepresentation.py:121: RuntimeWarning: Mean of empty slice.\n",
            "  avgTF = validTFs.mean()\n",
            "/usr/local/lib/python3.6/dist-packages/numpy/core/_methods.py:85: RuntimeWarning: invalid value encountered in double_scalars\n",
            "  ret = ret.dtype.type(ret / rcount)\n",
            "/usr/local/lib/python3.6/dist-packages/numpy/core/_methods.py:140: RuntimeWarning: Degrees of freedom <= 0 for slice\n",
            "  keepdims=keepdims)\n",
            "/usr/local/lib/python3.6/dist-packages/numpy/core/_methods.py:110: RuntimeWarning: invalid value encountered in true_divide\n",
            "  arrmean, rcount, out=arrmean, casting='unsafe', subok=False)\n",
            "/usr/local/lib/python3.6/dist-packages/numpy/core/_methods.py:132: RuntimeWarning: invalid value encountered in double_scalars\n",
            "  ret = ret.dtype.type(ret / rcount)\n"
          ],
          "name": "stderr"
        }
      ]
    },
    {
      "cell_type": "code",
      "metadata": {
        "id": "2O8Qg2e1iwvn",
        "colab_type": "code",
        "colab": {
          "base_uri": "https://localhost:8080/",
          "height": 4606
        },
        "outputId": "e60f3afd-de84-4c0d-d9e0-e1fd0f9436d8"
      },
      "source": [
        "for i in range(len(data)):\n",
        "  print(' \\n #################################################')\n",
        "  print(data['text'][i] + '\\n', data['keyword'][i])   "
      ],
      "execution_count": 39,
      "outputs": [
        {
          "output_type": "stream",
          "text": [
            " \n",
            " #################################################\n",
            "Too costly for the same content available at very low prices\n",
            " [(0.5403562279663618, 'prices'), (0.6046693478119695, 'low prices')]\n",
            " \n",
            " #################################################\n",
            "Need more time to complete all assignments\n",
            " [(0.5403562279663618, 'assignments'), (0.6823355811695586, 'complete all assignments')]\n",
            " \n",
            " #################################################\n",
            "it is too pricy for a beginner course compared to courses in market\n",
            " [(0.29736558256021506, 'market'), (0.4123991617712012, 'beginner course compared')]\n",
            " \n",
            " #################################################\n",
            "Terrible user experience, poor video lessons, messy evaluation process\n",
            " [(0.18081965066189085, 'terrible user experience'), (0.18081965066189085, 'poor video lessons')]\n",
            " \n",
            " #################################################\n",
            "Poor presentations from content to the way the get delivered. Very poor linage from theory to Python and related. Very poor linage from theory to life. Bad timing for live webinars for folks in west coast who work :-(  The training system was often broken, your guys did not have a clue how to fix, Clearly you are making money from selling high flying agenda but nit dekivering in the promise. Heard this from others and the Columbia brand is wracked \n",
            " [(0.16754195444829256, 'poor'), (0.17107050165839816, 'presentations from content')]\n",
            " \n",
            " #################################################\n",
            "There was a lack of fit between the lectures and the assignments. Often, code wouldn't work because of outdated links, etc. I feel like the staff should have been more coordinated and more attention should have been paid to the content so that everything worked seamlessly. Often, necessary files would have to be asked for directly in the discussion groups.\n",
            " [(0.1282381832006085, 'lack of fit'), (0.19599410118778635, 'assignments')]\n",
            " \n",
            " #################################################\n",
            "This course has a unique way of teaching concepts.\n",
            " [(0.5403562279663618, 'concepts'), (0.6046693478119695, 'teaching concepts')]\n",
            " \n",
            " #################################################\n",
            "I may not recommended due to lack of the integration of the course content.\n",
            " [(0.29736558256021506, 'content'), (0.4123991617712012, 'recommended due')]\n",
            " \n",
            " #################################################\n",
            "Although its an applied course it attempts to cover too much. A bunch of old and random lecture videos from columbia thrown together to attempt to cover material. Result is a bunch of holes in the content. Best part are webinars but those are often mismatching lecture material. Assignments near the end didnt test much.\n",
            " [(0.3470971644089595, 'cover'), (0.4005588123823748, 'material')]\n",
            " \n",
            " #################################################\n",
            "You tried to cover way too much material in too short a time.  The result was that the learning was superficial and not useful in practical settings.  Also, the staff was extremely unhelpful.  Questions on the blog went unanswered for many days, office hours were scheduled at 5am on saturday mornings, direct questions were not answered.  I liked the teachers, but they were given a no win task.\n",
            " [(0.087270390876366, 'short a time'), (0.23076615573841996, 'time')]\n",
            " \n",
            " #################################################\n",
            "All this course does is introduce someone to concepts. There is absolutely not a course for learning and applying material, as you can barely pay attention week to week and pass 100%.\n",
            " [(0.40657088960425847, 'concepts'), (0.4469947842842136, 'week')]\n",
            " \n",
            " #################################################\n",
            "lectures and HW covering different topics, logistics disorganization, not effective teaching, correct answers marked wrong in hw due to poor instructions, way more expensive than alternatives and much much worse quality.\n",
            " [(0.02570861714399338, 'logistics disorganization'), (0.07243705238449377, 'effective teaching')]\n",
            " \n",
            " #################################################\n",
            "The course is not very well organized. Videos to not complete the material. Some of the provided codes do not work and have not been updated. \n",
            " [(0.2200560909321288, 'organized'), (0.47368065192343695, 'complete the material')]\n",
            " \n",
            " #################################################\n",
            "It was not ready for prime time...\n",
            " [(0.5403562279663618, 'time'), (0.6046693478119695, 'prime time')]\n",
            " \n",
            " #################################################\n",
            "It had a rough start, felt improvised\n",
            " [(0.09700399286574239, 'felt improvised'), (0.29736558256021506, 'felt')]\n",
            " \n",
            " #################################################\n",
            "I found the word \"applied\" shouldn't be put in the course title\n",
            " [(0.04491197687864554, 'applied'), (0.12194030148356644, 'found the word')]\n",
            " \n",
            " #################################################\n",
            "Very unorganized, too expensive for the poor delivery. Lessons are poor.\n",
            " [(0.2505951825352756, 'unorganized'), (0.39143707283021917, 'poor')]\n",
            " \n",
            " #################################################\n",
            "Course material should include the slides and notes used by the faculty. Would help speed up learning and completing the assignments\n",
            " [(0.19759777545754761, 'material should include'), (0.2544873052399787, 'faculty')]\n",
            " \n",
            " #################################################\n",
            "There is a lots of practical matters that needs to continue righ now. It's a foolish to denies it and consider all as strongly met. This set is all over me now.\n",
            " [(0.453200444913377, 'continue righ'), (0.5302018946825588, 'righ')]\n",
            " \n",
            " #################################################\n",
            "Quizzes should have been more structured. New questions should be introduced for each attempt.\n",
            " [(0.36073110501666333, 'quizzes'), (0.36073110501666333, 'structured')]\n",
            " \n",
            " #################################################\n",
            "as I explained in details by email, videos should be downloadable. Just go to the partner (Columbia Engineering) and say 80% of students require to download videos. You, Emeritus and Columbia Eng., both damage your brand keeping the illusion that if a student want to spread the material you stop him just disabling video download. I will download everything in any case, but you are provide a terrible CX. \n",
            " [(0.149064919138798, 'columbia engineering'), (0.24063006877141258, 'columbia')]\n",
            " \n",
            " #################################################\n",
            "While the content was useful, and I did learn a great deal. I feel that it was greatly disorganized at times. Entirely too many instances where the lecture videos and the follow along notebooks were stale and did not work properly as a result.\n",
            " [(0.12075685008316002, 'great deal'), (0.23305463949035546, 'learn a great')]\n",
            " \n",
            " #################################################\n",
            "Support team was completely unresponsive and unhelpful.  The text in the videos was too small to view on the mobile app.  The blogs were nearly completely un-monitored.  The one thing we all learned very quickly was that questions posted on the blog would not get answered in a timely fashion.\n",
            " [(0.06302456753335604, 'support team'), (0.07107847459370088, 'unresponsive and unhelpful')]\n",
            " \n",
            " #################################################\n",
            "would be nice if you can watch videos offline\n",
            " [(0.5403562279663618, 'offline'), (0.6046693478119695, 'videos offline')]\n",
            " \n",
            " #################################################\n",
            "The quizzes addressed material that was not covered in the lectures.  It would have been more beneficial to include other resources we could go to to find answers, rather than just leave it to the student to find resources to answer the quiz assessments. \n",
            " [(0.027948245345284405, 'quizzes addressed material'), (0.07701535548062206, 'quizzes addressed')]\n",
            " \n",
            " #################################################\n",
            "The platform gets hard to use when there are more modules -- after week 5 it became tedious to navigate\n",
            " [(0.14635966861264363, 'tedious to navigate'), (0.29736558256021506, 'modules')]\n",
            " \n",
            " #################################################\n",
            "There is room for improvement for sure. But ultimately a good course.\n",
            " [(0.0, 'room for improvement'), (0.47952459796827895, 'room')]\n",
            " \n",
            " #################################################\n",
            "The quizzes were great, but most of them lack explanations.\n",
            " [(0.5144487134122957, 'quizzes were great'), (0.5403562279663618, 'great')]\n",
            " \n",
            " #################################################\n",
            "This is a very poor learning platform when compared to, for example, Coursera\n",
            " [(0.030396371632413578, 'coursera'), (0.6973522965485046, 'compared')]\n",
            " \n",
            " #################################################\n",
            "Most of the time, I feel like individual learning.\n",
            " [(0.5403562279663618, 'time'), (0.5403562279663618, 'learning')]\n",
            " \n",
            " #################################################\n",
            "The mobile app is useless.\n",
            " [(0.5403562279663618, 'useless'), (0.6046693478119695, 'app is useless')]\n",
            " \n",
            " #################################################\n",
            "I see strengths of this platform are Website, Vocarium, Course Leaders, Webinars, Lectures and assignments.\n",
            " [(0.030396371632413578, 'vocarium'), (0.030396371632413578, 'webinars')]\n",
            " \n",
            " #################################################\n",
            "In general, I have not had any big issues with the support or the platform. There were some issue in the grading system, but in the end, nothing that would change my general opinion.\n",
            " [(0.2505951825352756, 'platform'), (0.2570338736554338, 'general')]\n",
            " \n",
            " #################################################\n",
            "I wish there could have exam submission per Question. And quiz after every section of the module.\n",
            " [(0.2656359403467872, 'question'), (0.270072593596737, 'submission per question')]\n",
            " \n",
            " #################################################\n",
            "Assignment 2 because it challenged me.\n",
            " [(0.4293483694404343, 'assignment'), (0.6286477325744138, 'challenged')]\n",
            " \n",
            " #################################################\n",
            "Great quality video lectures.  Instructors were knowledgeable and content was very good.\n",
            " [(0.6105105737077212, 'great'), (0.6105105737077212, 'lectures')]\n",
            " \n",
            " #################################################\n",
            "Got to learn using Videos and practice using downloaded notebooks at my own pace and free time at work.\n",
            " [(0.13978348466756949, 'learn using videos'), (0.15722416079190968, 'videos and practice')]\n",
            " \n",
            " #################################################\n",
            "Quality content in the videos\n",
            " [(0.5403562279663618, 'quality'), (0.5403562279663618, 'videos')]\n",
            " \n",
            " #################################################\n",
            "It is not my intention to be a high level programmer but to have the knowledge that I can bridge the gap between customer and engineer. This course has provided me with the basic knowledge which can help me do this.\n",
            " [(0.1569154636024662, 'customer and engineer'), (0.2682031132780301, 'high level programmer')]\n",
            " \n",
            " #################################################\n",
            "regression, probability\n",
            " [(0.04491197687864554, 'regression'), (0.04491197687864554, 'probability')]\n",
            " \n",
            " #################################################\n",
            "Exposed me to python, sql, data mining, statistical analysis\n",
            " [(0.04491197687864554, 'sql'), (0.09700399286574239, 'data mining')]\n",
            " \n",
            " #################################################\n",
            "The classes about statistics and machine learning.\n",
            " [(0.5403562279663618, 'learning'), (0.6046693478119695, 'machine learning')]\n",
            " \n",
            " #################################################\n",
            "The text mining module was enlightening, very well explained and the resources and potentialities of the tool very well explained.\n",
            " [(0.07025008135873993, 'text mining module'), (0.09777593969642724, 'module was enlightening')]\n",
            " \n",
            " #################################################\n",
            "The course helped me to understand the Data science concepts and having practicals thru Vocureum platform\n",
            " [(0.06340461682679863, 'vocureum platform'), (0.12151091949395214, 'practicals thru vocureum')]\n",
            " \n",
            " #################################################\n",
            "The video explanation was pretty good , clear communication helped .\n",
            " [(0.18081965066189085, 'clear communication helped'), (0.30208513962778555, 'clear communication')]\n",
            " \n",
            " #################################################\n",
            "I enjoyed working on the assignments after the video lectures. I also liked how the assignment submission is unlimited which gives me more confident in trying out various attempts and learn from my failures.\n",
            " [(0.13686773339627584, 'video lectures'), (0.23156239978255636, 'enjoyed working')]\n",
            " \n",
            " #################################################\n",
            "Good pace and great assignments \n",
            " [(0.5403562279663618, 'good'), (0.5403562279663618, 'assignments')]\n",
            " \n",
            " #################################################\n",
            "Got a good understanding of Python and Machine Learning\n",
            " [(0.09306987729373863, 'machine learning'), (0.16084927923869363, 'python and machine')]\n",
            " \n",
            " #################################################\n",
            "Coding part.. \n",
            " [(0.09700399286574239, 'coding part.'), (0.29736558256021506, 'coding')]\n",
            " \n",
            " #################################################\n",
            "exposure to methods and software tools I was not familiar with\n",
            " [(0.5403562279663618, 'exposure'), (0.6823355811695586, 'exposure to methods')]\n",
            " \n",
            " #################################################\n",
            "I liked the video narrations and examples quoted\n",
            " [(0.5403562279663618, 'quoted'), (0.7920538372289091, 'video')]\n",
            " \n",
            " #################################################\n",
            "A more intensive load.\n",
            " [(0.5144487134122957, 'intensive load'), (0.5403562279663618, 'load')]\n",
            " \n",
            " #################################################\n",
            "I am not sure.  I think I under estimated amount of time needed each week.  That set me back quite a bit.\n",
            " [(0.5715062931311716, 'week'), (0.6602334202674192, 'bit')]\n",
            " \n",
            " #################################################\n",
            "More practice questions for each topic not as assignment but for individual learning to make topics thorough. Also some extra learning or reading material about the topic.\n",
            " [(0.29967829921687195, 'practice questions'), (0.40827518275135144, 'learning')]\n",
            " \n",
            " #################################################\n",
            "Lower the price or more value to the certificate\n",
            " [(0.16965211729894875, 'lower the price'), (0.29736558256021506, 'lower')]\n",
            " \n",
            " #################################################\n",
            "Maybe a little more instruction and facilitation at the beginning of the course on the setup of the programming environment. In my case, many times I was blocked by firewalls in my company and had to just watch the videos with being able to work along.\n",
            " [(0.04091722652055599, 'programming environment'), (0.0972255959392662, 'instruction and facilitation')]\n",
            " \n",
            " #################################################\n",
            "hands on activity\n",
            " [(0.22600106342138332, 'hands on activity'), (0.4293483694404343, 'hands')]\n",
            " \n",
            " #################################################\n",
            "Provide course material should include the slides and notes used by the faculty. Would help speed up learning and completing the assignments. Lost valuable time to understand the technical environment for the assignments. Need to recommend a learning friendly book as related to the course.\n",
            " [(0.07175126714196053, 'provide course material'), (0.12224196812475585, 'material should include')]\n",
            " \n",
            " #################################################\n",
            "In statistic matters and machine learning.\n",
            " [(0.5403562279663618, 'learning'), (0.6046693478119695, 'machine learning')]\n",
            " \n",
            " #################################################\n",
            "The examples with API aplications could be better prepared, in this part the video need an update.\n",
            " [(0.15722416079190968, 'api aplications'), (0.25143262618563705, 'api')]\n",
            " \n",
            " #################################################\n",
            "Need more simplified videos for all concepts\n",
            " [(0.5403562279663618, 'concepts'), (0.750594239386197, 'simplified')]\n",
            " \n",
            " #################################################\n",
            "for working professionals the course seems like a real stretch , can we look at relaxing the time between the assignments and the next course? The course becomes a lot more effective when we get a bit of practical usage in real life before giving the exam - so for me it would have been a bit of time between the modules to use the learning .    \n",
            " [(0.04736418039814209, 'working professionals'), (0.07158547036230317, 'real stretch')]\n",
            " \n",
            " #################################################\n",
            "There's a lack in responding to questions and requests on the discussion board. I understand that the office hours are made to deal with questions, but because participants in this course are global, leaving answers and clarifications in the discussion boards will be much more helpful.\n",
            " [(0.3352347704481643, 'lack in responding'), (0.34376078803470217, 'discussion')]\n",
            " \n",
            " #################################################\n",
            "Better evaluation systems\n",
            " [(0.30208513962778555, 'evaluation systems'), (0.4293483694404343, 'systems')]\n",
            " \n",
            " #################################################\n",
            "Well defined course materials and support labs, modern implementation and not sluggish dated delivery of the 80s, you guys are over the hill and it shows. Learn from Berkeley, Stanford, MIT\n",
            " [(0.10108086007727454, 'support labs'), (0.10108086007727454, 'modern implementation')]\n",
            " \n",
            " #################################################\n",
            "Nothing \n",
            " []\n",
            " \n",
            " #################################################\n",
            "More working exercises\n",
            " [(0.30208513962778555, 'working exercises'), (0.4293483694404343, 'exercises')]\n",
            " \n",
            " #################################################\n",
            "More coordination between the lectures and the supporting course material\n",
            " [(0.16965211729894875, 'supporting course material'), (0.29736558256021506, 'material')]\n"
          ],
          "name": "stdout"
        }
      ]
    },
    {
      "cell_type": "code",
      "metadata": {
        "id": "IfeDuWWXjOjv",
        "colab_type": "code",
        "colab": {}
      },
      "source": [
        "data.to_csv('/gdrive/My Drive/ads_yake_keywords.csv', index=False)"
      ],
      "execution_count": 0,
      "outputs": []
    }
  ]
}