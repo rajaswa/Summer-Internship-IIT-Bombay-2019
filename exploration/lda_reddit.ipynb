{
  "nbformat": 4,
  "nbformat_minor": 0,
  "metadata": {
    "colab": {
      "name": "lda_reddit.ipynb",
      "version": "0.3.2",
      "provenance": [],
      "collapsed_sections": [],
      "include_colab_link": true
    },
    "kernelspec": {
      "name": "python3",
      "display_name": "Python 3"
    }
  },
  "cells": [
    {
      "cell_type": "markdown",
      "metadata": {
        "id": "view-in-github",
        "colab_type": "text"
      },
      "source": [
        "<a href=\"https://colab.research.google.com/github/rajaswa/Summer-Internship-IIT-Bombay-2019/blob/master/lda_reddit.ipynb\" target=\"_parent\"><img src=\"https://colab.research.google.com/assets/colab-badge.svg\" alt=\"Open In Colab\"/></a>"
      ]
    },
    {
      "cell_type": "markdown",
      "metadata": {
        "id": "OqGsPtSfoCEo",
        "colab_type": "text"
      },
      "source": [
        "# Dowloading Data"
      ]
    },
    {
      "cell_type": "code",
      "metadata": {
        "id": "6un4Slr3e6ci",
        "colab_type": "code",
        "colab": {
          "base_uri": "https://localhost:8080/",
          "height": 202
        },
        "outputId": "e1f83c3b-f874-421f-9e23-240fae561832"
      },
      "source": [
        "!wget --header=\"Host: codeload.github.com\" --header=\"User-Agent: Mozilla/5.0 (Windows NT 10.0; Win64; x64) AppleWebKit/537.36 (KHTML, like Gecko) Chrome/74.0.3729.131 Safari/537.36\" --header=\"Accept: text/html,application/xhtml+xml,application/xml;q=0.9,image/webp,image/apng,*/*;q=0.8,application/signed-exchange;v=b3\" --header=\"Accept-Language: en-US,en;q=0.9,lb;q=0.8\" --header=\"Referer: https://github.com/linanqiu/reddit-dataset\" --header=\"Cookie: _octo=GH1.1.1541950956.1513609300; _ga=GA1.2.2088113052.1513609300; logged_in=yes; dotcom_user=rajaswa; _gat=1\" --header=\"Connection: keep-alive\" \"https://codeload.github.com/linanqiu/reddit-dataset/zip/master\" -O \"CurlWget1684\" -c"
      ],
      "execution_count": 1,
      "outputs": [
        {
          "output_type": "stream",
          "text": [
            "--2019-05-17 13:06:25--  https://codeload.github.com/linanqiu/reddit-dataset/zip/master\n",
            "Resolving codeload.github.com (codeload.github.com)... 192.30.253.120\n",
            "Connecting to codeload.github.com (codeload.github.com)|192.30.253.120|:443... connected.\n",
            "HTTP request sent, awaiting response... 200 OK\n",
            "Length: unspecified [application/zip]\n",
            "Saving to: ‘CurlWget1684’\n",
            "\n",
            "CurlWget1684            [                 <=>] 242.66M  6.30MB/s    in 41s     \n",
            "\n",
            "2019-05-17 13:07:06 (5.98 MB/s) - ‘CurlWget1684’ saved [254445121]\n",
            "\n"
          ],
          "name": "stdout"
        }
      ]
    },
    {
      "cell_type": "code",
      "metadata": {
        "id": "pxaosUbvgOoW",
        "colab_type": "code",
        "colab": {
          "base_uri": "https://localhost:8080/",
          "height": 974
        },
        "outputId": "cd222b7c-5fec-4bef-9619-08d64f7c38be"
      },
      "source": [
        "!unzip CurlWget1684"
      ],
      "execution_count": 2,
      "outputs": [
        {
          "output_type": "stream",
          "text": [
            "Archive:  CurlWget1684\n",
            "d2f7dc81c1bae4238805ed5b20fdaaee45f71cde\n",
            "   creating: reddit-dataset-master/\n",
            " extracting: reddit-dataset-master/.gitignore  \n",
            "  inflating: reddit-dataset-master/README.md  \n",
            "  inflating: reddit-dataset-master/entertainment_anime.csv  \n",
            "  inflating: reddit-dataset-master/entertainment_comicbooks.csv  \n",
            "  inflating: reddit-dataset-master/entertainment_harrypotter.csv  \n",
            "  inflating: reddit-dataset-master/entertainment_movies.csv  \n",
            "  inflating: reddit-dataset-master/entertainment_music.csv  \n",
            "  inflating: reddit-dataset-master/entertainment_starwars.csv  \n",
            "  inflating: reddit-dataset-master/gaming_dota2.csv  \n",
            "  inflating: reddit-dataset-master/gaming_gaming.csv  \n",
            "  inflating: reddit-dataset-master/gaming_leagueoflegends.csv  \n",
            "  inflating: reddit-dataset-master/gaming_minecraft.csv  \n",
            "  inflating: reddit-dataset-master/gaming_pokemon.csv  \n",
            "  inflating: reddit-dataset-master/gaming_skyrim.csv  \n",
            "  inflating: reddit-dataset-master/gaming_starcraft.csv  \n",
            "  inflating: reddit-dataset-master/gaming_tf2.csv  \n",
            "  inflating: reddit-dataset-master/headers.txt  \n",
            "  inflating: reddit-dataset-master/humor_adviceanimals.csv  \n",
            "  inflating: reddit-dataset-master/humor_circlejerk.csv  \n",
            "  inflating: reddit-dataset-master/humor_facepalm.csv  \n",
            "  inflating: reddit-dataset-master/humor_funny.csv  \n",
            "  inflating: reddit-dataset-master/humor_imgoingtohellforthis.csv  \n",
            "  inflating: reddit-dataset-master/humor_jokes.csv  \n",
            "  inflating: reddit-dataset-master/learning_askhistorians.csv  \n",
            "  inflating: reddit-dataset-master/learning_askscience.csv  \n",
            "  inflating: reddit-dataset-master/learning_explainlikeimfive.csv  \n",
            "  inflating: reddit-dataset-master/learning_science.csv  \n",
            "  inflating: reddit-dataset-master/learning_space.csv  \n",
            "  inflating: reddit-dataset-master/learning_todayilearned.csv  \n",
            "  inflating: reddit-dataset-master/learning_youshouldknow.csv  \n",
            "  inflating: reddit-dataset-master/lifestyle_drunk.csv  \n",
            "  inflating: reddit-dataset-master/lifestyle_food.csv  \n",
            "  inflating: reddit-dataset-master/lifestyle_frugal.csv  \n",
            "  inflating: reddit-dataset-master/lifestyle_guns.csv  \n",
            "  inflating: reddit-dataset-master/lifestyle_lifehacks.csv  \n",
            "  inflating: reddit-dataset-master/lifestyle_motorcycles.csv  \n",
            "  inflating: reddit-dataset-master/lifestyle_progresspics.csv  \n",
            "  inflating: reddit-dataset-master/lifestyle_sex.csv  \n",
            "  inflating: reddit-dataset-master/news_conservative.csv  \n",
            "  inflating: reddit-dataset-master/news_conspiracy.csv  \n",
            "  inflating: reddit-dataset-master/news_libertarian.csv  \n",
            "  inflating: reddit-dataset-master/news_news.csv  \n",
            "  inflating: reddit-dataset-master/news_offbeat.csv  \n",
            "  inflating: reddit-dataset-master/news_politics.csv  \n",
            "  inflating: reddit-dataset-master/news_truereddit.csv  \n",
            "  inflating: reddit-dataset-master/news_worldnews.csv  \n",
            "  inflating: reddit-dataset-master/television_breakingbad.csv  \n",
            "  inflating: reddit-dataset-master/television_community.csv  \n",
            "  inflating: reddit-dataset-master/television_doctorwho.csv  \n",
            "  inflating: reddit-dataset-master/television_gameofthrones.csv  \n",
            "  inflating: reddit-dataset-master/television_himym.csv  \n",
            "  inflating: reddit-dataset-master/television_mylittlepony.csv  \n",
            "  inflating: reddit-dataset-master/television_startrek.csv  \n",
            "  inflating: reddit-dataset-master/television_thewalkingdead.csv  \n"
          ],
          "name": "stdout"
        }
      ]
    },
    {
      "cell_type": "code",
      "metadata": {
        "id": "vj5s-GyBf9fe",
        "colab_type": "code",
        "colab": {
          "base_uri": "https://localhost:8080/",
          "height": 622
        },
        "outputId": "082ee5ca-d565-40f9-dfaf-a2b252b10b97"
      },
      "source": [
        "!ls -R"
      ],
      "execution_count": 3,
      "outputs": [
        {
          "output_type": "stream",
          "text": [
            ".:\n",
            "CurlWget1684  reddit-dataset-master  sample_data\n",
            "\n",
            "./reddit-dataset-master:\n",
            "entertainment_anime.csv\t\tlearning_youshouldknow.csv\n",
            "entertainment_comicbooks.csv\tlifestyle_drunk.csv\n",
            "entertainment_harrypotter.csv\tlifestyle_food.csv\n",
            "entertainment_movies.csv\tlifestyle_frugal.csv\n",
            "entertainment_music.csv\t\tlifestyle_guns.csv\n",
            "entertainment_starwars.csv\tlifestyle_lifehacks.csv\n",
            "gaming_dota2.csv\t\tlifestyle_motorcycles.csv\n",
            "gaming_gaming.csv\t\tlifestyle_progresspics.csv\n",
            "gaming_leagueoflegends.csv\tlifestyle_sex.csv\n",
            "gaming_minecraft.csv\t\tnews_conservative.csv\n",
            "gaming_pokemon.csv\t\tnews_conspiracy.csv\n",
            "gaming_skyrim.csv\t\tnews_libertarian.csv\n",
            "gaming_starcraft.csv\t\tnews_news.csv\n",
            "gaming_tf2.csv\t\t\tnews_offbeat.csv\n",
            "headers.txt\t\t\tnews_politics.csv\n",
            "humor_adviceanimals.csv\t\tnews_truereddit.csv\n",
            "humor_circlejerk.csv\t\tnews_worldnews.csv\n",
            "humor_facepalm.csv\t\tREADME.md\n",
            "humor_funny.csv\t\t\ttelevision_breakingbad.csv\n",
            "humor_imgoingtohellforthis.csv\ttelevision_community.csv\n",
            "humor_jokes.csv\t\t\ttelevision_doctorwho.csv\n",
            "learning_askhistorians.csv\ttelevision_gameofthrones.csv\n",
            "learning_askscience.csv\t\ttelevision_himym.csv\n",
            "learning_explainlikeimfive.csv\ttelevision_mylittlepony.csv\n",
            "learning_science.csv\t\ttelevision_startrek.csv\n",
            "learning_space.csv\t\ttelevision_thewalkingdead.csv\n",
            "learning_todayilearned.csv\n",
            "\n",
            "./sample_data:\n",
            "anscombe.json\t\t      mnist_test.csv\n",
            "california_housing_test.csv   mnist_train_small.csv\n",
            "california_housing_train.csv  README.md\n"
          ],
          "name": "stdout"
        }
      ]
    },
    {
      "cell_type": "markdown",
      "metadata": {
        "id": "_o_zy6m8oGXQ",
        "colab_type": "text"
      },
      "source": [
        "# Installing dependencies"
      ]
    },
    {
      "cell_type": "code",
      "metadata": {
        "id": "gy9KvLOdhu0c",
        "colab_type": "code",
        "colab": {
          "base_uri": "https://localhost:8080/",
          "height": 521
        },
        "outputId": "f7535a6f-d316-470f-fd8d-01352bbd24c1"
      },
      "source": [
        "!pip install pyLDAvis"
      ],
      "execution_count": 4,
      "outputs": [
        {
          "output_type": "stream",
          "text": [
            "Collecting pyLDAvis\n",
            "\u001b[?25l  Downloading https://files.pythonhosted.org/packages/a5/3a/af82e070a8a96e13217c8f362f9a73e82d61ac8fff3a2561946a97f96266/pyLDAvis-2.1.2.tar.gz (1.6MB)\n",
            "\u001b[K     |████████████████████████████████| 1.6MB 2.9MB/s \n",
            "\u001b[?25hRequirement already satisfied: wheel>=0.23.0 in /usr/local/lib/python3.6/dist-packages (from pyLDAvis) (0.33.4)\n",
            "Requirement already satisfied: numpy>=1.9.2 in /usr/local/lib/python3.6/dist-packages (from pyLDAvis) (1.16.3)\n",
            "Requirement already satisfied: scipy>=0.18.0 in /usr/local/lib/python3.6/dist-packages (from pyLDAvis) (1.2.1)\n",
            "Requirement already satisfied: pandas>=0.17.0 in /usr/local/lib/python3.6/dist-packages (from pyLDAvis) (0.24.2)\n",
            "Requirement already satisfied: joblib>=0.8.4 in /usr/local/lib/python3.6/dist-packages (from pyLDAvis) (0.12.5)\n",
            "Requirement already satisfied: jinja2>=2.7.2 in /usr/local/lib/python3.6/dist-packages (from pyLDAvis) (2.10.1)\n",
            "Requirement already satisfied: numexpr in /usr/local/lib/python3.6/dist-packages (from pyLDAvis) (2.6.9)\n",
            "Requirement already satisfied: pytest in /usr/local/lib/python3.6/dist-packages (from pyLDAvis) (3.6.4)\n",
            "Requirement already satisfied: future in /usr/local/lib/python3.6/dist-packages (from pyLDAvis) (0.16.0)\n",
            "Collecting funcy (from pyLDAvis)\n",
            "  Downloading https://files.pythonhosted.org/packages/b3/23/d1f90f4e2af5f9d4921ab3797e33cf0503e3f130dd390a812f3bf59ce9ea/funcy-1.12-py2.py3-none-any.whl\n",
            "Requirement already satisfied: pytz>=2011k in /usr/local/lib/python3.6/dist-packages (from pandas>=0.17.0->pyLDAvis) (2018.9)\n",
            "Requirement already satisfied: python-dateutil>=2.5.0 in /usr/local/lib/python3.6/dist-packages (from pandas>=0.17.0->pyLDAvis) (2.5.3)\n",
            "Requirement already satisfied: MarkupSafe>=0.23 in /usr/local/lib/python3.6/dist-packages (from jinja2>=2.7.2->pyLDAvis) (1.1.1)\n",
            "Requirement already satisfied: atomicwrites>=1.0 in /usr/local/lib/python3.6/dist-packages (from pytest->pyLDAvis) (1.3.0)\n",
            "Requirement already satisfied: py>=1.5.0 in /usr/local/lib/python3.6/dist-packages (from pytest->pyLDAvis) (1.8.0)\n",
            "Requirement already satisfied: attrs>=17.4.0 in /usr/local/lib/python3.6/dist-packages (from pytest->pyLDAvis) (19.1.0)\n",
            "Requirement already satisfied: more-itertools>=4.0.0 in /usr/local/lib/python3.6/dist-packages (from pytest->pyLDAvis) (7.0.0)\n",
            "Requirement already satisfied: six>=1.10.0 in /usr/local/lib/python3.6/dist-packages (from pytest->pyLDAvis) (1.12.0)\n",
            "Requirement already satisfied: pluggy<0.8,>=0.5 in /usr/local/lib/python3.6/dist-packages (from pytest->pyLDAvis) (0.7.1)\n",
            "Requirement already satisfied: setuptools in /usr/local/lib/python3.6/dist-packages (from pytest->pyLDAvis) (41.0.1)\n",
            "Building wheels for collected packages: pyLDAvis\n",
            "  Building wheel for pyLDAvis (setup.py) ... \u001b[?25l\u001b[?25hdone\n",
            "  Stored in directory: /root/.cache/pip/wheels/98/71/24/513a99e58bb6b8465bae4d2d5e9dba8f0bef8179e3051ac414\n",
            "Successfully built pyLDAvis\n",
            "Installing collected packages: funcy, pyLDAvis\n",
            "Successfully installed funcy-1.12 pyLDAvis-2.1.2\n"
          ],
          "name": "stdout"
        }
      ]
    },
    {
      "cell_type": "code",
      "metadata": {
        "id": "hGYyxROhgSZg",
        "colab_type": "code",
        "colab": {
          "base_uri": "https://localhost:8080/",
          "height": 205
        },
        "outputId": "ea3782df-53a1-4dc9-e917-b8f5c0c54afa"
      },
      "source": [
        "import nltk\n",
        "nltk.download('stopwords')\n",
        "\n",
        "!python3 -m spacy download en"
      ],
      "execution_count": 5,
      "outputs": [
        {
          "output_type": "stream",
          "text": [
            "[nltk_data] Downloading package stopwords to /root/nltk_data...\n",
            "[nltk_data]   Unzipping corpora/stopwords.zip.\n",
            "Requirement already satisfied: en_core_web_sm==2.0.0 from https://github.com/explosion/spacy-models/releases/download/en_core_web_sm-2.0.0/en_core_web_sm-2.0.0.tar.gz#egg=en_core_web_sm==2.0.0 in /usr/local/lib/python3.6/dist-packages (2.0.0)\n",
            "\n",
            "\u001b[93m    Linking successful\u001b[0m\n",
            "    /usr/local/lib/python3.6/dist-packages/en_core_web_sm -->\n",
            "    /usr/local/lib/python3.6/dist-packages/spacy/data/en\n",
            "\n",
            "    You can now load the model via spacy.load('en')\n",
            "\n"
          ],
          "name": "stdout"
        }
      ]
    },
    {
      "cell_type": "markdown",
      "metadata": {
        "id": "N1iD_wHHoKT2",
        "colab_type": "text"
      },
      "source": [
        "# Imports"
      ]
    },
    {
      "cell_type": "code",
      "metadata": {
        "id": "Hcnq6WHUhgpf",
        "colab_type": "code",
        "colab": {}
      },
      "source": [
        "import re\n",
        "import numpy as np\n",
        "import pandas as pd\n",
        "from pprint import pprint\n",
        "\n",
        "# Gensim\n",
        "import gensim\n",
        "import gensim.corpora as corpora\n",
        "from gensim.utils import simple_preprocess\n",
        "from gensim.models import CoherenceModel\n",
        "\n",
        "# spacy for lemmatization\n",
        "import spacy\n",
        "\n",
        "# Plotting tools\n",
        "import pyLDAvis\n",
        "import pyLDAvis.gensim  # don't skip this\n",
        "import matplotlib.pyplot as plt\n",
        "%matplotlib inline\n",
        "\n",
        "import warnings\n",
        "warnings.filterwarnings(\"ignore\",category=DeprecationWarning)"
      ],
      "execution_count": 0,
      "outputs": []
    },
    {
      "cell_type": "code",
      "metadata": {
        "id": "pi75S4_jhnq_",
        "colab_type": "code",
        "colab": {}
      },
      "source": [
        "# NLTK Stop words\n",
        "from nltk.corpus import stopwords\n",
        "stop_words = stopwords.words('english')"
      ],
      "execution_count": 0,
      "outputs": []
    },
    {
      "cell_type": "markdown",
      "metadata": {
        "id": "oRVWuqJHoNd4",
        "colab_type": "text"
      },
      "source": [
        "# Data loading & preprocessing"
      ]
    },
    {
      "cell_type": "code",
      "metadata": {
        "id": "JqVS6z-Ylbjp",
        "colab_type": "code",
        "colab": {
          "base_uri": "https://localhost:8080/",
          "height": 656
        },
        "outputId": "633dd531-7db8-4456-d2dd-269cb00e7ed1"
      },
      "source": [
        "#loading as pandas dataframe\n",
        "\n",
        "df = pd.read_csv('./reddit-dataset-master/news_politics.csv')\n",
        "df = df.dropna()\n",
        "print(len(df))\n",
        "df[:20]"
      ],
      "execution_count": 8,
      "outputs": [
        {
          "output_type": "stream",
          "text": [
            "85982\n"
          ],
          "name": "stdout"
        },
        {
          "output_type": "execute_result",
          "data": {
            "text/html": [
              "<div>\n",
              "<style scoped>\n",
              "    .dataframe tbody tr th:only-of-type {\n",
              "        vertical-align: middle;\n",
              "    }\n",
              "\n",
              "    .dataframe tbody tr th {\n",
              "        vertical-align: top;\n",
              "    }\n",
              "\n",
              "    .dataframe thead th {\n",
              "        text-align: right;\n",
              "    }\n",
              "</style>\n",
              "<table border=\"1\" class=\"dataframe\">\n",
              "  <thead>\n",
              "    <tr style=\"text-align: right;\">\n",
              "      <th></th>\n",
              "      <th>Unnamed: 0</th>\n",
              "      <th>0</th>\n",
              "      <th>1</th>\n",
              "      <th>2</th>\n",
              "      <th>3</th>\n",
              "      <th>4</th>\n",
              "      <th>5</th>\n",
              "      <th>6</th>\n",
              "      <th>7</th>\n",
              "      <th>8</th>\n",
              "      <th>9</th>\n",
              "      <th>10</th>\n",
              "    </tr>\n",
              "  </thead>\n",
              "  <tbody>\n",
              "    <tr>\n",
              "      <th>0</th>\n",
              "      <td>0</td>\n",
              "      <td>disclaimer  i think obama should nominate some...</td>\n",
              "      <td>d028c5d</td>\n",
              "      <td>politics</td>\n",
              "      <td>news</td>\n",
              "      <td>1.455651e+09</td>\n",
              "      <td>degausse</td>\n",
              "      <td>3.0</td>\n",
              "      <td>0.0</td>\n",
              "      <td>1</td>\n",
              "      <td>1941</td>\n",
              "      <td>0.0</td>\n",
              "    </tr>\n",
              "    <tr>\n",
              "      <th>2</th>\n",
              "      <td>2</td>\n",
              "      <td>either way the process will be dragged out unt...</td>\n",
              "      <td>d026od6</td>\n",
              "      <td>politics</td>\n",
              "      <td>news</td>\n",
              "      <td>1.455648e+09</td>\n",
              "      <td>cyberspyder</td>\n",
              "      <td>5.0</td>\n",
              "      <td>0.0</td>\n",
              "      <td>1300</td>\n",
              "      <td>6462</td>\n",
              "      <td>1.0</td>\n",
              "    </tr>\n",
              "    <tr>\n",
              "      <th>3</th>\n",
              "      <td>3</td>\n",
              "      <td>republicans have always battled with severe ca...</td>\n",
              "      <td>d026wk3</td>\n",
              "      <td>politics</td>\n",
              "      <td>news</td>\n",
              "      <td>1.455649e+09</td>\n",
              "      <td>jabb0</td>\n",
              "      <td>15.0</td>\n",
              "      <td>0.0</td>\n",
              "      <td>44981</td>\n",
              "      <td>141501</td>\n",
              "      <td>0.0</td>\n",
              "    </tr>\n",
              "    <tr>\n",
              "      <th>4</th>\n",
              "      <td>4</td>\n",
              "      <td>politics were so different back then people on...</td>\n",
              "      <td>d02a3k3</td>\n",
              "      <td>politics</td>\n",
              "      <td>news</td>\n",
              "      <td>1.455653e+09</td>\n",
              "      <td>Hypertension123456</td>\n",
              "      <td>2.0</td>\n",
              "      <td>0.0</td>\n",
              "      <td>46</td>\n",
              "      <td>42036</td>\n",
              "      <td>0.0</td>\n",
              "    </tr>\n",
              "    <tr>\n",
              "      <th>5</th>\n",
              "      <td>5</td>\n",
              "      <td>equally ridiculous  here s a 1970 law review a...</td>\n",
              "      <td>d025wad</td>\n",
              "      <td>politics</td>\n",
              "      <td>news</td>\n",
              "      <td>1.455647e+09</td>\n",
              "      <td>trash_reason</td>\n",
              "      <td>26.0</td>\n",
              "      <td>0.0</td>\n",
              "      <td>5613</td>\n",
              "      <td>1361</td>\n",
              "      <td>0.0</td>\n",
              "    </tr>\n",
              "    <tr>\n",
              "      <th>6</th>\n",
              "      <td>6</td>\n",
              "      <td>somehow i thought this would be about them wor...</td>\n",
              "      <td>d02buf9</td>\n",
              "      <td>politics</td>\n",
              "      <td>news</td>\n",
              "      <td>1.455655e+09</td>\n",
              "      <td>empress-of-blandings</td>\n",
              "      <td>1.0</td>\n",
              "      <td>0.0</td>\n",
              "      <td>843</td>\n",
              "      <td>55289</td>\n",
              "      <td>0.0</td>\n",
              "    </tr>\n",
              "    <tr>\n",
              "      <th>7</th>\n",
              "      <td>7</td>\n",
              "      <td>small government</td>\n",
              "      <td>d02d4bp</td>\n",
              "      <td>politics</td>\n",
              "      <td>news</td>\n",
              "      <td>1.455657e+09</td>\n",
              "      <td>brianwantsblood</td>\n",
              "      <td>1.0</td>\n",
              "      <td>0.0</td>\n",
              "      <td>1525</td>\n",
              "      <td>6122</td>\n",
              "      <td>0.0</td>\n",
              "    </tr>\n",
              "    <tr>\n",
              "      <th>8</th>\n",
              "      <td>8</td>\n",
              "      <td>let s clarify this headline  during bush  13  ...</td>\n",
              "      <td>d02ful5</td>\n",
              "      <td>politics</td>\n",
              "      <td>news</td>\n",
              "      <td>1.455661e+09</td>\n",
              "      <td>GhostalMedia</td>\n",
              "      <td>1.0</td>\n",
              "      <td>0.0</td>\n",
              "      <td>47024</td>\n",
              "      <td>171635</td>\n",
              "      <td>1.0</td>\n",
              "    </tr>\n",
              "    <tr>\n",
              "      <th>9</th>\n",
              "      <td>9</td>\n",
              "      <td>yea  the gop are such hypocrites</td>\n",
              "      <td>d02u1ga</td>\n",
              "      <td>politics</td>\n",
              "      <td>news</td>\n",
              "      <td>1.455683e+09</td>\n",
              "      <td>reboot108</td>\n",
              "      <td>1.0</td>\n",
              "      <td>0.0</td>\n",
              "      <td>1</td>\n",
              "      <td>247</td>\n",
              "      <td>0.0</td>\n",
              "    </tr>\n",
              "    <tr>\n",
              "      <th>11</th>\n",
              "      <td>11</td>\n",
              "      <td>i ve never met anyone in real life that knows ...</td>\n",
              "      <td>d02q5df</td>\n",
              "      <td>politics</td>\n",
              "      <td>news</td>\n",
              "      <td>1.455676e+09</td>\n",
              "      <td>Frederic_Bastiat</td>\n",
              "      <td>1.0</td>\n",
              "      <td>0.0</td>\n",
              "      <td>437</td>\n",
              "      <td>19960</td>\n",
              "      <td>1.0</td>\n",
              "    </tr>\n",
              "    <tr>\n",
              "      <th>12</th>\n",
              "      <td>12</td>\n",
              "      <td>if he goes up against hillary he just might wi...</td>\n",
              "      <td>d02hus5</td>\n",
              "      <td>politics</td>\n",
              "      <td>news</td>\n",
              "      <td>1.455664e+09</td>\n",
              "      <td>mwhite1249</td>\n",
              "      <td>1.0</td>\n",
              "      <td>0.0</td>\n",
              "      <td>1</td>\n",
              "      <td>7767</td>\n",
              "      <td>0.0</td>\n",
              "    </tr>\n",
              "    <tr>\n",
              "      <th>13</th>\n",
              "      <td>13</td>\n",
              "      <td>classy  is nt the president normally reserved ...</td>\n",
              "      <td>d02mm3z</td>\n",
              "      <td>politics</td>\n",
              "      <td>news</td>\n",
              "      <td>1.455671e+09</td>\n",
              "      <td>Animblenavigator</td>\n",
              "      <td>1.0</td>\n",
              "      <td>0.0</td>\n",
              "      <td>6</td>\n",
              "      <td>1142</td>\n",
              "      <td>0.0</td>\n",
              "    </tr>\n",
              "    <tr>\n",
              "      <th>14</th>\n",
              "      <td>14</td>\n",
              "      <td>i noticed the  math  is only based on loss of ...</td>\n",
              "      <td>d02civh</td>\n",
              "      <td>politics</td>\n",
              "      <td>news</td>\n",
              "      <td>1.455656e+09</td>\n",
              "      <td>el_muchacho_loco</td>\n",
              "      <td>1.0</td>\n",
              "      <td>0.0</td>\n",
              "      <td>1784</td>\n",
              "      <td>9959</td>\n",
              "      <td>0.0</td>\n",
              "    </tr>\n",
              "    <tr>\n",
              "      <th>15</th>\n",
              "      <td>15</td>\n",
              "      <td>i d like to know how he intends to cut  860 bi...</td>\n",
              "      <td>d02dp9n</td>\n",
              "      <td>politics</td>\n",
              "      <td>news</td>\n",
              "      <td>1.455658e+09</td>\n",
              "      <td>MellowArtichoke</td>\n",
              "      <td>1.0</td>\n",
              "      <td>0.0</td>\n",
              "      <td>405</td>\n",
              "      <td>26635</td>\n",
              "      <td>1.0</td>\n",
              "    </tr>\n",
              "    <tr>\n",
              "      <th>16</th>\n",
              "      <td>16</td>\n",
              "      <td>is there any logical reason to support this  o...</td>\n",
              "      <td>d02ch0n</td>\n",
              "      <td>politics</td>\n",
              "      <td>news</td>\n",
              "      <td>1.455656e+09</td>\n",
              "      <td>Marco-rubio2016</td>\n",
              "      <td>1.0</td>\n",
              "      <td>0.0</td>\n",
              "      <td>1</td>\n",
              "      <td>12</td>\n",
              "      <td>0.0</td>\n",
              "    </tr>\n",
              "    <tr>\n",
              "      <th>17</th>\n",
              "      <td>17</td>\n",
              "      <td>maybe a subliminal attack on cruz</td>\n",
              "      <td>d01xxpo</td>\n",
              "      <td>politics</td>\n",
              "      <td>news</td>\n",
              "      <td>1.455636e+09</td>\n",
              "      <td>Animblenavigator</td>\n",
              "      <td>0.0</td>\n",
              "      <td>0.0</td>\n",
              "      <td>6</td>\n",
              "      <td>1142</td>\n",
              "      <td>0.0</td>\n",
              "    </tr>\n",
              "    <tr>\n",
              "      <th>18</th>\n",
              "      <td>18</td>\n",
              "      <td>rnottheonion</td>\n",
              "      <td>d02e6bl</td>\n",
              "      <td>politics</td>\n",
              "      <td>news</td>\n",
              "      <td>1.455658e+09</td>\n",
              "      <td>sublime_intrepid</td>\n",
              "      <td>1.0</td>\n",
              "      <td>0.0</td>\n",
              "      <td>59</td>\n",
              "      <td>85</td>\n",
              "      <td>0.0</td>\n",
              "    </tr>\n",
              "    <tr>\n",
              "      <th>20</th>\n",
              "      <td>20</td>\n",
              "      <td>thank you  gop  for making me think of cruz wh...</td>\n",
              "      <td>d01x7h0</td>\n",
              "      <td>politics</td>\n",
              "      <td>news</td>\n",
              "      <td>1.455635e+09</td>\n",
              "      <td>Veniabiit</td>\n",
              "      <td>50.0</td>\n",
              "      <td>0.0</td>\n",
              "      <td>1</td>\n",
              "      <td>2061</td>\n",
              "      <td>0.0</td>\n",
              "    </tr>\n",
              "    <tr>\n",
              "      <th>21</th>\n",
              "      <td>21</td>\n",
              "      <td>gt   it  s pretty funny  isn  t it   he told t...</td>\n",
              "      <td>d01xpgg</td>\n",
              "      <td>politics</td>\n",
              "      <td>news</td>\n",
              "      <td>1.455636e+09</td>\n",
              "      <td>UrukHaiGuyz</td>\n",
              "      <td>39.0</td>\n",
              "      <td>0.0</td>\n",
              "      <td>5</td>\n",
              "      <td>72281</td>\n",
              "      <td>1.0</td>\n",
              "    </tr>\n",
              "    <tr>\n",
              "      <th>22</th>\n",
              "      <td>22</td>\n",
              "      <td>maybe the full title is morning again in  nort...</td>\n",
              "      <td>d01xsc8</td>\n",
              "      <td>politics</td>\n",
              "      <td>news</td>\n",
              "      <td>1.455636e+09</td>\n",
              "      <td>ukraine_not_weak</td>\n",
              "      <td>5.0</td>\n",
              "      <td>0.0</td>\n",
              "      <td>1698</td>\n",
              "      <td>30659</td>\n",
              "      <td>0.0</td>\n",
              "    </tr>\n",
              "  </tbody>\n",
              "</table>\n",
              "</div>"
            ],
            "text/plain": [
              "    Unnamed: 0                                                  0  ...       9   10\n",
              "0            0  disclaimer  i think obama should nominate some...  ...    1941  0.0\n",
              "2            2  either way the process will be dragged out unt...  ...    6462  1.0\n",
              "3            3  republicans have always battled with severe ca...  ...  141501  0.0\n",
              "4            4  politics were so different back then people on...  ...   42036  0.0\n",
              "5            5  equally ridiculous  here s a 1970 law review a...  ...    1361  0.0\n",
              "6            6  somehow i thought this would be about them wor...  ...   55289  0.0\n",
              "7            7                                  small government   ...    6122  0.0\n",
              "8            8  let s clarify this headline  during bush  13  ...  ...  171635  1.0\n",
              "9            9                  yea  the gop are such hypocrites   ...     247  0.0\n",
              "11          11  i ve never met anyone in real life that knows ...  ...   19960  1.0\n",
              "12          12  if he goes up against hillary he just might wi...  ...    7767  0.0\n",
              "13          13  classy  is nt the president normally reserved ...  ...    1142  0.0\n",
              "14          14  i noticed the  math  is only based on loss of ...  ...    9959  0.0\n",
              "15          15  i d like to know how he intends to cut  860 bi...  ...   26635  1.0\n",
              "16          16  is there any logical reason to support this  o...  ...      12  0.0\n",
              "17          17                 maybe a subliminal attack on cruz   ...    1142  0.0\n",
              "18          18                                       rnottheonion  ...      85  0.0\n",
              "20          20  thank you  gop  for making me think of cruz wh...  ...    2061  0.0\n",
              "21          21  gt   it  s pretty funny  isn  t it   he told t...  ...   72281  1.0\n",
              "22          22  maybe the full title is morning again in  nort...  ...   30659  0.0\n",
              "\n",
              "[20 rows x 12 columns]"
            ]
          },
          "metadata": {
            "tags": []
          },
          "execution_count": 8
        }
      ]
    },
    {
      "cell_type": "code",
      "metadata": {
        "id": "XcYqnWCgmD1u",
        "colab_type": "code",
        "colab": {
          "base_uri": "https://localhost:8080/",
          "height": 151
        },
        "outputId": "f2cf9cf2-9772-4b66-fa80-48de4dc2328b"
      },
      "source": [
        "#text preprocessing\n",
        "\n",
        "# Convert to list\n",
        "data = df['0'].values.tolist()\n",
        "\n",
        "# Remove Emails\n",
        "data = [re.sub('\\S*@\\S*\\s?', '', sent) for sent in data]\n",
        "\n",
        "# Remove new line characters\n",
        "data = [re.sub('\\s+', ' ', sent) for sent in data]\n",
        "\n",
        "# Remove distracting single quotes\n",
        "data = [re.sub(\"\\'\", \"\", sent) for sent in data]\n",
        "\n",
        "pprint(data[:1])"
      ],
      "execution_count": 9,
      "outputs": [
        {
          "output_type": "stream",
          "text": [
            "['disclaimer i think obama should nominate someone and the senate should hold '\n",
            " 'confirmation hearings but this article does not accurately describe most '\n",
            " 'republicans statements on this issue the vast majority of republican '\n",
            " 'statements although notably not the cruz one cited in the article carefully '\n",
            " 'phrase the issue as whether a nominee has been nominated and confirmed in '\n",
            " 'the president s last year in office although kennedy was confirmed in 1988 '\n",
            " 'he was nominated by reagan at the end of 1987 so he does nt fall under this '\n",
            " 'definition ']\n"
          ],
          "name": "stdout"
        }
      ]
    },
    {
      "cell_type": "code",
      "metadata": {
        "id": "bnQWTwqNm-d5",
        "colab_type": "code",
        "colab": {
          "base_uri": "https://localhost:8080/",
          "height": 54
        },
        "outputId": "1c5d6bcf-b0dd-4e14-806c-7378444f8614"
      },
      "source": [
        "#tokenizing text\n",
        "\n",
        "def sent_to_words(sentences):\n",
        "    for sentence in sentences:\n",
        "        yield(gensim.utils.simple_preprocess(str(sentence), deacc=True))  # deacc=True removes punctuations\n",
        "\n",
        "data_words = list(sent_to_words(data))\n",
        "\n",
        "print(data_words[:1])"
      ],
      "execution_count": 10,
      "outputs": [
        {
          "output_type": "stream",
          "text": [
            "[['disclaimer', 'think', 'obama', 'should', 'nominate', 'someone', 'and', 'the', 'senate', 'should', 'hold', 'confirmation', 'hearings', 'but', 'this', 'article', 'does', 'not', 'accurately', 'describe', 'most', 'republicans', 'statements', 'on', 'this', 'issue', 'the', 'vast', 'majority', 'of', 'republican', 'statements', 'although', 'notably', 'not', 'the', 'cruz', 'one', 'cited', 'in', 'the', 'article', 'carefully', 'phrase', 'the', 'issue', 'as', 'whether', 'nominee', 'has', 'been', 'nominated', 'and', 'confirmed', 'in', 'the', 'president', 'last', 'year', 'in', 'office', 'although', 'kennedy', 'was', 'confirmed', 'in', 'he', 'was', 'nominated', 'by', 'reagan', 'at', 'the', 'end', 'of', 'so', 'he', 'does', 'nt', 'fall', 'under', 'this', 'definition']]\n"
          ],
          "name": "stdout"
        }
      ]
    },
    {
      "cell_type": "code",
      "metadata": {
        "id": "yvUnEL-0nOyZ",
        "colab_type": "code",
        "colab": {
          "base_uri": "https://localhost:8080/",
          "height": 87
        },
        "outputId": "2806fc13-8d3d-49dd-ddc0-50842f33c2fd"
      },
      "source": [
        "#building bigram & trigram models for frequently occuring n-grams\n",
        "\n",
        "# Build the bigram and trigram models\n",
        "bigram = gensim.models.Phrases(data_words, min_count=5, threshold=100) # higher threshold fewer phrases.\n",
        "trigram = gensim.models.Phrases(bigram[data_words], threshold=100)  \n",
        "\n",
        "# Faster way to get a sentence clubbed as a trigram/bigram\n",
        "bigram_mod = gensim.models.phrases.Phraser(bigram)\n",
        "trigram_mod = gensim.models.phrases.Phraser(trigram)\n",
        "\n",
        "# See trigram example\n",
        "print(trigram_mod[bigram_mod[data_words[0]]])"
      ],
      "execution_count": 11,
      "outputs": [
        {
          "output_type": "stream",
          "text": [
            "/usr/local/lib/python3.6/dist-packages/gensim/models/phrases.py:598: UserWarning: For a faster implementation, use the gensim.models.phrases.Phraser class\n",
            "  warnings.warn(\"For a faster implementation, use the gensim.models.phrases.Phraser class\")\n"
          ],
          "name": "stderr"
        },
        {
          "output_type": "stream",
          "text": [
            "['disclaimer', 'think', 'obama', 'should', 'nominate', 'someone', 'and', 'the', 'senate', 'should', 'hold', 'confirmation_hearings', 'but', 'this', 'article', 'does', 'not', 'accurately_describe', 'most', 'republicans', 'statements', 'on', 'this', 'issue', 'the', 'vast', 'majority', 'of', 'republican', 'statements', 'although', 'notably', 'not', 'the', 'cruz', 'one', 'cited', 'in', 'the', 'article', 'carefully_phrase', 'the', 'issue', 'as', 'whether', 'nominee', 'has', 'been', 'nominated', 'and', 'confirmed', 'in', 'the', 'president', 'last', 'year', 'in', 'office', 'although', 'kennedy', 'was', 'confirmed', 'in', 'he', 'was', 'nominated', 'by', 'reagan', 'at', 'the', 'end', 'of', 'so', 'he', 'does', 'nt', 'fall', 'under', 'this', 'definition']\n"
          ],
          "name": "stdout"
        }
      ]
    },
    {
      "cell_type": "code",
      "metadata": {
        "id": "T43GHVPXosoF",
        "colab_type": "code",
        "colab": {}
      },
      "source": [
        "# Define functions for stopwords, bigrams, trigrams and lemmatization\n",
        "def remove_stopwords(texts):\n",
        "    return [[word for word in simple_preprocess(str(doc)) if word not in stop_words] for doc in texts]\n",
        "\n",
        "def make_bigrams(texts):\n",
        "    return [bigram_mod[doc] for doc in texts]\n",
        "\n",
        "def make_trigrams(texts):\n",
        "    return [trigram_mod[bigram_mod[doc]] for doc in texts]\n",
        "\n",
        "def lemmatization(texts, allowed_postags=['NOUN', 'ADJ', 'VERB', 'ADV']):\n",
        "    \"\"\"https://spacy.io/api/annotation\"\"\"\n",
        "    texts_out = []\n",
        "    for sent in texts:\n",
        "        doc = nlp(\" \".join(sent)) \n",
        "        texts_out.append([token.lemma_ for token in doc if token.pos_ in allowed_postags])\n",
        "    return texts_out"
      ],
      "execution_count": 0,
      "outputs": []
    },
    {
      "cell_type": "code",
      "metadata": {
        "id": "hUmUaDFjpBZ8",
        "colab_type": "code",
        "colab": {
          "base_uri": "https://localhost:8080/",
          "height": 54
        },
        "outputId": "c0b50778-5035-4400-ad86-01504e87df18"
      },
      "source": [
        "# Remove Stop Words\n",
        "data_words_nostops = remove_stopwords(data_words)\n",
        "\n",
        "# Form Bigrams\n",
        "data_words_bigrams = make_bigrams(data_words_nostops)\n",
        "\n",
        "# Initialize spacy 'en' model, keeping only tagger component (for efficiency)\n",
        "nlp = spacy.load('en', disable=['parser', 'ner'])\n",
        "\n",
        "# Do lemmatization keeping only noun, adj, vb, adv\n",
        "data_lemmatized = lemmatization(data_words_bigrams, allowed_postags=['NOUN', 'ADJ', 'VERB', 'ADV'])\n",
        "\n",
        "print(data_lemmatized[:1])"
      ],
      "execution_count": 13,
      "outputs": [
        {
          "output_type": "stream",
          "text": [
            "[['disclaimer', 'think', 'obama', 'nominate', 'someone', 'senate', 'hold', 'confirmation_hearing', 'article', 'accurately_describe', 'republican', 'statement', 'issue', 'vast', 'majority', 'republican', 'statement', 'notably', 'cruz', 'cite', 'article', 'carefully_phrase', 'issue', 'nominee', 'nominate', 'confirm', 'president', 'last', 'year', 'office', 'kennedy', 'confirm', 'nominate', 'reagan', 'end', 'nt', 'fall', 'definition']]\n"
          ],
          "name": "stdout"
        }
      ]
    },
    {
      "cell_type": "code",
      "metadata": {
        "id": "RHbi8WZfpI5U",
        "colab_type": "code",
        "colab": {
          "base_uri": "https://localhost:8080/",
          "height": 54
        },
        "outputId": "8a1293c7-c165-4b51-c136-bbec66401b8a"
      },
      "source": [
        "# Create Dictionary\n",
        "id2word = corpora.Dictionary(data_lemmatized)\n",
        "\n",
        "# Create Corpus\n",
        "texts = data_lemmatized\n",
        "\n",
        "# Term Document Frequency\n",
        "corpus = [id2word.doc2bow(text) for text in texts]\n",
        "\n",
        "# View\n",
        "print(corpus[:1])"
      ],
      "execution_count": 14,
      "outputs": [
        {
          "output_type": "stream",
          "text": [
            "[[(0, 1), (1, 2), (2, 1), (3, 1), (4, 2), (5, 1), (6, 1), (7, 1), (8, 1), (9, 1), (10, 1), (11, 1), (12, 2), (13, 1), (14, 1), (15, 1), (16, 3), (17, 1), (18, 1), (19, 1), (20, 1), (21, 1), (22, 1), (23, 1), (24, 2), (25, 1), (26, 1), (27, 2), (28, 1), (29, 1), (30, 1)]]\n"
          ],
          "name": "stdout"
        }
      ]
    },
    {
      "cell_type": "code",
      "metadata": {
        "id": "az-GQO6dqtz1",
        "colab_type": "code",
        "colab": {
          "base_uri": "https://localhost:8080/",
          "height": 538
        },
        "outputId": "1be39bc4-a7c1-4462-86af-21a553ff04a0"
      },
      "source": [
        "# Human readable format of corpus (term-frequency)\n",
        "[[(id2word[id], freq) for id, freq in cp] for cp in corpus[:1]]"
      ],
      "execution_count": 15,
      "outputs": [
        {
          "output_type": "execute_result",
          "data": {
            "text/plain": [
              "[[('accurately_describe', 1),\n",
              "  ('article', 2),\n",
              "  ('carefully_phrase', 1),\n",
              "  ('cite', 1),\n",
              "  ('confirm', 2),\n",
              "  ('confirmation_hearing', 1),\n",
              "  ('cruz', 1),\n",
              "  ('definition', 1),\n",
              "  ('disclaimer', 1),\n",
              "  ('end', 1),\n",
              "  ('fall', 1),\n",
              "  ('hold', 1),\n",
              "  ('issue', 2),\n",
              "  ('kennedy', 1),\n",
              "  ('last', 1),\n",
              "  ('majority', 1),\n",
              "  ('nominate', 3),\n",
              "  ('nominee', 1),\n",
              "  ('notably', 1),\n",
              "  ('nt', 1),\n",
              "  ('obama', 1),\n",
              "  ('office', 1),\n",
              "  ('president', 1),\n",
              "  ('reagan', 1),\n",
              "  ('republican', 2),\n",
              "  ('senate', 1),\n",
              "  ('someone', 1),\n",
              "  ('statement', 2),\n",
              "  ('think', 1),\n",
              "  ('vast', 1),\n",
              "  ('year', 1)]]"
            ]
          },
          "metadata": {
            "tags": []
          },
          "execution_count": 15
        }
      ]
    },
    {
      "cell_type": "markdown",
      "metadata": {
        "id": "Ih52owpHq7-x",
        "colab_type": "text"
      },
      "source": [
        "# LDA Model"
      ]
    },
    {
      "cell_type": "code",
      "metadata": {
        "id": "B_16fDNvqxJw",
        "colab_type": "code",
        "colab": {}
      },
      "source": [
        "# Build LDA model\n",
        "lda_model = gensim.models.ldamodel.LdaModel(corpus=corpus,\n",
        "                                           id2word=id2word,\n",
        "                                           num_topics=20, \n",
        "                                           random_state=100,\n",
        "                                           update_every=1,\n",
        "                                           chunksize=100,\n",
        "                                           passes=10,\n",
        "                                           alpha='auto',\n",
        "                                           per_word_topics=True)"
      ],
      "execution_count": 0,
      "outputs": []
    },
    {
      "cell_type": "code",
      "metadata": {
        "id": "4E0ZGY4c5HvJ",
        "colab_type": "code",
        "colab": {
          "base_uri": "https://localhost:8080/",
          "height": 1327
        },
        "outputId": "a099987a-e5f3-4a34-8a5b-50c27e3dc72c"
      },
      "source": [
        "# Print the Keyword in the 10 topics\n",
        "pprint(lda_model.print_topics())\n",
        "doc_lda = lda_model[corpus]"
      ],
      "execution_count": 17,
      "outputs": [
        {
          "output_type": "stream",
          "text": [
            "[(0,\n",
            "  '0.077*\"win\" + 0.048*\"hear\" + 0.034*\"show\" + 0.033*\"go\" + 0.031*\"wo\" + '\n",
            "  '0.022*\"interesting\" + 0.018*\"insurance\" + 0.016*\"lie\" + 0.016*\"reality\" + '\n",
            "  '0.015*\"rpolitic\"'),\n",
            " (1,\n",
            "  '0.070*\"state\" + 0.046*\"man\" + 0.039*\"would\" + 0.039*\"call\" + 0.034*\"great\" '\n",
            "  '+ 0.029*\"american\" + 0.022*\"city\" + 0.022*\"even\" + 0.020*\"use\" + '\n",
            "  '0.020*\"stop\"'),\n",
            " (2,\n",
            "  '0.103*\"want\" + 0.040*\"ca\" + 0.039*\"job\" + 0.036*\"shit\" + 0.030*\"something\" '\n",
            "  '+ 0.029*\"anyone\" + 0.025*\"post\" + 0.023*\"nt\" + 0.022*\"seem\" + '\n",
            "  '0.020*\"family\"'),\n",
            " (3,\n",
            "  '0.072*\"big\" + 0.054*\"guy\" + 0.047*\"tell\" + 0.042*\"back\" + 0.041*\"take\" + '\n",
            "  '0.037*\"poll\" + 0.034*\"probably\" + 0.025*\"video\" + 0.024*\"side\" + '\n",
            "  '0.019*\"nevada\"'),\n",
            " (4,\n",
            "  '0.064*\"hillary\" + 0.056*\"work\" + 0.048*\"many\" + 0.042*\"anything\" + '\n",
            "  '0.039*\"use\" + 0.025*\"term\" + 0.021*\"news\" + 0.020*\"literally\" + 0.019*\"way\" '\n",
            "  '+ 0.018*\"funny\"'),\n",
            " (5,\n",
            "  '0.096*\"obama\" + 0.074*\"president\" + 0.047*\"woman\" + 0.022*\"thank\" + '\n",
            "  '0.019*\"nomination\" + 0.018*\"hold\" + 0.017*\"likely\" + 0.017*\"person\" + '\n",
            "  '0.016*\"true\" + 0.016*\"decide\"'),\n",
            " (6,\n",
            "  '0.047*\"black\" + 0.045*\"end\" + 0.040*\"majority\" + 0.028*\"racism\" + '\n",
            "  '0.026*\"claim\" + 0.025*\"would\" + 0.024*\"allow\" + 0.023*\"social\" + '\n",
            "  '0.022*\"line\" + 0.021*\"could\"'),\n",
            " (7,\n",
            "  '0.046*\"government\" + 0.040*\"bank\" + 0.025*\"problem\" + 0.025*\"power\" + '\n",
            "  '0.023*\"care\" + 0.019*\"south\" + 0.017*\"wall\" + 0.017*\"act\" + 0.016*\"street\" '\n",
            "  '+ 0.015*\"year\"'),\n",
            " (8,\n",
            "  '0.057*\"support\" + 0.054*\"article\" + 0.045*\"point\" + 0.031*\"new\" + '\n",
            "  '0.028*\"read\" + 0.027*\"high\" + 0.022*\"tax\" + 0.022*\"percent\" + '\n",
            "  '0.022*\"sander\" + 0.021*\"young\"'),\n",
            " (9,\n",
            "  '0.100*\"really\" + 0.056*\"still\" + 0.049*\"bad\" + 0.045*\"mean\" + 0.038*\"break\" '\n",
            "  '+ 0.029*\"elect\" + 0.027*\"http\" + 0.025*\"warren\" + 0.022*\"system\" + '\n",
            "  '0.019*\"control\"'),\n",
            " (10,\n",
            "  '0.046*\"abortion\" + 0.043*\"go\" + 0.040*\"https\" + 0.034*\"plan\" + 0.032*\"far\" '\n",
            "  '+ 0.024*\"look\" + 0.024*\"speech\" + 0.022*\"position\" + 0.022*\"course\" + '\n",
            "  '0.021*\"hope\"'),\n",
            " (11,\n",
            "  '0.101*\"trump\" + 0.067*\"campaign\" + 0.050*\"bill\" + 0.049*\"come\" + '\n",
            "  '0.042*\"candidate\" + 0.037*\"jeb\" + 0.034*\"supporter\" + 0.026*\"pretty\" + '\n",
            "  '0.018*\"fail\" + 0.016*\"story\"'),\n",
            " (12,\n",
            "  '0.069*\"right\" + 0.059*\"pay\" + 0.056*\"good\" + 0.042*\"do\" + 0.035*\"look\" + '\n",
            "  '0.029*\"congress\" + 0.022*\"not\" + 0.022*\"start\" + 0.020*\"play\" + '\n",
            "  '0.018*\"national\"'),\n",
            " (13,\n",
            "  '0.050*\"run\" + 0.035*\"someone\" + 0.033*\"senate\" + 0.031*\"republican\" + '\n",
            "  '0.030*\"real\" + 0.028*\"could\" + 0.028*\"nominate\" + 0.025*\"country\" + '\n",
            "  '0.023*\"poverty\" + 0.020*\"world\"'),\n",
            " (14,\n",
            "  '0.135*\"nt\" + 0.075*\"people\" + 0.063*\"get\" + 0.061*\"would\" + 0.059*\"say\" + '\n",
            "  '0.053*\"think\" + 0.040*\"make\" + 0.030*\"see\" + 0.028*\"thing\" + 0.024*\"need\"'),\n",
            " (15,\n",
            "  '0.100*\"vote\" + 0.086*\"party\" + 0.040*\"well\" + 0.039*\"white\" + '\n",
            "  '0.033*\"justice\" + 0.030*\"tea\" + 0.023*\"also\" + 0.021*\"consider\" + '\n",
            "  '0.020*\"kind\" + 0.019*\"scalia\"'),\n",
            " (16,\n",
            "  '0.109*\"bernie\" + 0.105*\"sander\" + 0.067*\"clinton\" + 0.051*\"go\" + '\n",
            "  '0.033*\"try\" + 0.027*\"fuck\" + 0.025*\"election\" + 0.024*\"believe\" + '\n",
            "  '0.021*\"politician\" + 0.019*\"day\"'),\n",
            " (17,\n",
            "  '0.037*\"democrat\" + 0.036*\"feel\" + 0.035*\"health\" + 0.031*\"attack\" + '\n",
            "  '0.029*\"last\" + 0.028*\"insurance\" + 0.027*\"enough\" + 0.025*\"wrong\" + '\n",
            "  '0.021*\"lose\" + 0.021*\"republican\"'),\n",
            " (18,\n",
            "  '0.064*\"know\" + 0.038*\"voter\" + 0.027*\"keep\" + 0.024*\"life\" + 0.024*\"never\" '\n",
            "  '+ 0.023*\"even\" + 0.023*\"good\" + 0.020*\"give\" + 0.020*\"part\" + 0.019*\"fact\"'),\n",
            " (19,\n",
            "  '0.045*\"bush\" + 0.042*\"court\" + 0.036*\"law\" + 0.020*\"george\" + '\n",
            "  '0.017*\"supreme\" + 0.014*\"decision\" + 0.013*\"pass\" + 0.013*\"even\" + '\n",
            "  '0.012*\"whatev\" + 0.012*\"price\"')]\n"
          ],
          "name": "stdout"
        }
      ]
    },
    {
      "cell_type": "code",
      "metadata": {
        "id": "O1MD8OGhAs3c",
        "colab_type": "code",
        "colab": {
          "base_uri": "https://localhost:8080/",
          "height": 84
        },
        "outputId": "e66d362f-65d9-45bc-9d39-e63e6a765bf2"
      },
      "source": [
        "# Compute Perplexity\n",
        "print('\\nPerplexity: ', lda_model.log_perplexity(corpus))  # a measure of how good the model is. lower the better.\n",
        "\n",
        "# Compute Coherence Score\n",
        "coherence_model_lda = CoherenceModel(model=lda_model, texts=data_lemmatized, dictionary=id2word, coherence='c_v')\n",
        "coherence_lda = coherence_model_lda.get_coherence()\n",
        "print('\\nCoherence Score: ', coherence_lda)"
      ],
      "execution_count": 18,
      "outputs": [
        {
          "output_type": "stream",
          "text": [
            "\n",
            "Perplexity:  -6.931229046363098\n",
            "\n",
            "Coherence Score:  0.35032270160538975\n"
          ],
          "name": "stdout"
        }
      ]
    },
    {
      "cell_type": "code",
      "metadata": {
        "id": "PeVCRrsPAtuR",
        "colab_type": "code",
        "colab": {
          "base_uri": "https://localhost:8080/",
          "height": 995
        },
        "outputId": "8e9f0a89-a2a4-48c7-b76d-a6311e3c0698"
      },
      "source": [
        "# Visualize the topics\n",
        "pyLDAvis.enable_notebook()\n",
        "vis = pyLDAvis.gensim.prepare(lda_model, corpus, id2word)\n",
        "vis"
      ],
      "execution_count": 19,
      "outputs": [
        {
          "output_type": "stream",
          "text": [
            "/usr/local/lib/python3.6/dist-packages/pyLDAvis/_prepare.py:257: FutureWarning: Sorting because non-concatenation axis is not aligned. A future version\n",
            "of pandas will change to not sort by default.\n",
            "\n",
            "To accept the future behavior, pass 'sort=False'.\n",
            "\n",
            "To retain the current behavior and silence the warning, pass 'sort=True'.\n",
            "\n",
            "  return pd.concat([default_term_info] + list(topic_dfs))\n"
          ],
          "name": "stderr"
        },
        {
          "output_type": "execute_result",
          "data": {
            "text/html": [
              "\n",
              "<link rel=\"stylesheet\" type=\"text/css\" href=\"https://cdn.rawgit.com/bmabey/pyLDAvis/files/ldavis.v1.0.0.css\">\n",
              "\n",
              "\n",
              "<div id=\"ldavis_el1291398998212265289569011647\"></div>\n",
              "<script type=\"text/javascript\">\n",
              "\n",
              "var ldavis_el1291398998212265289569011647_data = {\"mdsDat\": {\"x\": [-0.1275809631923091, 0.11903381278508712, -0.06562635548989476, 0.01237108940730872, -0.223698051337111, 0.053511354550658384, -0.05561741639363968, -0.09014318099811368, 0.06260046650526307, -0.08134274466615701, 0.1136098378311717, -0.03582661868309285, -0.20309055461877304, 0.024705849717714213, 0.16504634492346434, 0.15801217935561698, 0.04756099814284512, -0.17922669079556455, 0.14132394522367417, 0.16437669773185257], \"y\": [0.1393783613161419, 0.1179871829790699, -0.26611174367591983, 0.03325120365097365, 0.11567400582709243, -0.09001363906851814, 0.0015754910888919284, 0.10853937479270566, -0.06942666592492605, -0.032751017235115, 0.08104957511878749, -0.17657135116619904, 0.02544215992834402, -0.17784163845375964, 0.1452787734143434, 0.0167955457665928, -0.18398491822652008, 0.0811810791274194, 0.1151588319843747, 0.015389388756220439], \"topics\": [1, 2, 3, 4, 5, 6, 7, 8, 9, 10, 11, 12, 13, 14, 15, 16, 17, 18, 19, 20], \"cluster\": [1, 1, 1, 1, 1, 1, 1, 1, 1, 1, 1, 1, 1, 1, 1, 1, 1, 1, 1, 1], \"Freq\": [13.388609886169434, 7.378056049346924, 6.205272674560547, 5.451911449432373, 5.199550628662109, 5.140554428100586, 4.874212741851807, 4.767359733581543, 4.606367111206055, 4.541985034942627, 4.414511680603027, 4.3053202629089355, 4.251883506774902, 3.997791290283203, 3.8666038513183594, 3.812978744506836, 3.6548357009887695, 3.5627543926239014, 3.4045822620391846, 3.174854040145874]}, \"tinfo\": {\"Category\": [\"Default\", \"Default\", \"Default\", \"Default\", \"Default\", \"Default\", \"Default\", \"Default\", \"Default\", \"Default\", \"Default\", \"Default\", \"Default\", \"Default\", \"Default\", \"Default\", \"Default\", \"Default\", \"Default\", \"Default\", \"Default\", \"Default\", \"Default\", \"Default\", \"Default\", \"Default\", \"Default\", \"Default\", \"Default\", \"Default\", \"Topic1\", \"Topic1\", \"Topic1\", \"Topic1\", \"Topic1\", \"Topic1\", \"Topic1\", \"Topic1\", \"Topic1\", \"Topic1\", \"Topic1\", \"Topic1\", \"Topic1\", \"Topic1\", \"Topic1\", \"Topic1\", \"Topic1\", \"Topic1\", \"Topic1\", \"Topic1\", \"Topic1\", \"Topic1\", \"Topic1\", \"Topic1\", \"Topic1\", \"Topic1\", \"Topic1\", \"Topic1\", \"Topic1\", \"Topic1\", \"Topic1\", \"Topic1\", \"Topic1\", \"Topic1\", \"Topic1\", \"Topic1\", \"Topic1\", \"Topic1\", \"Topic1\", \"Topic1\", \"Topic1\", \"Topic1\", \"Topic1\", \"Topic1\", \"Topic1\", \"Topic1\", \"Topic1\", \"Topic1\", \"Topic1\", \"Topic1\", \"Topic1\", \"Topic2\", \"Topic2\", \"Topic2\", \"Topic2\", \"Topic2\", \"Topic2\", \"Topic2\", \"Topic2\", \"Topic2\", \"Topic2\", \"Topic2\", \"Topic2\", \"Topic2\", \"Topic2\", \"Topic2\", \"Topic2\", \"Topic2\", \"Topic2\", \"Topic2\", \"Topic2\", \"Topic2\", \"Topic2\", \"Topic2\", \"Topic2\", \"Topic2\", \"Topic2\", \"Topic2\", \"Topic2\", \"Topic2\", \"Topic2\", \"Topic2\", \"Topic2\", \"Topic2\", \"Topic2\", \"Topic2\", \"Topic2\", \"Topic2\", \"Topic2\", \"Topic2\", \"Topic2\", \"Topic2\", \"Topic2\", \"Topic2\", \"Topic2\", \"Topic2\", \"Topic2\", \"Topic3\", \"Topic3\", \"Topic3\", \"Topic3\", \"Topic3\", \"Topic3\", \"Topic3\", \"Topic3\", \"Topic3\", \"Topic3\", \"Topic3\", \"Topic3\", \"Topic3\", \"Topic3\", \"Topic3\", \"Topic3\", \"Topic3\", \"Topic3\", \"Topic3\", \"Topic3\", \"Topic3\", \"Topic3\", \"Topic3\", \"Topic3\", \"Topic3\", \"Topic3\", \"Topic3\", \"Topic3\", \"Topic3\", \"Topic3\", \"Topic3\", \"Topic3\", \"Topic3\", \"Topic3\", \"Topic3\", \"Topic3\", \"Topic3\", \"Topic3\", \"Topic3\", \"Topic3\", \"Topic3\", \"Topic3\", \"Topic3\", \"Topic3\", \"Topic3\", \"Topic3\", \"Topic4\", \"Topic4\", \"Topic4\", \"Topic4\", \"Topic4\", \"Topic4\", \"Topic4\", \"Topic4\", \"Topic4\", \"Topic4\", \"Topic4\", \"Topic4\", \"Topic4\", \"Topic4\", \"Topic4\", \"Topic4\", \"Topic4\", \"Topic4\", \"Topic4\", \"Topic4\", \"Topic4\", \"Topic4\", \"Topic4\", \"Topic4\", \"Topic4\", \"Topic4\", \"Topic4\", \"Topic4\", \"Topic4\", \"Topic4\", \"Topic4\", \"Topic4\", \"Topic4\", \"Topic4\", \"Topic4\", \"Topic4\", \"Topic4\", \"Topic4\", \"Topic4\", \"Topic4\", \"Topic4\", \"Topic4\", \"Topic4\", \"Topic5\", \"Topic5\", \"Topic5\", \"Topic5\", \"Topic5\", \"Topic5\", \"Topic5\", \"Topic5\", \"Topic5\", \"Topic5\", \"Topic5\", \"Topic5\", \"Topic5\", \"Topic5\", \"Topic5\", \"Topic5\", \"Topic5\", \"Topic5\", \"Topic5\", \"Topic5\", \"Topic5\", \"Topic5\", \"Topic5\", \"Topic5\", \"Topic5\", \"Topic5\", \"Topic5\", \"Topic5\", \"Topic5\", \"Topic5\", \"Topic5\", \"Topic5\", \"Topic5\", \"Topic5\", \"Topic5\", \"Topic5\", \"Topic5\", \"Topic5\", \"Topic5\", \"Topic5\", \"Topic5\", \"Topic5\", \"Topic5\", \"Topic5\", \"Topic5\", \"Topic5\", \"Topic6\", \"Topic6\", \"Topic6\", \"Topic6\", \"Topic6\", \"Topic6\", \"Topic6\", \"Topic6\", \"Topic6\", \"Topic6\", \"Topic6\", \"Topic6\", \"Topic6\", \"Topic6\", \"Topic6\", \"Topic6\", \"Topic6\", \"Topic6\", \"Topic6\", \"Topic6\", \"Topic6\", \"Topic6\", \"Topic6\", \"Topic6\", \"Topic6\", \"Topic6\", \"Topic6\", \"Topic6\", \"Topic6\", \"Topic6\", \"Topic6\", \"Topic6\", \"Topic6\", \"Topic6\", \"Topic6\", \"Topic6\", \"Topic6\", \"Topic6\", \"Topic6\", \"Topic6\", \"Topic6\", \"Topic6\", \"Topic6\", \"Topic6\", \"Topic6\", \"Topic6\", \"Topic7\", \"Topic7\", \"Topic7\", \"Topic7\", \"Topic7\", \"Topic7\", \"Topic7\", \"Topic7\", \"Topic7\", \"Topic7\", \"Topic7\", \"Topic7\", \"Topic7\", \"Topic7\", \"Topic7\", \"Topic7\", \"Topic7\", \"Topic7\", \"Topic7\", \"Topic7\", \"Topic7\", \"Topic7\", \"Topic7\", \"Topic7\", \"Topic7\", \"Topic7\", \"Topic7\", \"Topic7\", \"Topic7\", \"Topic7\", \"Topic7\", \"Topic7\", \"Topic7\", \"Topic7\", \"Topic7\", \"Topic7\", \"Topic7\", \"Topic7\", \"Topic7\", \"Topic7\", \"Topic7\", \"Topic7\", \"Topic7\", \"Topic7\", \"Topic8\", \"Topic8\", \"Topic8\", \"Topic8\", \"Topic8\", \"Topic8\", \"Topic8\", \"Topic8\", \"Topic8\", \"Topic8\", \"Topic8\", \"Topic8\", \"Topic8\", \"Topic8\", \"Topic8\", \"Topic8\", \"Topic8\", \"Topic8\", \"Topic8\", \"Topic8\", \"Topic8\", \"Topic8\", \"Topic8\", \"Topic8\", \"Topic8\", \"Topic8\", \"Topic8\", \"Topic8\", \"Topic8\", \"Topic8\", \"Topic8\", \"Topic8\", \"Topic8\", \"Topic8\", \"Topic8\", \"Topic8\", \"Topic8\", \"Topic8\", \"Topic8\", \"Topic8\", \"Topic8\", \"Topic8\", \"Topic8\", \"Topic8\", \"Topic8\", \"Topic8\", \"Topic8\", \"Topic8\", \"Topic8\", \"Topic9\", \"Topic9\", \"Topic9\", \"Topic9\", \"Topic9\", \"Topic9\", \"Topic9\", \"Topic9\", \"Topic9\", \"Topic9\", \"Topic9\", \"Topic9\", \"Topic9\", \"Topic9\", \"Topic9\", \"Topic9\", \"Topic9\", \"Topic9\", \"Topic9\", \"Topic9\", \"Topic9\", \"Topic9\", \"Topic9\", \"Topic9\", \"Topic9\", \"Topic9\", \"Topic9\", \"Topic9\", \"Topic9\", \"Topic9\", \"Topic9\", \"Topic9\", \"Topic9\", \"Topic9\", \"Topic9\", \"Topic9\", \"Topic9\", \"Topic9\", \"Topic9\", \"Topic9\", \"Topic9\", \"Topic9\", \"Topic10\", \"Topic10\", \"Topic10\", \"Topic10\", \"Topic10\", \"Topic10\", \"Topic10\", \"Topic10\", \"Topic10\", \"Topic10\", \"Topic10\", \"Topic10\", \"Topic10\", \"Topic10\", \"Topic10\", \"Topic10\", \"Topic10\", \"Topic10\", \"Topic10\", \"Topic10\", \"Topic10\", \"Topic10\", \"Topic10\", \"Topic10\", \"Topic10\", \"Topic10\", \"Topic10\", \"Topic10\", \"Topic10\", \"Topic10\", \"Topic10\", \"Topic10\", \"Topic10\", \"Topic10\", \"Topic10\", \"Topic10\", \"Topic10\", \"Topic10\", \"Topic10\", \"Topic10\", \"Topic10\", \"Topic10\", \"Topic11\", \"Topic11\", \"Topic11\", \"Topic11\", \"Topic11\", \"Topic11\", \"Topic11\", \"Topic11\", \"Topic11\", \"Topic11\", \"Topic11\", \"Topic11\", \"Topic11\", \"Topic11\", \"Topic11\", \"Topic11\", \"Topic11\", \"Topic11\", \"Topic11\", \"Topic11\", \"Topic11\", \"Topic11\", \"Topic11\", \"Topic11\", \"Topic11\", \"Topic11\", \"Topic11\", \"Topic11\", \"Topic11\", \"Topic11\", \"Topic11\", \"Topic11\", \"Topic11\", \"Topic11\", \"Topic11\", \"Topic11\", \"Topic11\", \"Topic11\", \"Topic11\", \"Topic11\", \"Topic11\", \"Topic11\", \"Topic11\", \"Topic12\", \"Topic12\", \"Topic12\", \"Topic12\", \"Topic12\", \"Topic12\", \"Topic12\", \"Topic12\", \"Topic12\", \"Topic12\", \"Topic12\", \"Topic12\", \"Topic12\", \"Topic12\", \"Topic12\", \"Topic12\", \"Topic12\", \"Topic12\", \"Topic12\", \"Topic12\", \"Topic12\", \"Topic12\", \"Topic12\", \"Topic12\", \"Topic12\", \"Topic12\", \"Topic12\", \"Topic12\", \"Topic12\", \"Topic12\", \"Topic12\", \"Topic12\", \"Topic12\", \"Topic12\", \"Topic12\", \"Topic12\", \"Topic12\", \"Topic12\", \"Topic12\", \"Topic12\", \"Topic12\", \"Topic12\", \"Topic12\", \"Topic12\", \"Topic12\", \"Topic12\", \"Topic13\", \"Topic13\", \"Topic13\", \"Topic13\", \"Topic13\", \"Topic13\", \"Topic13\", \"Topic13\", \"Topic13\", \"Topic13\", \"Topic13\", \"Topic13\", \"Topic13\", \"Topic13\", \"Topic13\", \"Topic13\", \"Topic13\", \"Topic13\", \"Topic13\", \"Topic13\", \"Topic13\", \"Topic13\", \"Topic13\", \"Topic13\", \"Topic13\", \"Topic13\", \"Topic13\", \"Topic13\", \"Topic13\", \"Topic13\", \"Topic13\", \"Topic13\", \"Topic13\", \"Topic13\", \"Topic13\", \"Topic13\", \"Topic13\", \"Topic13\", \"Topic13\", \"Topic13\", \"Topic13\", \"Topic13\", \"Topic13\", \"Topic13\", \"Topic13\", \"Topic13\", \"Topic13\", \"Topic14\", \"Topic14\", \"Topic14\", \"Topic14\", \"Topic14\", \"Topic14\", \"Topic14\", \"Topic14\", \"Topic14\", \"Topic14\", \"Topic14\", \"Topic14\", \"Topic14\", \"Topic14\", \"Topic14\", \"Topic14\", \"Topic14\", \"Topic14\", \"Topic14\", \"Topic14\", \"Topic14\", \"Topic14\", \"Topic14\", \"Topic14\", \"Topic14\", \"Topic14\", \"Topic14\", \"Topic14\", \"Topic14\", \"Topic14\", \"Topic14\", \"Topic14\", \"Topic14\", \"Topic14\", \"Topic14\", \"Topic14\", \"Topic14\", \"Topic14\", \"Topic14\", \"Topic14\", \"Topic14\", \"Topic15\", \"Topic15\", \"Topic15\", \"Topic15\", \"Topic15\", \"Topic15\", \"Topic15\", \"Topic15\", \"Topic15\", \"Topic15\", \"Topic15\", \"Topic15\", \"Topic15\", \"Topic15\", \"Topic15\", \"Topic15\", \"Topic15\", \"Topic15\", \"Topic15\", \"Topic15\", \"Topic15\", \"Topic15\", \"Topic15\", \"Topic15\", \"Topic15\", \"Topic15\", \"Topic15\", \"Topic15\", \"Topic15\", \"Topic15\", \"Topic15\", \"Topic15\", \"Topic15\", \"Topic15\", \"Topic15\", \"Topic15\", \"Topic15\", \"Topic15\", \"Topic15\", \"Topic15\", \"Topic15\", \"Topic15\", \"Topic15\", \"Topic15\", \"Topic15\", \"Topic15\", \"Topic16\", \"Topic16\", \"Topic16\", \"Topic16\", \"Topic16\", \"Topic16\", \"Topic16\", \"Topic16\", \"Topic16\", \"Topic16\", \"Topic16\", \"Topic16\", \"Topic16\", \"Topic16\", \"Topic16\", \"Topic16\", \"Topic16\", \"Topic16\", \"Topic16\", \"Topic16\", \"Topic16\", \"Topic16\", \"Topic16\", \"Topic16\", \"Topic16\", \"Topic16\", \"Topic16\", \"Topic16\", \"Topic16\", \"Topic16\", \"Topic16\", \"Topic16\", \"Topic16\", \"Topic16\", \"Topic16\", \"Topic16\", \"Topic16\", \"Topic16\", \"Topic16\", \"Topic16\", \"Topic16\", \"Topic16\", \"Topic16\", \"Topic16\", \"Topic16\", \"Topic17\", \"Topic17\", \"Topic17\", \"Topic17\", \"Topic17\", \"Topic17\", \"Topic17\", \"Topic17\", \"Topic17\", \"Topic17\", \"Topic17\", \"Topic17\", \"Topic17\", \"Topic17\", \"Topic17\", \"Topic17\", \"Topic17\", \"Topic17\", \"Topic17\", \"Topic17\", \"Topic17\", \"Topic17\", \"Topic17\", \"Topic17\", \"Topic17\", \"Topic17\", \"Topic17\", \"Topic17\", \"Topic17\", \"Topic17\", \"Topic17\", \"Topic17\", \"Topic17\", \"Topic17\", \"Topic17\", \"Topic17\", \"Topic17\", \"Topic17\", \"Topic17\", \"Topic18\", \"Topic18\", \"Topic18\", \"Topic18\", \"Topic18\", \"Topic18\", \"Topic18\", \"Topic18\", \"Topic18\", \"Topic18\", \"Topic18\", \"Topic18\", \"Topic18\", \"Topic18\", \"Topic18\", \"Topic18\", \"Topic18\", \"Topic18\", \"Topic18\", \"Topic18\", \"Topic18\", \"Topic18\", \"Topic18\", \"Topic18\", \"Topic18\", \"Topic18\", \"Topic18\", \"Topic18\", \"Topic18\", \"Topic18\", \"Topic18\", \"Topic18\", \"Topic18\", \"Topic18\", \"Topic18\", \"Topic18\", \"Topic18\", \"Topic18\", \"Topic18\", \"Topic18\", \"Topic18\", \"Topic18\", \"Topic18\", \"Topic18\", \"Topic19\", \"Topic19\", \"Topic19\", \"Topic19\", \"Topic19\", \"Topic19\", \"Topic19\", \"Topic19\", \"Topic19\", \"Topic19\", \"Topic19\", \"Topic19\", \"Topic19\", \"Topic19\", \"Topic19\", \"Topic19\", \"Topic19\", \"Topic19\", \"Topic19\", \"Topic19\", \"Topic19\", \"Topic19\", \"Topic19\", \"Topic19\", \"Topic19\", \"Topic19\", \"Topic19\", \"Topic19\", \"Topic19\", \"Topic19\", \"Topic19\", \"Topic19\", \"Topic19\", \"Topic19\", \"Topic19\", \"Topic19\", \"Topic19\", \"Topic19\", \"Topic19\", \"Topic19\", \"Topic19\", \"Topic20\", \"Topic20\", \"Topic20\", \"Topic20\", \"Topic20\", \"Topic20\", \"Topic20\", \"Topic20\", \"Topic20\", \"Topic20\", \"Topic20\", \"Topic20\", \"Topic20\", \"Topic20\", \"Topic20\", \"Topic20\", \"Topic20\", \"Topic20\", \"Topic20\", \"Topic20\", \"Topic20\", \"Topic20\", \"Topic20\", \"Topic20\", \"Topic20\", \"Topic20\", \"Topic20\", \"Topic20\", \"Topic20\", \"Topic20\", \"Topic20\", \"Topic20\", \"Topic20\", \"Topic20\", \"Topic20\", \"Topic20\", \"Topic20\", \"Topic20\", \"Topic20\", \"Topic20\", \"Topic20\", \"Topic20\"], \"Freq\": [25774.0, 11619.0, 13396.0, 11674.0, 15087.0, 7078.0, 6879.0, 11947.0, 11401.0, 9457.0, 6045.0, 5845.0, 6512.0, 5277.0, 5050.0, 10010.0, 7038.0, 6619.0, 4568.0, 3984.0, 5936.0, 5688.0, 8557.0, 3494.0, 3635.0, 3479.0, 4599.0, 4240.0, 4070.0, 3115.0, 9456.541015625, 4211.98095703125, 2554.037353515625, 2309.740478515625, 1866.56884765625, 1634.8992919921875, 1595.4400634765625, 1233.9281005859375, 1206.5577392578125, 1177.584228515625, 867.6943969726562, 845.4562377929688, 794.54296875, 719.4426879882812, 612.5390014648438, 571.0457153320312, 441.6560363769531, 347.3744812011719, 309.4402770996094, 293.1595764160156, 292.0182189941406, 262.8858337402344, 248.54736328125, 236.18170166015625, 233.0646514892578, 212.8562469482422, 187.9932861328125, 181.2139434814453, 179.34007263183594, 13324.482421875, 23884.181640625, 11192.7236328125, 10560.6240234375, 5000.3115234375, 3126.564453125, 1920.410888671875, 940.524169921875, 3184.956787109375, 7070.51416015625, 2408.35205078125, 5325.13623046875, 1792.21337890625, 10820.205078125, 2904.5322265625, 3104.465576171875, 2608.30859375, 1447.099365234375, 2037.69091796875, 2217.9931640625, 1256.906494140625, 1587.6474609375, 6511.15478515625, 2661.479736328125, 2389.61328125, 2061.766845703125, 1847.6563720703125, 1603.686279296875, 1280.3961181640625, 1135.4046630859375, 1106.337890625, 889.9027709960938, 888.49462890625, 865.6619873046875, 729.1032104492188, 678.5636596679688, 634.2492065429688, 628.7432250976562, 607.81689453125, 585.4161376953125, 544.3272705078125, 538.9815063476562, 504.50946044921875, 435.7528076171875, 418.96661376953125, 396.8375549316406, 367.73565673828125, 366.1982116699219, 357.1569519042969, 304.57427978515625, 294.787109375, 286.8211364746094, 10701.505859375, 10299.853515625, 3195.68896484375, 1117.310302734375, 2442.904541015625, 1296.122314453125, 1185.788330078125, 5034.94580078125, 644.2062377929688, 943.2618408203125, 1424.807861328125, 899.1795654296875, 806.0331420898438, 999.700439453125, 1115.8707275390625, 734.0230712890625, 2234.183837890625, 1986.206298828125, 1952.81494140625, 1664.1728515625, 1152.4478759765625, 1101.90283203125, 1020.4634399414062, 1009.7534790039062, 983.552734375, 983.1544189453125, 926.0211181640625, 845.3703002929688, 839.2252197265625, 839.0613403320312, 816.24267578125, 798.6519165039062, 791.1842041015625, 785.41455078125, 719.2119750976562, 704.5206909179688, 652.1179809570312, 625.0430297851562, 619.7686767578125, 559.79541015625, 538.6297607421875, 529.4946899414062, 436.57421875, 436.4833068847656, 428.9422912597656, 425.37255859375, 1479.5079345703125, 5244.2119140625, 3134.0732421875, 1539.9378662109375, 1671.3951416015625, 1000.779541015625, 1912.1661376953125, 1893.7899169921875, 1079.3502197265625, 1356.595947265625, 1282.78564453125, 1209.94580078125, 951.0379638671875, 868.9901123046875, 836.7900390625, 868.745361328125, 2856.503173828125, 1348.0537109375, 1223.812255859375, 1178.1802978515625, 843.481689453125, 833.9317626953125, 832.8689575195312, 765.147705078125, 750.0015258789062, 737.9937744140625, 540.0746459960938, 531.5084228515625, 526.0664672851562, 498.62939453125, 478.1883850097656, 458.3764953613281, 457.798828125, 435.7773742675781, 424.00634765625, 415.914306640625, 400.54266357421875, 389.74737548828125, 366.1402587890625, 364.8717041015625, 355.44482421875, 350.957763671875, 346.446533203125, 344.8172302246094, 308.7958984375, 298.8640441894531, 1807.421875, 1780.8302001953125, 3314.438232421875, 1694.5296630859375, 1201.1490478515625, 929.88916015625, 504.70794677734375, 614.9819946289062, 618.1429443359375, 659.4378662109375, 903.9902954101562, 1114.3304443359375, 515.7761840820312, 7077.62060546875, 2761.551513671875, 2484.445068359375, 2068.56103515625, 1715.2288818359375, 1370.9224853515625, 1132.14990234375, 1070.0880126953125, 1061.2874755859375, 799.9762573242188, 751.6965942382812, 746.7538452148438, 578.7915649414062, 551.7874755859375, 502.74835205078125, 494.3963317871094, 493.9866638183594, 448.953369140625, 423.15869140625, 368.370361328125, 362.4813537597656, 341.8878479003906, 335.1103210449219, 314.6134033203125, 302.838134765625, 298.8357238769531, 296.0221862792969, 294.303466796875, 292.9785461425781, 284.2879943847656, 2697.182861328125, 1042.11474609375, 666.5752563476562, 2013.7833251953125, 1239.3857421875, 674.1832275390625, 1539.7611083984375, 887.4415893554688, 736.4254760742188, 1104.5992431640625, 1097.122314453125, 1347.3167724609375, 1551.952392578125, 676.4195556640625, 568.2544555664062, 533.2041015625, 6879.0400390625, 4567.7392578125, 2523.172119140625, 1220.6285400390625, 1071.767333984375, 834.638671875, 780.7323608398438, 775.3219604492188, 712.4557495117188, 643.318359375, 643.0233764648438, 630.7578735351562, 624.8623046875, 545.4218139648438, 490.87255859375, 440.338134765625, 431.9676208496094, 424.2076110839844, 418.5747375488281, 396.595703125, 390.9311828613281, 390.60137939453125, 354.4680480957031, 350.5965576171875, 344.77783203125, 334.0063171386719, 330.5138854980469, 299.06683349609375, 295.9261169433594, 294.7474060058594, 3360.143310546875, 3393.459228515625, 1743.2445068359375, 2838.2412109375, 2302.6748046875, 1042.3250732421875, 507.3701171875, 523.1514892578125, 877.4669799804688, 641.226318359375, 710.9224853515625, 917.8580322265625, 627.1616821289062, 531.6900024414062, 559.5635375976562, 535.4617919921875, 3263.41650390625, 2287.186767578125, 2132.05859375, 1924.0177001953125, 1462.1771240234375, 1105.880859375, 1028.489990234375, 752.8262939453125, 742.1333618164062, 733.19384765625, 696.69921875, 653.3626098632812, 619.0592041015625, 579.38232421875, 577.0846557617188, 548.3352661132812, 511.2205505371094, 504.9607238769531, 491.09161376953125, 417.55169677734375, 403.0234375, 393.6020202636719, 385.7669372558594, 354.6845397949219, 352.1822814941406, 339.3636169433594, 334.5595703125, 244.2959747314453, 233.53504943847656, 216.24798583984375, 1785.9873046875, 749.4842529296875, 774.5056762695312, 1305.460205078125, 1835.2978515625, 1619.4305419921875, 2018.385009765625, 637.1288452148438, 698.78466796875, 1223.1383056640625, 707.9610595703125, 716.791259765625, 782.8169555664062, 514.4056396484375, 6044.119140625, 1376.569580078125, 1087.9466552734375, 1021.8407592773438, 847.8458862304688, 841.6414184570312, 810.5765380859375, 735.1171264648438, 702.7877197265625, 575.60546875, 527.5357055664062, 458.00732421875, 444.5209655761719, 410.0181884765625, 336.8010559082031, 298.4510498046875, 296.08502197265625, 262.7897644042969, 250.90884399414062, 226.44093322753906, 224.70431518554688, 221.34805297851562, 188.5077667236328, 184.8244171142578, 178.1355438232422, 177.04954528808594, 174.68360900878906, 174.0549774169922, 171.81214904785156, 170.27980041503906, 1166.9559326171875, 1223.030517578125, 2959.40673828125, 1058.1153564453125, 4698.74951171875, 984.0555419921875, 296.54266357421875, 818.5314331054688, 590.4860229492188, 867.0701293945312, 768.9034423828125, 950.694091796875, 597.9170532226562, 807.6593627929688, 870.5181884765625, 456.2694396972656, 681.2720336914062, 584.2653198242188, 501.13671875, 2203.169677734375, 1220.504638671875, 1051.1231689453125, 803.607421875, 753.5843505859375, 738.3455200195312, 598.30078125, 569.8836669921875, 567.8644409179688, 528.8818969726562, 485.7934875488281, 485.6742248535156, 431.8391418457031, 417.3121032714844, 413.9366455078125, 406.5379333496094, 378.23138427734375, 374.879150390625, 365.9906921386719, 361.47650146484375, 361.26751708984375, 350.8998107910156, 347.1651306152344, 347.1651306152344, 328.9610595703125, 291.0858154296875, 289.4630126953125, 282.8685302734375, 281.551513671875, 264.7669372558594, 2574.449462890625, 884.067138671875, 2737.264404296875, 416.08892822265625, 381.5328369140625, 670.8773803710938, 764.2437744140625, 405.4251708984375, 416.4764099121094, 469.43157958984375, 377.45965576171875, 457.4830017089844, 1871.1585693359375, 1699.4385986328125, 1336.7564697265625, 1271.771728515625, 1122.3463134765625, 1091.1197509765625, 1069.2581787109375, 1006.451416015625, 932.8040161132812, 924.8026733398438, 706.0243530273438, 704.9060668945312, 668.38671875, 655.7210693359375, 569.1260375976562, 524.7424926757812, 480.5127258300781, 469.3061218261719, 444.215576171875, 425.9275817871094, 416.2626953125, 416.08575439453125, 415.7906188964844, 344.78826904296875, 309.0574035644531, 305.2897644042969, 299.2154846191406, 281.3165283203125, 279.2406921386719, 251.84719848632812, 1652.4580078125, 3258.910888671875, 3436.60498046875, 725.4418334960938, 2701.15966796875, 1162.6021728515625, 1348.7459716796875, 856.2213134765625, 577.840087890625, 1321.217529296875, 731.5116577148438, 481.28875732421875, 5844.56005859375, 5049.37744140625, 2260.9130859375, 1920.3262939453125, 1767.9227294921875, 1104.9940185546875, 942.4817504882812, 941.1594848632812, 769.6211547851562, 645.1578369140625, 575.5588989257812, 550.3171997070312, 548.7561645507812, 532.1126098632812, 478.5954895019531, 441.2102966308594, 410.4049072265625, 409.9678955078125, 408.66265869140625, 386.6398620605469, 364.3150634765625, 359.93084716796875, 353.86248779296875, 352.49847412109375, 352.2068176269531, 292.9034118652344, 289.0789794921875, 285.5357666015625, 271.2640075683594, 245.08299255371094, 2321.77685546875, 885.39990234375, 1182.7169189453125, 948.6054077148438, 818.5293579101562, 1249.8837890625, 1349.8594970703125, 737.651611328125, 861.1907958984375, 579.484130859375, 911.1549072265625, 796.2574462890625, 416.8724060058594, 3983.696044921875, 2201.5400390625, 1070.491455078125, 979.5723876953125, 922.0079956054688, 869.7315063476562, 859.9042358398438, 725.25390625, 715.3300170898438, 628.8035888671875, 596.0813598632812, 581.6009521484375, 528.7835083007812, 527.7574462890625, 501.6688232421875, 499.7348327636719, 437.6629638671875, 437.1501159667969, 432.27008056640625, 421.8045959472656, 421.2908020019531, 410.92022705078125, 410.82427978515625, 409.24365234375, 403.73876953125, 349.8738708496094, 347.53997802734375, 329.79974365234375, 321.0938415527344, 311.7303161621094, 2653.011474609375, 1238.9117431640625, 1147.177490234375, 1075.0115966796875, 1937.328369140625, 1646.103515625, 722.647705078125, 1167.4595947265625, 2225.541748046875, 715.9302978515625, 1227.2474365234375, 763.60546875, 496.14581298828125, 585.5767822265625, 523.1979370117188, 538.4061889648438, 3144.577392578125, 2374.41748046875, 1206.253173828125, 1117.9478759765625, 1020.6980590820312, 870.1434936523438, 682.1132202148438, 671.4947509765625, 613.5867309570312, 453.0155029296875, 450.60308837890625, 447.20513916015625, 446.18096923828125, 416.8411560058594, 413.703857421875, 409.7862243652344, 390.5460510253906, 361.8096618652344, 335.330810546875, 328.5062561035156, 297.5831298828125, 296.7771301269531, 263.4368591308594, 249.39393615722656, 246.65028381347656, 242.55198669433594, 238.62400817871094, 238.5714111328125, 219.74301147460938, 194.1981658935547, 918.329833984375, 2705.1220703125, 1013.7799072265625, 3623.759033203125, 1422.688720703125, 2203.503662109375, 915.60888671875, 635.6119995117188, 912.6572875976562, 1061.1053466796875, 695.1119384765625, 571.1090087890625, 766.1268310546875, 820.9588623046875, 572.8465576171875, 803.68994140625, 461.5320739746094, 3634.078369140625, 3114.2314453125, 2207.742919921875, 1552.74267578125, 1181.732666015625, 1082.64892578125, 854.7266235351562, 811.0833129882812, 630.9588623046875, 624.1085205078125, 611.3598022460938, 539.212890625, 505.19146728515625, 489.23284912109375, 473.5047912597656, 464.2189025878906, 450.9134826660156, 421.1529541015625, 418.19024658203125, 416.3910827636719, 396.0117492675781, 376.4072570800781, 322.3167724609375, 308.8940734863281, 301.20135498046875, 298.93975830078125, 297.60260009765625, 284.5720520019531, 280.63568115234375, 275.5096435546875, 1163.390380859375, 942.9572143554688, 528.213623046875, 1837.35205078125, 623.0078125, 2972.5341796875, 581.49755859375, 620.9043579101562, 620.0531616210938, 827.71484375, 480.9770202636719, 1880.0604248046875, 1608.9478759765625, 1396.09130859375, 1273.529541015625, 1091.935302734375, 1076.94677734375, 822.772216796875, 703.7583618164062, 661.1941528320312, 566.6658935546875, 456.6022644042969, 440.31866455078125, 403.9922790527344, 400.3949890136719, 393.7799072265625, 389.33953857421875, 358.5122375488281, 353.4704284667969, 339.5572814941406, 338.6043395996094, 325.3041687011719, 307.4898681640625, 296.6497802734375, 295.2205810546875, 274.9601745605469, 274.776123046875, 250.68792724609375, 250.0845947265625, 191.92967224121094, 185.27301025390625, 1855.76708984375, 517.5112915039062, 1784.255126953125, 1472.6837158203125, 1448.2813720703125, 431.26849365234375, 593.4732055664062, 417.9447326660156, 1090.2244873046875, 704.0341796875, 501.9806823730469, 481.9375, 562.3339233398438, 586.131591796875, 490.87689208984375, 438.0171813964844, 2472.612060546875, 2259.341064453125, 1907.6446533203125, 1477.5419921875, 1286.0296630859375, 816.3014526367188, 713.4790649414062, 620.5820922851562, 594.0302124023438, 475.7125244140625, 365.8337707519531, 354.0415954589844, 344.9178771972656, 316.5211486816406, 275.8771667480469, 265.765869140625, 249.7152099609375, 243.89605712890625, 243.69937133789062, 238.04359436035156, 231.64727783203125, 230.07598876953125, 228.80860900878906, 217.07470703125, 216.9634246826172, 198.6896209716797, 195.23043823242188, 192.8232879638672, 188.68663024902344, 186.35440063476562, 5037.39208984375, 2823.731689453125, 968.752197265625, 421.93902587890625, 424.7008361816406, 792.5530395507812, 633.6024169921875, 592.243896484375, 1127.0592041015625, 1360.796875, 452.4017333984375, 859.0169677734375, 546.2335205078125, 493.56640625, 289.7864990234375, 3478.068115234375, 2605.443115234375, 2289.409912109375, 2040.41796875, 1798.91796875, 1223.830810546875, 1182.756103515625, 831.9886474609375, 636.6793212890625, 623.6972045898438, 531.1961059570312, 508.85040283203125, 464.7824401855469, 457.7370910644531, 448.47857666015625, 408.3736572265625, 400.5523681640625, 383.4436340332031, 378.35400390625, 356.6884460449219, 353.22406005859375, 338.08001708984375, 331.56982421875, 319.3420104980469, 270.2506103515625, 240.93922424316406, 236.0220184326172, 230.25592041015625, 200.8971405029297, 197.1713409423828, 1648.1519775390625, 863.5257568359375, 1966.884521484375, 910.6784057617188, 666.248046875, 647.4139404296875, 535.6521606445312, 546.3060302734375, 468.9622802734375, 2128.525390625, 1896.833251953125, 1302.2767333984375, 1095.917724609375, 952.5365600585938, 941.5397338867188, 613.9744873046875, 530.5805053710938, 500.488525390625, 471.18841552734375, 452.9684753417969, 416.9588317871094, 416.91455078125, 404.65985107421875, 365.0609436035156, 356.2358703613281, 354.54473876953125, 350.6184997558594, 337.97857666015625, 328.63623046875, 314.9736328125, 281.8341369628906, 259.4875183105469, 256.97796630859375, 240.79360961914062, 240.20848083496094, 225.20558166503906, 222.57420349121094, 212.18885803222656, 186.56468200683594, 826.264404296875, 1240.3218994140625, 1034.0093994140625, 1132.46826171875, 2201.4921875, 891.9175415039062, 348.4736022949219, 748.2564086914062, 1013.2544555664062, 1172.4383544921875, 537.661376953125, 441.6819152832031, 452.7972412109375, 351.26495361328125, 3493.67138671875, 2145.578369140625, 1392.689697265625, 973.3919677734375, 741.6089477539062, 702.5880126953125, 695.6759643554688, 666.8993530273438, 623.7534790039062, 580.229248046875, 512.9283447265625, 500.8586120605469, 498.9554138183594, 492.71600341796875, 489.1419372558594, 392.5827331542969, 384.4907531738281, 381.4720153808594, 345.6903991699219, 328.5709533691406, 324.08453369140625, 313.1875305175781, 306.5074462890625, 266.8262023925781, 248.6517333984375, 235.65447998046875, 225.41294860839844, 186.65533447265625, 181.1603546142578, 180.9074249267578, 1524.2576904296875, 596.4403686523438, 421.2830505371094, 399.4924011230469, 800.5138549804688, 1505.424560546875, 651.7337036132812, 654.47509765625, 471.1963195800781, 439.9158020019531, 340.41650390625, 1921.02587890625, 1695.07373046875, 1362.9730224609375, 1007.2130126953125, 943.6770629882812, 909.866455078125, 888.054443359375, 885.722412109375, 796.9723510742188, 587.0889892578125, 568.8029174804688, 539.719970703125, 444.0162353515625, 416.41632080078125, 362.5020751953125, 326.1925964355469, 309.4695129394531, 300.7360534667969, 295.9251403808594, 287.26507568359375, 267.648193359375, 258.06683349609375, 242.8191375732422, 241.49647521972656, 211.45266723632812, 210.4844512939453, 192.36155700683594, 173.510009765625, 168.59347534179688, 166.1774444580078, 334.8868408203125, 1445.41650390625, 459.02740478515625, 300.73651123046875, 1030.7701416015625, 1814.4759521484375, 626.0450439453125, 332.46160888671875, 382.3246154785156, 312.6257629394531, 345.625, 360.5997314453125], \"Term\": [\"nt\", \"bernie\", \"people\", \"sander\", \"would\", \"want\", \"trump\", \"get\", \"say\", \"think\", \"obama\", \"vote\", \"clinton\", \"really\", \"party\", \"go\", \"president\", \"know\", \"campaign\", \"state\", \"hillary\", \"good\", \"make\", \"win\", \"right\", \"big\", \"support\", \"black\", \"bill\", \"pay\", \"think\", \"need\", \"let\", \"love\", \"everyone\", \"politic\", \"old\", \"exactly\", \"rather\", \"almost\", \"movement\", \"absolutely\", \"step\", \"hate\", \"bet\", \"wonder\", \"future\", \"usual\", \"straight\", \"century\", \"code\", \"successful\", \"special\", \"battle\", \"rating\", \"bite\", \"around\", \"drag\", \"approach\", \"people\", \"nt\", \"get\", \"say\", \"thing\", \"happen\", \"lot\", \"program\", \"much\", \"make\", \"change\", \"see\", \"talk\", \"would\", \"money\", \"time\", \"political\", \"sure\", \"black\", \"year\", \"issue\", \"republican\", \"clinton\", \"fuck\", \"believe\", \"politician\", \"day\", \"nothing\", \"maybe\", \"else\", \"gon\", \"case\", \"listen\", \"goldman\", \"due\", \"especially\", \"ad\", \"sach\", \"ask\", \"financial\", \"appoint\", \"drive\", \"judge\", \"idiot\", \"debt\", \"event\", \"hilary\", \"lack\", \"weird\", \"main\", \"trick\", \"lol\", \"bernie\", \"sander\", \"try\", \"ever\", \"election\", \"spend\", \"conservative\", \"go\", \"create\", \"liberal\", \"actually\", \"policy\", \"reason\", \"time\", \"president\", \"nominee\", \"keep\", \"life\", \"never\", \"part\", \"name\", \"general\", \"argument\", \"group\", \"community\", \"chance\", \"hour\", \"history\", \"age\", \"result\", \"sound\", \"opinion\", \"small\", \"respect\", \"information\", \"sense\", \"write\", \"clearly\", \"racial\", \"meet\", \"industry\", \"word\", \"prevent\", \"security\", \"bunch\", \"fun\", \"help\", \"know\", \"voter\", \"fact\", \"give\", \"live\", \"even\", \"good\", \"medium\", \"take\", \"point\", \"http\", \"make\", \"country\", \"american\", \"would\", \"bank\", \"south\", \"wall\", \"street\", \"attempt\", \"current\", \"worker\", \"simply\", \"carolina\", \"head\", \"obstructionist\", \"civil\", \"employee\", \"advantage\", \"simple\", \"learn\", \"damn\", \"solution\", \"foreign\", \"private\", \"figure\", \"largely\", \"access\", \"situation\", \"krugman\", \"smart\", \"town\", \"official\", \"michigan\", \"champion\", \"problem\", \"power\", \"government\", \"care\", \"act\", \"child\", \"protect\", \"corporate\", \"fair\", \"public\", \"federal\", \"year\", \"whole\", \"want\", \"ca\", \"shit\", \"something\", \"post\", \"family\", \"watch\", \"matter\", \"carson\", \"regardless\", \"question\", \"happy\", \"nice\", \"truth\", \"third\", \"check\", \"dream\", \"feed\", \"crazy\", \"honestly\", \"washington\", \"discuss\", \"concern\", \"sit\", \"interview\", \"charge\", \"chicago\", \"internet\", \"assume\", \"upset\", \"job\", \"hard\", \"union\", \"anyone\", \"find\", \"pull\", \"seem\", \"close\", \"suppose\", \"first\", \"way\", \"hillary\", \"nt\", \"bill\", \"whole\", \"medium\", \"trump\", \"campaign\", \"jeb\", \"fail\", \"story\", \"however\", \"instead\", \"rally\", \"former\", \"buy\", \"usa\", \"like\", \"website\", \"donald\", \"sometimes\", \"deserve\", \"governor\", \"redirect\", \"site\", \"amazing\", \"education\", \"jackson\", \"scotus\", \"jesse\", \"florida\", \"actual\", \"search\", \"fucking\", \"domain\", \"southern\", \"come\", \"bill\", \"pretty\", \"candidate\", \"supporter\", \"democratic\", \"serious\", \"presidential\", \"bush\", \"speak\", \"actually\", \"go\", \"great\", \"america\", \"even\", \"make\", \"run\", \"someone\", \"senate\", \"real\", \"poverty\", \"top\", \"gt\", \"inequality\", \"confirm\", \"lift\", \"wage\", \"thread\", \"moderate\", \"folk\", \"middle\", \"area\", \"sector\", \"surprised\", \"fall\", \"entirely\", \"research\", \"hispanic\", \"profit\", \"overall\", \"mistake\", \"flip\", \"endorse\", \"targett\", \"ahead\", \"grab\", \"nominate\", \"office\", \"poor\", \"world\", \"could\", \"country\", \"republican\", \"entire\", \"become\", \"president\", \"leave\", \"anyone\", \"even\", \"nominee\", \"obama\", \"thank\", \"likely\", \"true\", \"place\", \"cruz\", \"title\", \"expect\", \"yet\", \"rest\", \"endorsement\", \"double\", \"mark\", \"follow\", \"provide\", \"recognize\", \"compromise\", \"reverse\", \"size\", \"conclusion\", \"t\", \"shoot\", \"insult\", \"forefront\", \"afraid\", \"pray\", \"arkansa\", \"electorate\", \"seat\", \"remark\", \"hold\", \"nomination\", \"woman\", \"person\", \"president\", \"decide\", \"fill\", \"pick\", \"large\", \"democratic\", \"america\", \"support\", \"reason\", \"candidate\", \"year\", \"base\", \"voter\", \"first\", \"issue\", \"law\", \"george\", \"supreme\", \"pass\", \"whatev\", \"price\", \"continue\", \"die\", \"school\", \"fool\", \"ridiculous\", \"face\", \"tough\", \"budget\", \"epa\", \"overturn\", \"dangerous\", \"obstruct\", \"fraud\", \"argue\", \"impossible\", \"supply\", \"commerce\", \"uphold\", \"intend\", \"filibuster\", \"label\", \"thousand\", \"consumer\", \"retire\", \"court\", \"decision\", \"bush\", \"level\", \"common\", \"federal\", \"even\", \"rule\", \"water\", \"http\", \"consequence\", \"year\", \"new\", \"read\", \"percent\", \"young\", \"edit\", \"comment\", \"minority\", \"economist\", \"similar\", \"rate\", \"open\", \"link\", \"realize\", \"primary\", \"deal\", \"latino\", \"millennial\", \"form\", \"trade\", \"hampshire\", \"disagree\", \"ratio\", \"effective\", \"upvote\", \"margin\", \"register\", \"proud\", \"shitty\", \"flat\", \"late\", \"high\", \"article\", \"support\", \"headline\", \"point\", \"lead\", \"tax\", \"today\", \"must\", \"sander\", \"hillary\", \"show\", \"vote\", \"party\", \"white\", \"justice\", \"tea\", \"scalia\", \"difference\", \"guess\", \"block\", \"democracy\", \"bit\", \"imagine\", \"front\", \"gun\", \"obvious\", \"correct\", \"willing\", \"thus\", \"french\", \"draw\", \"tilli\", \"field\", \"resume\", \"complain\", \"subreddit\", \"fear\", \"fort\", \"thumbnail\", \"reject\", \"huge\", \"well\", \"voting\", \"kind\", \"senator\", \"house\", \"consider\", \"also\", \"nominee\", \"woman\", \"put\", \"bernie\", \"say\", \"limit\", \"state\", \"call\", \"economic\", \"stupid\", \"force\", \"secretary\", \"mind\", \"member\", \"population\", \"holy\", \"credit\", \"remove\", \"represent\", \"mention\", \"favor\", \"hundred\", \"georgia\", \"socialist\", \"early\", \"prove\", \"brother\", \"individual\", \"honest\", \"nation\", \"treasury\", \"tomorrow\", \"terrible\", \"average\", \"victim\", \"impressive\", \"man\", \"city\", \"stop\", \"month\", \"great\", \"american\", \"establishment\", \"use\", \"would\", \"become\", \"even\", \"also\", \"citizen\", \"speak\", \"number\", \"take\", \"work\", \"anything\", \"news\", \"literally\", \"funny\", \"stuff\", \"currency\", \"page\", \"firewall\", \"note\", \"other\", \"goal\", \"set\", \"failure\", \"prominent\", \"market\", \"pundit\", \"tactic\", \"hat\", \"excuse\", \"focus\", \"usually\", \"husband\", \"exact\", \"hilarious\", \"absolute\", \"asshole\", \"marriage\", \"horrible\", \"predict\", \"flint\", \"many\", \"everything\", \"hillary\", \"term\", \"use\", \"free\", \"turn\", \"seem\", \"way\", \"least\", \"long\", \"give\", \"good\", \"decide\", \"see\", \"first\", \"right\", \"pay\", \"do\", \"congress\", \"not\", \"play\", \"email\", \"refuse\", \"miss\", \"bullshit\", \"cut\", \"account\", \"explain\", \"stay\", \"s\", \"paul\", \"throw\", \"be\", \"mouth\", \"amount\", \"remind\", \"sad\", \"apparently\", \"longer\", \"wing\", \"spending\", \"wtf\", \"ability\", \"count\", \"add\", \"start\", \"national\", \"experience\", \"look\", \"cover\", \"good\", \"effect\", \"revolution\", \"policy\", \"know\", \"country\", \"democrat\", \"attack\", \"enough\", \"wrong\", \"lose\", \"less\", \"bern\", \"begin\", \"company\", \"source\", \"home\", \"appear\", \"desperate\", \"administration\", \"team\", \"waste\", \"perhaps\", \"dislike\", \"choose\", \"county\", \"corruption\", \"million\", \"project\", \"anyway\", \"car\", \"valid\", \"invest\", \"fairly\", \"neighborhood\", \"dare\", \"feel\", \"service\", \"health\", \"last\", \"insurance\", \"replace\", \"fight\", \"important\", \"republican\", \"leave\", \"bring\", \"lead\", \"also\", \"go\", \"government\", \"system\", \"bad\", \"mean\", \"break\", \"elect\", \"warren\", \"single\", \"offer\", \"hell\", \"completely\", \"forget\", \"welfare\", \"basically\", \"list\", \"percentage\", \"anymore\", \"nervous\", \"reach\", \"empty\", \"god\", \"increasingly\", \"succeed\", \"recently\", \"decade\", \"capitalism\", \"drug\", \"narrative\", \"human\", \"document\", \"rank\", \"efficient\", \"really\", \"still\", \"control\", \"trust\", \"couple\", \"cost\", \"choice\", \"strong\", \"system\", \"http\", \"healthcare\", \"also\", \"consider\", \"last\", \"serve\", \"big\", \"guy\", \"tell\", \"back\", \"poll\", \"video\", \"side\", \"different\", \"seriously\", \"second\", \"send\", \"facebook\", \"branch\", \"major\", \"military\", \"pretend\", \"dnc\", \"gain\", \"vegas\", \"spot\", \"reasonable\", \"cool\", \"everybody\", \"random\", \"mexico\", \"mother\", \"soon\", \"degree\", \"strange\", \"reno\", \"probably\", \"reddit\", \"take\", \"nevada\", \"idea\", \"supporter\", \"pretty\", \"know\", \"http\", \"end\", \"majority\", \"racism\", \"social\", \"sexism\", \"agree\", \"one\", \"super\", \"half\", \"racist\", \"date\", \"lady\", \"baby\", \"crime\", \"fire\", \"bother\", \"monopoly\", \"suck\", \"discrimination\", \"polling\", \"vast\", \"immigration\", \"author\", \"scab\", \"playing\", \"value\", \"cite\", \"progress\", \"determine\", \"clue\", \"little\", \"claim\", \"line\", \"allow\", \"black\", \"race\", \"statement\", \"nevada\", \"could\", \"would\", \"issue\", \"idea\", \"article\", \"first\", \"win\", \"hear\", \"wo\", \"interesting\", \"lie\", \"reality\", \"rpolitic\", \"agenda\", \"status\", \"able\", \"progressive\", \"quo\", \"speaker\", \"definitely\", \"defend\", \"panic\", \"barack\", \"worth\", \"picture\", \"totally\", \"topic\", \"rise\", \"deductible\", \"famous\", \"wife\", \"illinois\", \"ruin\", \"embarrassing\", \"sick\", \"california\", \"show\", \"move\", \"universal\", \"aca\", \"insurance\", \"go\", \"america\", \"health\", \"political\", \"may\", \"change\", \"abortion\", \"https\", \"far\", \"speech\", \"position\", \"course\", \"hope\", \"birth\", \"record\", \"nonhispanic\", \"generation\", \"study\", \"amp\", \"address\", \"environment\", \"game\", \"ground\", \"interested\", \"illegal\", \"heart\", \"refer\", \"undecided\", \"qualified\", \"peace\", \"wheel\", \"constituent\", \"france\", \"personally\", \"itt\", \"somewhere\", \"destroy\", \"plan\", \"view\", \"easy\", \"look\", \"go\", \"speak\", \"debate\", \"healthcare\", \"moment\", \"leave\", \"voter\"], \"Total\": [25774.0, 11619.0, 13396.0, 11674.0, 15087.0, 7078.0, 6879.0, 11947.0, 11401.0, 9457.0, 6045.0, 5845.0, 6512.0, 5277.0, 5050.0, 10010.0, 7038.0, 6619.0, 4568.0, 3984.0, 5936.0, 5688.0, 8557.0, 3494.0, 3635.0, 3479.0, 4599.0, 4240.0, 4070.0, 3115.0, 9457.4755859375, 4212.91650390625, 2554.97265625, 2310.67578125, 1867.50439453125, 1635.8348388671875, 1596.3756103515625, 1234.8636474609375, 1207.4932861328125, 1178.519775390625, 868.6298217773438, 846.3916625976562, 795.4783935546875, 720.3781127929688, 613.4744262695312, 571.9811401367188, 442.591552734375, 348.30999755859375, 310.37579345703125, 294.0950927734375, 292.9537353515625, 263.82135009765625, 249.48280334472656, 237.1171417236328, 234.00009155273438, 213.79168701171875, 188.92872619628906, 182.14938354492188, 180.2755126953125, 13396.482421875, 25774.353515625, 11947.8818359375, 11401.466796875, 5380.21484375, 3464.821533203125, 2121.22021484375, 1000.9812622070312, 3627.85595703125, 8557.849609375, 2749.656005859375, 6497.779296875, 2051.03515625, 15087.7158203125, 3522.333984375, 4105.05078125, 3388.3359375, 1783.530517578125, 4240.06982421875, 5277.90673828125, 2402.620361328125, 5326.44580078125, 6512.09033203125, 2662.4150390625, 2390.548583984375, 2062.7021484375, 1848.5919189453125, 1604.621826171875, 1281.3316650390625, 1136.3402099609375, 1107.2734375, 890.8382568359375, 889.4301147460938, 866.5974731445312, 730.0386962890625, 679.4991455078125, 635.1846923828125, 629.6787109375, 608.7523803710938, 586.3516235351562, 545.2627563476562, 539.9169921875, 505.4449768066406, 436.6883239746094, 419.9021301269531, 397.7730712890625, 368.6711730957031, 367.13372802734375, 358.09246826171875, 305.5097961425781, 295.7226257324219, 287.75665283203125, 11619.3251953125, 11674.740234375, 3494.847412109375, 1225.611083984375, 3007.570068359375, 1576.239990234375, 1469.525634765625, 10010.375, 724.40673828125, 1440.7900390625, 2929.281982421875, 1520.1201171875, 1767.084716796875, 4105.05078125, 7038.59716796875, 1986.918212890625, 2235.118896484375, 1987.1417236328125, 1953.7503662109375, 1665.1082763671875, 1153.38330078125, 1102.8382568359375, 1021.3987426757812, 1010.6887817382812, 984.488037109375, 984.0897216796875, 926.9564208984375, 846.3056030273438, 840.1605224609375, 839.9966430664062, 817.177978515625, 799.5872192382812, 792.1195068359375, 786.349853515625, 720.1472778320312, 705.4559936523438, 653.0532836914062, 625.9783325195312, 620.7039794921875, 560.730712890625, 539.5650634765625, 530.4299926757812, 437.50958251953125, 437.4186706542969, 429.8776550292969, 426.30792236328125, 1589.42236328125, 6619.06982421875, 4176.78515625, 1970.5250244140625, 2774.827392578125, 1361.3896484375, 5246.7763671875, 5688.12060546875, 1915.134765625, 4592.25, 3984.83056640625, 3843.932861328125, 8557.849609375, 3340.764892578125, 2796.616943359375, 15087.7158203125, 2857.44140625, 1348.9921875, 1224.750732421875, 1179.1187744140625, 844.4200439453125, 834.8701171875, 833.8073120117188, 766.0860595703125, 750.9398803710938, 738.93212890625, 541.0130004882812, 532.44677734375, 527.0048217773438, 499.56781005859375, 479.1268005371094, 459.3149108886719, 458.73724365234375, 436.7157897949219, 424.94476318359375, 416.85272216796875, 401.4810791015625, 390.685791015625, 367.07867431640625, 365.81011962890625, 356.38323974609375, 351.89617919921875, 347.38494873046875, 345.7556457519531, 309.73431396484375, 299.8024597167969, 2051.60693359375, 2057.32177734375, 4070.25537109375, 2461.115478515625, 1632.8323974609375, 1205.67626953125, 564.83642578125, 759.4757080078125, 791.86181640625, 881.6755981445312, 1853.1141357421875, 5277.90673828125, 1401.0443115234375, 7078.55712890625, 2762.487060546875, 2485.380615234375, 2069.49658203125, 1716.1649169921875, 1371.8585205078125, 1133.0859375, 1071.0240478515625, 1062.2235107421875, 800.912109375, 752.6324462890625, 747.689697265625, 579.7274169921875, 552.7233276367188, 503.68426513671875, 495.3322448730469, 494.9225769042969, 449.8892822265625, 424.0946044921875, 369.3062744140625, 363.4172668457031, 342.8237609863281, 336.0462341308594, 315.54931640625, 303.7740478515625, 299.7716369628906, 296.9580993652344, 295.2393798828125, 293.9144592285156, 285.2239074707031, 2967.80615234375, 1130.82275390625, 763.4603881835938, 2873.290771484375, 1612.517333984375, 810.3492431640625, 2453.3046875, 1222.63427734375, 1064.51318359375, 2502.45068359375, 3630.028564453125, 5936.21630859375, 25774.353515625, 4070.766357421875, 1401.0443115234375, 1915.134765625, 6879.978515625, 4568.677734375, 2524.110107421875, 1221.56689453125, 1072.7056884765625, 835.576904296875, 781.6705932617188, 776.2601928710938, 713.3939819335938, 644.256591796875, 643.9616088867188, 631.6961059570312, 625.800537109375, 546.3600463867188, 491.81085205078125, 441.27642822265625, 432.9059143066406, 425.1459045410156, 419.5130310058594, 397.53399658203125, 391.8694763183594, 391.5396728515625, 355.4063415527344, 351.53485107421875, 345.71612548828125, 334.9446105957031, 331.4521789550781, 300.005126953125, 296.8644104003906, 295.6856994628906, 3400.755126953125, 4070.766357421875, 2279.784423828125, 4045.988525390625, 3488.631103515625, 1910.28515625, 678.9000854492188, 717.2608032226562, 3615.619140625, 1853.6900634765625, 2929.281982421875, 10010.375, 2565.37841796875, 1953.1693115234375, 5246.7763671875, 8557.849609375, 3264.354248046875, 2288.12451171875, 2132.996337890625, 1924.95556640625, 1463.114990234375, 1106.8187255859375, 1029.4278564453125, 753.7640380859375, 743.0711059570312, 734.131591796875, 697.636962890625, 654.3003540039062, 619.9969482421875, 580.320068359375, 578.0223999023438, 549.2730102539062, 512.1583862304688, 505.8985595703125, 492.0294494628906, 418.4895324707031, 403.9612731933594, 394.53985595703125, 386.70477294921875, 355.62237548828125, 353.1201171875, 340.30145263671875, 335.4974060058594, 245.23373413085938, 234.47280883789062, 217.1857452392578, 2047.835693359375, 921.1622314453125, 987.8798828125, 2179.114501953125, 3559.330810546875, 3340.764892578125, 5326.44580078125, 965.736083984375, 1415.6031494140625, 7038.59716796875, 2096.07421875, 2873.290771484375, 5246.7763671875, 1986.918212890625, 6045.05712890625, 1377.5076904296875, 1088.884765625, 1022.77880859375, 848.783935546875, 842.5794677734375, 811.5145874023438, 736.05517578125, 703.7257690429688, 576.5435180664062, 528.4737548828125, 458.9454650878906, 445.4590759277344, 410.9563293457031, 337.7391662597656, 299.3891906738281, 297.0231628417969, 263.7278747558594, 251.8468780517578, 227.37896728515625, 225.64234924316406, 222.2860870361328, 189.44580078125, 185.762451171875, 179.07357788085938, 177.98757934570312, 175.62164306640625, 174.99301147460938, 172.75018310546875, 171.21783447265625, 1244.693115234375, 1422.7669677734375, 3824.38330078125, 1295.2315673828125, 7038.59716796875, 1557.790771484375, 344.2530822753906, 1353.572509765625, 918.4126586914062, 1910.28515625, 1953.1693115234375, 4599.5634765625, 1767.084716796875, 4045.988525390625, 5277.90673828125, 998.4853515625, 4176.78515625, 2502.45068359375, 2402.620361328125, 2204.105712890625, 1221.44091796875, 1052.0594482421875, 804.5435791015625, 754.5205078125, 739.2816772460938, 599.2369384765625, 570.81982421875, 568.8005981445312, 529.8180541992188, 486.7297668457031, 486.6105041503906, 432.7754211425781, 418.2483825683594, 414.8729248046875, 407.4742126464844, 379.16766357421875, 375.8154296875, 366.9269714355469, 362.41278076171875, 362.20379638671875, 351.8360900878906, 348.1014099121094, 348.1014099121094, 329.8973388671875, 292.0220947265625, 290.3992919921875, 283.8048095703125, 282.48779296875, 265.7032165527344, 2915.899658203125, 987.4266967773438, 3615.619140625, 554.8206787109375, 490.187255859375, 1853.1141357421875, 5246.7763671875, 622.0716552734375, 997.5285034179688, 3843.932861328125, 560.2237548828125, 5277.90673828125, 1872.09521484375, 1700.375244140625, 1337.693115234375, 1272.7083740234375, 1123.282958984375, 1092.056396484375, 1070.19482421875, 1007.3878173828125, 933.7404174804688, 925.7390747070312, 706.9607543945312, 705.8424682617188, 669.3231201171875, 656.657470703125, 570.0624389648438, 525.6788940429688, 481.4493103027344, 470.2427062988281, 445.15216064453125, 426.8641662597656, 417.19927978515625, 417.0223388671875, 416.7272033691406, 345.724853515625, 309.9939880371094, 306.2263488769531, 300.1520690917969, 282.25311279296875, 280.1772766113281, 252.78369140625, 1756.0634765625, 3833.516845703125, 4599.5634765625, 822.8191528320312, 3984.83056640625, 1645.4271240234375, 1989.4986572265625, 1462.91552734375, 968.0826416015625, 11674.740234375, 5936.21630859375, 2006.4351806640625, 5845.49755859375, 5050.31494140625, 2261.850341796875, 1921.2637939453125, 1768.8602294921875, 1105.9315185546875, 943.4190673828125, 942.0968017578125, 770.5584716796875, 646.0951538085938, 576.4962158203125, 551.2545166015625, 549.6934814453125, 533.0499267578125, 479.5329284667969, 442.1477355957031, 411.34234619140625, 410.90533447265625, 409.60009765625, 387.5773010253906, 365.25250244140625, 360.8682861328125, 354.7999267578125, 353.4359130859375, 353.1442565917969, 293.8408508300781, 290.01641845703125, 286.47320556640625, 272.2014465332031, 246.02035522460938, 2654.42626953125, 988.3898315429688, 1375.618408203125, 1217.5401611328125, 1053.05322265625, 1921.897705078125, 3535.60400390625, 1986.918212890625, 3824.38330078125, 1858.5472412109375, 11619.3251953125, 11401.466796875, 754.6710205078125, 3984.632568359375, 2202.4765625, 1071.42822265625, 980.509033203125, 922.9446411132812, 870.6681518554688, 860.8408813476562, 726.1905517578125, 716.2666625976562, 629.740234375, 597.0180053710938, 582.53759765625, 529.7201538085938, 528.694091796875, 502.6055908203125, 500.6716003417969, 438.5997314453125, 438.0868835449219, 433.20684814453125, 422.7413635253906, 422.2275695800781, 411.85699462890625, 411.76104736328125, 410.180419921875, 404.675537109375, 350.8106384277344, 348.47674560546875, 330.73651123046875, 322.0306091308594, 312.6670837402344, 2884.686767578125, 1351.3538818359375, 1325.6112060546875, 1274.180419921875, 2565.37841796875, 2796.616943359375, 1149.3114013671875, 3736.48388671875, 15087.7158203125, 1415.6031494140625, 5246.7763671875, 3535.60400390625, 762.7789306640625, 1853.6900634765625, 1179.2169189453125, 4592.25, 3145.51416015625, 2375.354248046875, 1207.190185546875, 1118.8848876953125, 1021.635009765625, 871.0804443359375, 683.0501708984375, 672.4317016601562, 614.523681640625, 453.9525451660156, 451.5401306152344, 448.1421813964844, 447.1180114746094, 417.7781982421875, 414.6408996582031, 410.7232666015625, 391.48309326171875, 362.7467041015625, 336.2678527832031, 329.44329833984375, 298.5201721191406, 297.71417236328125, 264.3739013671875, 250.33091735839844, 247.58726501464844, 243.4889678955078, 239.5609893798828, 239.50839233398438, 220.67999267578125, 195.13514709472656, 986.39013671875, 3224.8046875, 1297.11572265625, 5936.21630859375, 2051.82958984375, 3736.48388671875, 1361.6448974609375, 1020.8553466796875, 2453.3046875, 3630.028564453125, 1667.25146484375, 1101.614501953125, 2774.827392578125, 5688.12060546875, 1557.790771484375, 6497.779296875, 2502.45068359375, 3635.0166015625, 3115.169677734375, 2208.68115234375, 1553.680908203125, 1182.6708984375, 1083.587158203125, 855.6648559570312, 812.0215454101562, 631.8970947265625, 625.0467529296875, 612.2980346679688, 540.151123046875, 506.1297302246094, 490.1711120605469, 474.44305419921875, 465.15716552734375, 451.85174560546875, 422.0912170410156, 419.1285095214844, 417.329345703125, 396.95001220703125, 377.34552001953125, 323.2550354003906, 309.83233642578125, 302.1396179199219, 299.8780212402344, 298.5408630371094, 285.51031494140625, 281.5739440917969, 276.4479064941406, 1258.37255859375, 1093.319580078125, 596.4094848632812, 2869.013671875, 763.6382446289062, 5688.12060546875, 714.0833740234375, 1106.8074951171875, 1520.1201171875, 6619.06982421875, 3340.764892578125, 1880.9976806640625, 1609.8851318359375, 1397.028564453125, 1274.466796875, 1092.87255859375, 1077.884033203125, 823.7094116210938, 704.695556640625, 662.13134765625, 567.6030883789062, 457.53948974609375, 441.2558898925781, 404.92950439453125, 401.33221435546875, 394.7171325683594, 390.2767639160156, 359.449462890625, 354.40765380859375, 340.4945068359375, 339.54156494140625, 326.24139404296875, 308.4270935058594, 297.5870056152344, 296.1578063964844, 275.89739990234375, 275.7133483886719, 251.6251220703125, 251.02178955078125, 192.8668670654297, 186.210205078125, 2152.7724609375, 587.081787109375, 2439.619384765625, 2081.15966796875, 2249.6845703125, 511.6193542480469, 813.9288330078125, 628.8489990234375, 5326.44580078125, 2096.07421875, 1725.4134521484375, 1645.4271240234375, 3535.60400390625, 10010.375, 4070.25537109375, 2047.4071044921875, 2473.54833984375, 2260.27734375, 1908.5809326171875, 1478.478271484375, 1286.9659423828125, 817.2377319335938, 714.4153442382812, 621.5183715820312, 594.9664916992188, 476.64886474609375, 366.7701110839844, 354.9779357910156, 345.8542175292969, 317.4574890136719, 276.8135070800781, 266.70220947265625, 250.6514892578125, 244.83233642578125, 244.63565063476562, 238.97987365722656, 232.58355712890625, 231.01226806640625, 229.74488830566406, 218.010986328125, 217.8997039794922, 199.6259002685547, 196.16671752929688, 193.7595672607422, 189.62290954589844, 187.29067993164062, 5277.5615234375, 3036.107421875, 1250.1353759765625, 476.6474914550781, 512.2276611328125, 1132.9326171875, 863.7294921875, 802.63671875, 2047.4071044921875, 3843.932861328125, 835.615966796875, 3535.60400390625, 1921.897705078125, 2081.15966796875, 516.630859375, 3479.00390625, 2606.37890625, 2290.345703125, 2041.3538818359375, 1799.8538818359375, 1224.7667236328125, 1183.6920166015625, 832.924560546875, 637.615234375, 624.6331176757812, 532.1320190429688, 509.7863464355469, 465.7183837890625, 458.67303466796875, 449.4145202636719, 409.3096008300781, 401.4883117675781, 384.37957763671875, 379.2899475097656, 357.6243896484375, 354.1600036621094, 339.0159606933594, 332.5057678222656, 320.2779541015625, 271.1865539550781, 241.87513732910156, 236.9579315185547, 231.19183349609375, 201.8330535888672, 198.1072540283203, 1813.465087890625, 1062.4560546875, 4592.25, 1659.8218994140625, 1263.7099609375, 3488.631103515625, 2279.784423828125, 6619.06982421875, 3843.932861328125, 2129.462890625, 1897.770751953125, 1303.2142333984375, 1096.855224609375, 953.47412109375, 942.477294921875, 614.9120483398438, 531.51806640625, 501.4260559082031, 472.1259460449219, 453.906005859375, 417.8963623046875, 417.8520812988281, 405.5973815917969, 365.99847412109375, 357.17340087890625, 355.4822692871094, 351.5560302734375, 338.9161071777344, 329.5737609863281, 315.9111633300781, 282.77166748046875, 260.425048828125, 257.9154968261719, 241.73114013671875, 241.14601135253906, 226.1431121826172, 223.51173400878906, 213.1263885498047, 187.50221252441406, 893.0732421875, 1457.2999267578125, 1208.4300537109375, 1463.5401611328125, 4240.06982421875, 1328.9600830078125, 433.39141845703125, 1659.8218994140625, 3559.330810546875, 15087.7158203125, 2402.620361328125, 1263.7099609375, 3833.516845703125, 2502.45068359375, 3494.60986328125, 2146.516845703125, 1393.6282958984375, 974.33056640625, 742.5475463867188, 703.526611328125, 696.6145629882812, 667.8379516601562, 624.6920776367188, 581.1678466796875, 513.866943359375, 501.79718017578125, 499.89398193359375, 493.6545715332031, 490.08050537109375, 393.52130126953125, 385.4293212890625, 382.41058349609375, 346.62896728515625, 329.509521484375, 325.0231018066406, 314.1260986328125, 307.4460144042969, 267.7647705078125, 249.5902862548828, 236.59303283691406, 226.35150146484375, 187.59388732910156, 182.09890747070312, 181.84597778320312, 2006.4351806640625, 821.9970703125, 663.442138671875, 622.2384033203125, 2249.6845703125, 10010.375, 1953.1693115234375, 2439.619384765625, 3388.3359375, 2458.458740234375, 2749.656005859375, 1921.965576171875, 1696.013427734375, 1363.9127197265625, 1008.1526489257812, 944.61669921875, 910.8060913085938, 888.9940795898438, 886.6620483398438, 797.9119873046875, 588.0286254882812, 569.7425537109375, 540.6596069335938, 444.9559020996094, 417.3559875488281, 363.4417419433594, 327.13226318359375, 310.4091796875, 301.67572021484375, 296.86480712890625, 288.2047424316406, 268.5878601074219, 259.0065002441406, 243.75880432128906, 242.43614196777344, 212.392333984375, 211.4241180419922, 193.3012237548828, 174.44967651367188, 169.53314208984375, 167.1171112060547, 351.493896484375, 1669.4364013671875, 677.4928588867188, 381.03106689453125, 2869.013671875, 10010.375, 1853.6900634765625, 533.824462890625, 835.615966796875, 462.9950256347656, 2096.07421875, 4176.78515625], \"loglift\": [30.0, 29.0, 28.0, 27.0, 26.0, 25.0, 24.0, 23.0, 22.0, 21.0, 20.0, 19.0, 18.0, 17.0, 16.0, 15.0, 14.0, 13.0, 12.0, 11.0, 10.0, 9.0, 8.0, 7.0, 6.0, 5.0, 4.0, 3.0, 2.0, 1.0, 2.010699987411499, 2.010499954223633, 2.0104000568389893, 2.0104000568389893, 2.0102999210357666, 2.010200023651123, 2.010200023651123, 2.009999990463257, 2.009999990463257, 2.009999990463257, 2.009700059890747, 2.009700059890747, 2.0095999240875244, 2.009500026702881, 2.009200096130371, 2.0090999603271484, 2.0085999965667725, 2.0081000328063965, 2.007699966430664, 2.0076000690460205, 2.0076000690460205, 2.007200002670288, 2.006999969482422, 2.0067999362945557, 2.0067999362945557, 2.0064001083374023, 2.0058000087738037, 2.0055999755859375, 2.0055999755859375, 2.0053999423980713, 1.9345999956130981, 1.9455000162124634, 1.9342000484466553, 1.9375, 1.9079999923706055, 1.9112999439239502, 1.9485000371932983, 1.8805999755859375, 1.8198000192642212, 1.8782000541687012, 1.8116999864578247, 1.8759000301361084, 1.6783000230789185, 1.8178999423980713, 1.7314000129699707, 1.7490999698638916, 1.8016999959945679, 1.277999997138977, 1.1438000202178955, 1.3629000186920166, 0.8003000020980835, 2.6064999103546143, 2.606300115585327, 2.606300115585327, 2.6061999797821045, 2.6061999797821045, 2.606100082397461, 2.6059000492095947, 2.605799913406372, 2.605799913406372, 2.605600118637085, 2.605600118637085, 2.605600118637085, 2.6054000854492188, 2.605299949645996, 2.6052000522613525, 2.6052000522613525, 2.60509991645813, 2.60509991645813, 2.6048998832702637, 2.6048998832702637, 2.60479998588562, 2.6045000553131104, 2.6043999195098877, 2.604300022125244, 2.604099988937378, 2.604099988937378, 2.6040000915527344, 2.603600025177002, 2.6034998893737793, 2.6033999919891357, 2.524399995803833, 2.4814000129699707, 2.517199993133545, 2.5141000747680664, 2.398699998855591, 2.4110000133514404, 2.3921000957489014, 1.9193999767303467, 2.489300012588501, 2.1830999851226807, 1.8859000205993652, 2.0815999507904053, 1.8216999769210815, 1.194100022315979, 0.7649000287055969, 1.6109000444412231, 2.779400110244751, 2.7792999744415283, 2.7792999744415283, 2.7792000770568848, 2.7790000438690186, 2.778899908065796, 2.778899908065796, 2.7788000106811523, 2.7788000106811523, 2.7788000106811523, 2.7788000106811523, 2.778700113296509, 2.778700113296509, 2.778700113296509, 2.778599977493286, 2.778599977493286, 2.778599977493286, 2.778599977493286, 2.7785000801086426, 2.77839994430542, 2.7783000469207764, 2.7783000469207764, 2.7783000469207764, 2.77810001373291, 2.7780001163482666, 2.7780001163482666, 2.777600049972534, 2.777600049972534, 2.777600049972534, 2.777600049972534, 2.7081000804901123, 2.5469000339508057, 2.4925999641418457, 2.5332000255584717, 2.2727999687194824, 2.4719998836517334, 1.770400047302246, 1.6799999475479126, 2.2063000202178955, 1.5604000091552734, 1.646299958229065, 1.623900055885315, 0.5827000141143799, 1.4330999851226807, 1.573199987411499, -0.07479999959468842, 2.908900022506714, 2.9084999561309814, 2.908400058746338, 2.908400058746338, 2.908099889755249, 2.908099889755249, 2.908099889755249, 2.9079999923706055, 2.9079999923706055, 2.907900094985962, 2.9075000286102295, 2.907399892807007, 2.907399892807007, 2.9072999954223633, 2.9072000980377197, 2.9072000980377197, 2.9072000980377197, 2.907099962234497, 2.9070000648498535, 2.9070000648498535, 2.906899929046631, 2.9068000316619873, 2.906599998474121, 2.906599998474121, 2.906599998474121, 2.9065001010894775, 2.9065001010894775, 2.9065001010894775, 2.9061999320983887, 2.906100034713745, 2.7825000286102295, 2.764899969100952, 2.7037999629974365, 2.5360000133514404, 2.6022000312805176, 2.6494998931884766, 2.796600103378296, 2.698199987411499, 2.6614999771118164, 2.618799924850464, 2.1914000511169434, 1.3538999557495117, 1.9098999500274658, 2.9565000534057617, 2.9563000202178955, 2.956199884414673, 2.9560999870300293, 2.9560999870300293, 2.955899953842163, 2.9558000564575195, 2.955699920654297, 2.955699920654297, 2.955399990081787, 2.955399990081787, 2.9553000926971436, 2.9549999237060547, 2.954900026321411, 2.954699993133545, 2.954699993133545, 2.954699993133545, 2.9544999599456787, 2.954400062561035, 2.9540998935699463, 2.9539999961853027, 2.953900098800659, 2.9537999629974365, 2.9535999298095703, 2.9535000324249268, 2.9535000324249268, 2.953399896621704, 2.953399896621704, 2.953399896621704, 2.9532999992370605, 2.8610000610351562, 2.8749001026153564, 2.8208999633789062, 2.6012001037597656, 2.6933999061584473, 2.772599935531616, 2.490799903869629, 2.636199951171875, 2.588099956512451, 2.1387999057769775, 1.7599999904632568, 1.4736000299453735, 0.14669999480247498, 1.1618000268936157, 2.0541999340057373, 1.6779999732971191, 2.967900037765503, 2.9677999019622803, 2.967600107192993, 2.9672000408172607, 2.967099905014038, 2.966900110244751, 2.9667999744415283, 2.9667999744415283, 2.9667000770568848, 2.966599941253662, 2.966599941253662, 2.9665000438690186, 2.9665000438690186, 2.9663000106811523, 2.966099977493286, 2.96589994430542, 2.9658000469207764, 2.9658000469207764, 2.9658000469207764, 2.96560001373291, 2.96560001373291, 2.96560001373291, 2.965399980545044, 2.9653000831604004, 2.9653000831604004, 2.9651999473571777, 2.9651999473571777, 2.964900016784668, 2.9647998809814453, 2.9647998809814453, 2.9560000896453857, 2.7860000133514404, 2.699700117111206, 2.6135001182556152, 2.5525999069213867, 2.3622000217437744, 2.676800012588501, 2.652400016784668, 1.5520000457763672, 1.906499981880188, 1.5520999431610107, 0.5787000060081482, 1.559399962425232, 1.6669000387191772, 0.7297999858856201, 0.1965000033378601, 3.020900011062622, 3.0208001136779785, 3.0208001136779785, 3.020699977874756, 3.0206000804901123, 3.020400047302246, 3.0202999114990234, 3.0199999809265137, 3.01990008354187, 3.01990008354187, 3.01990008354187, 3.0197999477386475, 3.019700050354004, 3.0195999145507812, 3.0195999145507812, 3.0195000171661377, 3.019399881362915, 3.019399881362915, 3.0192999839782715, 3.0190000534057617, 3.018899917602539, 3.0188000202178955, 3.0188000202178955, 3.0185999870300293, 3.0185999870300293, 3.0185000896453857, 3.018399953842163, 3.017400026321411, 3.017199993133545, 3.016900062561035, 2.884399890899658, 2.815000057220459, 2.777899980545044, 2.5088000297546387, 2.358799934387207, 2.297100067138672, 2.050800085067749, 2.605299949645996, 2.315200090408325, 1.2711999416351318, 1.9357999563217163, 1.6327999830245972, 1.1187000274658203, 1.6698999404907227, 3.0432000160217285, 3.0427000522613525, 3.0425000190734863, 3.0425000190734863, 3.04229998588562, 3.04229998588562, 3.0422000885009766, 3.042099952697754, 3.0420000553131104, 3.0416998863220215, 3.041599988937378, 3.041300058364868, 3.041300058364868, 3.041100025177002, 3.040600061416626, 3.0401999950408936, 3.0401999950408936, 3.039799928665161, 3.039599895477295, 3.0392000675201416, 3.0392000675201416, 3.039099931716919, 3.0383999347686768, 3.038300037384033, 3.038100004196167, 3.038100004196167, 3.0380001068115234, 3.0380001068115234, 3.037899971008301, 3.037899971008301, 2.9788999557495117, 2.8921000957489014, 2.7869999408721924, 2.841200113296509, 2.6393001079559326, 2.5840001106262207, 2.894200086593628, 2.5404000282287598, 2.6017000675201416, 2.253499984741211, 2.1110999584198, 1.4668999910354614, 1.9596999883651733, 1.4320000410079956, 1.2411999702453613, 2.260200023651123, 1.2300000190734863, 1.5887000560760498, 1.4759000539779663, 3.0773000717163086, 3.0769999027252197, 3.0768001079559326, 3.0766000747680664, 3.0764999389648438, 3.0764999389648438, 3.076200008392334, 3.0761001110076904, 3.0761001110076904, 3.0759999752044678, 3.0757999420166016, 3.0757999420166016, 3.0755999088287354, 3.075500011444092, 3.075500011444092, 3.0754001140594482, 3.0752999782562256, 3.075200080871582, 3.075200080871582, 3.0750999450683594, 3.0750999450683594, 3.0750999450683594, 3.075000047683716, 3.075000047683716, 3.074899911880493, 3.07450008392334, 3.07450008392334, 3.074399948120117, 3.074399948120117, 3.074199914932251, 2.953200101852417, 2.9672000408172607, 2.7994000911712646, 2.7899999618530273, 2.8271000385284424, 2.0617001056671143, 1.1512000560760498, 2.649600028991699, 2.2042999267578125, 0.9750000238418579, 2.6828999519348145, 0.6322000026702881, 3.0913000106811523, 3.0913000106811523, 3.091099977493286, 3.091099977493286, 3.0910000801086426, 3.09089994430542, 3.09089994430542, 3.09089994430542, 3.0908000469207764, 3.0908000469207764, 3.0905001163482666, 3.0905001163482666, 3.090399980545044, 3.090399980545044, 3.0901999473571777, 3.0899999141693115, 3.089900016784668, 3.0897998809814453, 3.0896999835968018, 3.089600086212158, 3.089600086212158, 3.089600086212158, 3.089600086212158, 3.089099884033203, 3.0887999534606934, 3.08870005607605, 3.08870005607605, 3.0885000228881836, 3.0885000228881836, 3.088099956512451, 3.0309998989105225, 2.9293999671936035, 2.800299882888794, 2.96589994430542, 2.703000068664551, 2.744499921798706, 2.7030999660491943, 2.5560998916625977, 2.5757999420166016, 0.9128999710083008, 0.9980999827384949, 1.664199948310852, 3.1201000213623047, 3.1201000213623047, 3.1198999881744385, 3.119800090789795, 3.1196999549865723, 3.1194000244140625, 3.11929988861084, 3.11929988861084, 3.1191000938415527, 3.118799924850464, 3.1185998916625977, 3.1185998916625977, 3.1185998916625977, 3.118499994277954, 3.118299961090088, 3.1182000637054443, 3.118000030517578, 3.118000030517578, 3.118000030517578, 3.1178998947143555, 3.1177000999450684, 3.1177000999450684, 3.1175999641418457, 3.1175999641418457, 3.1175999641418457, 3.1171000003814697, 3.117000102996826, 3.117000102996826, 3.11680006980896, 3.116499900817871, 2.9863998889923096, 3.010200023651123, 2.9691998958587646, 2.870699882507324, 2.868299961090088, 2.690000057220459, 2.157399892807007, 2.1294000148773193, 1.6294000148773193, 1.9549000263214111, 0.5745999813079834, 0.4587000012397766, 2.5267999172210693, 3.1451001167297363, 3.14490008354187, 3.144399881362915, 3.144399881362915, 3.1442999839782715, 3.144200086593628, 3.144200086593628, 3.1440000534057617, 3.1440000534057617, 3.1438000202178955, 3.143699884414673, 3.143699884414673, 3.1435000896453857, 3.1435000896453857, 3.1435000896453857, 3.143399953842163, 3.143199920654297, 3.143199920654297, 3.143199920654297, 3.1431000232696533, 3.1431000232696533, 3.1429998874664307, 3.1429998874664307, 3.1429998874664307, 3.1429998874664307, 3.1426000595092773, 3.1426000595092773, 3.1424999237060547, 3.142400026321411, 3.1422998905181885, 3.0615999698638916, 3.0583999156951904, 3.000699996948242, 2.9753000736236572, 2.864500045776367, 2.615299940109253, 2.681299924850464, 1.9819999933242798, 1.2314000129699707, 2.463599920272827, 1.6924999952316284, 1.6126999855041504, 2.7151999473571777, 1.9930000305175781, 2.33270001411438, 1.0017999410629272, 3.1575000286102295, 3.157399892807007, 3.1570000648498535, 3.1570000648498535, 3.156899929046631, 3.1566998958587646, 3.156399965286255, 3.156399965286255, 3.1563000679016113, 3.1556999683380127, 3.1556999683380127, 3.1556999683380127, 3.1556999683380127, 3.155600070953369, 3.1554999351501465, 3.1554999351501465, 3.155400037765503, 3.1552000045776367, 3.1549999713897705, 3.1549999713897705, 3.1547000408172607, 3.1547000408172607, 3.1542999744415283, 3.154099941253662, 3.1540000438690186, 3.1540000438690186, 3.153899908065796, 3.153899908065796, 3.153599977493286, 3.1530001163482666, 3.0862998962402344, 2.982100009918213, 2.911400079727173, 2.6642000675201416, 2.791599988937378, 2.629699945449829, 2.7609000205993652, 2.684000015258789, 2.1689999103546143, 1.927899956703186, 2.282900094985962, 2.5009000301361084, 1.8708000183105469, 1.222100019454956, 2.157399892807007, 1.0678000450134277, 1.4673000574111938, 3.2191998958587646, 3.219099998474121, 3.2190001010894775, 3.2188000679016113, 3.218600034713745, 3.218600034713745, 3.2183001041412354, 3.2183001041412354, 3.217900037765503, 3.217900037765503, 3.217900037765503, 3.2177000045776367, 3.217600107192993, 3.2174999713897705, 3.217400074005127, 3.217400074005127, 3.2172999382019043, 3.2172000408172607, 3.2172000408172607, 3.2172000408172607, 3.217099905014038, 3.216900110244751, 3.2165000438690186, 3.216399908065796, 3.2163000106811523, 3.2163000106811523, 3.2163000106811523, 3.216099977493286, 3.216099977493286, 3.2160000801086426, 3.140899896621704, 3.071500062942505, 3.0980000495910645, 2.7737998962402344, 3.015899896621704, 2.570499897003174, 3.0139999389648438, 2.641400098800659, 2.322700023651123, 1.1404000520706177, 1.2812999486923218, 3.2523000240325928, 3.25219988822937, 3.2520999908447266, 3.2520999908447266, 3.2518999576568604, 3.2518999576568604, 3.251699924468994, 3.251499891281128, 3.2513999938964844, 3.2511000633239746, 3.250699996948242, 3.250699996948242, 3.250499963760376, 3.250499963760376, 3.2504000663757324, 3.2504000663757324, 3.250200033187866, 3.2500998973846436, 3.25, 3.25, 3.2499001026153564, 3.249799966812134, 3.2495999336242676, 3.2495999336242676, 3.2493999004364014, 3.2493999004364014, 3.2490999698638916, 3.2490999698638916, 3.2479000091552734, 3.2476999759674072, 3.104300022125244, 3.126699924468994, 2.940000057220459, 2.9070000648498535, 2.8124001026153564, 3.081899881362915, 2.9368999004364014, 2.8443000316619873, 1.6664999723434448, 2.161799907684326, 2.0181000232696533, 2.024899959564209, 1.414199948310852, 0.41499999165534973, 1.1375000476837158, 1.7107000350952148, 3.266400098800659, 3.2662999629974365, 3.2662999629974365, 3.2660999298095703, 3.2660000324249268, 3.2655999660491943, 3.265399932861328, 3.2653000354766846, 3.265199899673462, 3.2648000717163086, 3.26419997215271, 3.2641000747680664, 3.2639999389648438, 3.2637999057769775, 3.263400077819824, 3.263200044631958, 3.263000011444092, 3.2629001140594482, 3.2629001140594482, 3.2627999782562256, 3.262700080871582, 3.262700080871582, 3.262700080871582, 3.262500047683716, 3.262500047683716, 3.2620999813079834, 3.26200008392334, 3.261899948120117, 3.2618000507354736, 3.261699914932251, 3.2202000617980957, 3.194200038909912, 3.0118000507354736, 3.1447999477386475, 3.079400062561035, 2.9094998836517334, 2.956899881362915, 2.9628000259399414, 2.669800043106079, 2.228300094604492, 2.6531999111175537, 1.8518999814987183, 2.008699893951416, 1.8277000188827515, 2.6886000633239746, 3.308799982070923, 3.308799982070923, 3.3087000846862793, 3.3087000846862793, 3.3085999488830566, 3.3083999156951904, 3.308300018310547, 3.308000087738037, 3.3076000213623047, 3.3076000213623047, 3.3073999881744385, 3.307300090789795, 3.3071000576019287, 3.3071000576019287, 3.306999921798706, 3.30679988861084, 3.30679988861084, 3.3066999912261963, 3.3066000938415527, 3.30649995803833, 3.30649995803833, 3.3064000606536865, 3.306299924850464, 3.3062000274658203, 3.3057000637054443, 3.3052000999450684, 3.3052000999450684, 3.3050999641418457, 3.304500102996826, 3.3043999671936035, 3.2135000228881836, 3.101799964904785, 2.461199998855591, 2.7088000774383545, 2.6689999103546143, 1.6247999668121338, 1.86080002784729, 0.8145999908447266, 1.205399990081787, 3.334199905395508, 3.3341000080108643, 3.333899974822998, 3.3338000774383545, 3.333699941635132, 3.3336000442504883, 3.3331000804901123, 3.332900047302246, 3.3327999114990234, 3.3326001167297363, 3.3326001167297363, 3.33240008354187, 3.33240008354187, 3.3322999477386475, 3.3320999145507812, 3.3320000171661377, 3.3320000171661377, 3.3320000171661377, 3.331899881362915, 3.3317999839782715, 3.331700086593628, 3.3313000202178955, 3.3310000896453857, 3.3310000896453857, 3.3308000564575195, 3.330699920654297, 3.3304998874664307, 3.330399990081787, 3.330199956893921, 3.3296000957489014, 3.2569000720977783, 3.1733999252319336, 3.178800106048584, 3.078200101852417, 2.6791999340057373, 2.9358999729156494, 3.1166000366210938, 2.537899971008301, 2.078200101852417, 0.7797999978065491, 1.8375999927520752, 2.283400058746338, 1.1985000371932983, 1.3711999654769897, 3.3798000812530518, 3.3796000480651855, 3.3794000148773193, 3.3791000843048096, 3.3787999153137207, 3.378700017929077, 3.378700017929077, 3.3785998821258545, 3.378499984741211, 3.3784000873565674, 3.378200054168701, 3.378200054168701, 3.378200054168701, 3.3780999183654785, 3.3780999183654785, 3.377700090408325, 3.3775999546051025, 3.3775999546051025, 3.3773000240325928, 3.37719988822937, 3.37719988822937, 3.3770999908447266, 3.377000093460083, 3.376499891281128, 3.376300096511841, 3.3761000633239746, 3.3759000301361084, 3.375, 3.3749001026153564, 3.3749001026153564, 3.1052000522613525, 3.059299945831299, 2.9258999824523926, 2.9368999004364014, 2.3468000888824463, 1.4854999780654907, 2.2825000286102295, 2.064300060272217, 1.4071999788284302, 1.6592999696731567, 1.2910000085830688, 3.449399948120117, 3.449399948120117, 3.449199914932251, 3.4489998817443848, 3.448899984359741, 3.448899984359741, 3.448899984359741, 3.4488000869750977, 3.448699951171875, 3.4482998847961426, 3.4482998847961426, 3.448199987411499, 3.4477999210357666, 3.447700023651123, 3.4472999572753906, 3.447000026702881, 3.446899890899658, 3.4467999935150146, 3.446700096130371, 3.4465999603271484, 3.4463999271392822, 3.4463000297546387, 3.446000099182129, 3.446000099182129, 3.445499897003174, 3.445499897003174, 3.444999933242798, 3.444499969482422, 3.4444000720977783, 3.4442999362945557, 3.4014999866485596, 3.305799961090088, 3.0606000423431396, 3.2132999897003174, 2.4261999130249023, 1.7421000003814697, 2.3643999099731445, 2.9763998985290527, 2.6679999828338623, 3.0571999549865723, 1.6474000215530396, 1.0003999471664429], \"logprob\": [30.0, 29.0, 28.0, 27.0, 26.0, 25.0, 24.0, 23.0, 22.0, 21.0, 20.0, 19.0, 18.0, 17.0, 16.0, 15.0, 14.0, 13.0, 12.0, 11.0, 10.0, 9.0, 8.0, 7.0, 6.0, 5.0, 4.0, 3.0, 2.0, 1.0, -2.932300090789795, -3.7411000728607178, -4.241399765014648, -4.341899871826172, -4.554900169372559, -4.687399864196777, -4.711900234222412, -4.968800067901611, -4.991300106048584, -5.015600204467773, -5.320899963378906, -5.34689998626709, -5.408999919891357, -5.508299827575684, -5.6691999435424805, -5.739299774169922, -5.996200084686279, -6.236400127410889, -6.3520002365112305, -6.406099796295166, -6.409999847412109, -6.515100002288818, -6.571100234985352, -6.622200012207031, -6.635499954223633, -6.726200103759766, -6.850399971008301, -6.8871002197265625, -6.897500038146973, -2.589400053024292, -2.0058000087738037, -2.7637999057769775, -2.821899890899658, -3.569499969482422, -4.039100170135498, -4.526500225067139, -5.240300178527832, -4.020599842071533, -3.223099946975708, -4.300099849700928, -3.5065999031066895, -4.595600128173828, -2.797600030899048, -4.112800121307373, -4.046199798583984, -4.220300197601318, -4.809500217437744, -4.467199802398682, -4.382400035858154, -4.950399875640869, -4.716800212860107, -2.7095999717712402, -3.6041998863220215, -3.7119998931884766, -3.859600067138672, -3.9691998958587646, -4.110799789428711, -4.335999965667725, -4.456099987030029, -4.482100009918213, -4.69980001449585, -4.701399803161621, -4.727399826049805, -4.899099826812744, -4.970900058746338, -5.038400173187256, -5.0472002029418945, -5.080999851226807, -5.118599891662598, -5.191299915313721, -5.201200008392334, -5.267300128936768, -5.41379976272583, -5.453100204467773, -5.507400035858154, -5.583499908447266, -5.587699890136719, -5.61269998550415, -5.771999835968018, -5.804599761962891, -5.831999778747559, -2.2126998901367188, -2.250999927520752, -3.421299934387207, -4.4721999168396, -3.6898999214172363, -4.323800086975098, -4.412700176239014, -2.9667000770568848, -5.022900104522705, -4.641499996185303, -4.229100227355957, -4.6894001960754395, -4.798799991607666, -4.583399772644043, -4.473499774932861, -4.892300128936768, -3.606100082397461, -3.72379994392395, -3.7407000064849854, -3.900700092315674, -4.268099784851074, -4.313000202178955, -4.389800071716309, -4.400300025939941, -4.426599979400635, -4.427000045776367, -4.4868998527526855, -4.578000068664551, -4.585299968719482, -4.5854997634887695, -4.613100051879883, -4.634900093078613, -4.644199848175049, -4.651599884033203, -4.73960018157959, -4.760300159454346, -4.837600231170654, -4.880000114440918, -4.888400077819824, -4.990200042724609, -5.02869987487793, -5.045899868011475, -5.238800048828125, -5.238999843597412, -5.256499767303467, -5.264800071716309, -4.0183000564575195, -2.7528998851776123, -3.267699956893921, -3.978300094604492, -3.896399974822998, -4.409200191497803, -3.7618000507354736, -3.771399974822998, -4.333700180053711, -4.105000019073486, -4.160999774932861, -4.219399929046631, -4.46019983291626, -4.5503997802734375, -4.588200092315674, -4.5507001876831055, -3.2309999465942383, -3.9818999767303467, -4.07859992980957, -4.116600036621094, -4.450799942016602, -4.462200164794922, -4.463500022888184, -4.548299789428711, -4.568299770355225, -4.584400177001953, -4.896599769592285, -4.912600040435791, -4.922900199890137, -4.976500034332275, -5.0183000564575195, -5.060699939727783, -5.0619001388549805, -5.111199855804443, -5.138599872589111, -5.157899856567383, -5.195499897003174, -5.222799777984619, -5.285299777984619, -5.28879976272583, -5.315000057220459, -5.327700138092041, -5.34060001373291, -5.345300197601318, -5.455699920654297, -5.488399982452393, -3.688699960708618, -3.7035000324249268, -3.0822999477386475, -3.753200054168701, -4.097300052642822, -4.353300094604492, -4.964399814605713, -4.7667999267578125, -4.761600017547607, -4.697000026702881, -4.381499767303467, -4.172299861907959, -4.942699909210205, -2.2762999534606934, -3.217400074005127, -3.3231000900268555, -3.5062999725341797, -3.6935999393463135, -3.9177000522613525, -4.109099864959717, -4.165500164031982, -4.173699855804443, -4.456399917602539, -4.518599987030029, -4.525199890136719, -4.78000020980835, -4.8277997970581055, -4.920899868011475, -4.937600135803223, -4.938399791717529, -5.033999919891357, -5.093200206756592, -5.231900215148926, -5.248000144958496, -5.30649995803833, -5.326499938964844, -5.389599800109863, -5.427800178527832, -5.441100120544434, -5.450500011444092, -5.456299781799316, -5.460899829864502, -5.491000175476074, -3.240999937057495, -4.19189977645874, -4.638800144195557, -3.5332000255584717, -4.018599987030029, -4.627399921417236, -3.8015999794006348, -4.35260009765625, -4.539100170135498, -4.133699893951416, -4.140500068664551, -3.9351000785827637, -3.7936999797821045, -4.624100208282471, -4.798399925231934, -4.861999988555908, -2.293299913406372, -2.7028000354766846, -3.296299934387207, -4.02239990234375, -4.152500152587891, -4.402500152587891, -4.469299793243408, -4.47629976272583, -4.560800075531006, -4.662899971008301, -4.663400173187256, -4.682600021362305, -4.691999912261963, -4.828000068664551, -4.9334001541137695, -5.041999816894531, -5.061200141906738, -5.0792999267578125, -5.092700004577637, -5.146599769592285, -5.160999774932861, -5.161900043487549, -5.258900165557861, -5.269899845123291, -5.286600112915039, -5.318399906158447, -5.32889986038208, -5.428899765014648, -5.4394001960754395, -5.443399906158447, -3.0097999572753906, -2.9999001026153564, -3.6659998893737793, -3.1786000728607178, -3.387700080871582, -4.180300235748291, -4.900300025939941, -4.869699954986572, -4.352499961853027, -4.666200160980225, -4.563000202178955, -4.307499885559082, -4.688300132751465, -4.853499889373779, -4.8024001121521, -4.846399784088135, -2.98580002784729, -3.3413000106811523, -3.4114999771118164, -3.51419997215271, -3.7887001037597656, -4.06790018081665, -4.140500068664551, -4.452499866485596, -4.466800212860107, -4.478899955749512, -4.53000020980835, -4.594200134277344, -4.648099899291992, -4.714399814605713, -4.718299865722656, -4.769400119781494, -4.8394999504089355, -4.851900100708008, -4.879700183868408, -5.041900157928467, -5.077300071716309, -5.10099983215332, -5.121099948883057, -5.205100059509277, -5.212200164794922, -5.249300003051758, -5.263500213623047, -5.578000068664551, -5.623000144958496, -5.699900150299072, -3.588599920272827, -4.456999778747559, -4.424099922180176, -3.9019999504089355, -3.5613999366760254, -3.686500072479248, -3.4663000106811523, -4.6194000244140625, -4.5269999504089355, -3.9672000408172607, -4.513899803161621, -4.5015997886657715, -4.413400173187256, -4.8333001136779785, -2.3473000526428223, -3.8268001079559326, -4.062099933624268, -4.124800205230713, -4.311500072479248, -4.31879997253418, -4.356400012969971, -4.454100131988525, -4.499100208282471, -4.698699951171875, -4.785999774932861, -4.927299976348877, -4.957200050354004, -5.038000106811523, -5.2347002029418945, -5.355599880218506, -5.363500118255615, -5.482800006866455, -5.529099941253662, -5.631700038909912, -5.639400005340576, -5.654399871826172, -5.815000057220459, -5.834799766540527, -5.871600151062012, -5.877699851989746, -5.891200065612793, -5.894800186157227, -5.907800197601318, -5.9166998863220215, -3.992000102996826, -3.9451000690460205, -3.0613999366760254, -4.089900016784668, -2.599100112915039, -4.162499904632568, -5.361999988555908, -4.346700191497803, -4.6732001304626465, -4.289000034332275, -4.409200191497803, -4.197000026702881, -4.660699844360352, -4.360000133514404, -4.285099983215332, -4.931099891662598, -4.530200004577637, -4.683800220489502, -4.837299823760986, -3.322200059890747, -3.9128000736236572, -4.06220006942749, -4.330699920654297, -4.394999980926514, -4.41540002822876, -4.625699996948242, -4.6743998527526855, -4.6778998374938965, -4.749100208282471, -4.834000110626221, -4.8343000411987305, -4.9517998695373535, -4.986000061035156, -4.994100093841553, -5.0121002197265625, -5.0843000411987305, -5.093200206756592, -5.117199897766113, -5.1296000480651855, -5.130199909210205, -5.159299850463867, -5.170000076293945, -5.170000076293945, -5.223899841308594, -5.346199989318848, -5.351799964904785, -5.374800205230713, -5.379499912261963, -5.440999984741211, -3.1663999557495117, -4.235300064086914, -3.10509991645813, -4.988900184631348, -5.0756001472473145, -4.511199951171875, -4.380899906158447, -5.014900207519531, -4.98799991607666, -4.868299961090088, -5.086400032043457, -4.894100189208984, -3.471400022506714, -3.567699909210205, -3.8076999187469482, -3.857599973678589, -3.982599973678589, -4.010799884796143, -4.031000137329102, -4.091599941253662, -4.167500019073486, -4.176199913024902, -4.446100234985352, -4.447700023651123, -4.500899791717529, -4.519999980926514, -4.661600112915039, -4.742800235748291, -4.830900192260742, -4.854499816894531, -4.90939998626709, -4.951499938964844, -4.974400043487549, -4.974800109863281, -4.975599765777588, -5.162799835205078, -5.272200107574463, -5.2845001220703125, -5.304599761962891, -5.366300106048584, -5.373700141906738, -5.476900100708008, -3.5957000255584717, -2.916599988937378, -2.8635001182556152, -4.419000148773193, -3.104300022125244, -3.9472999572753906, -3.798799991607666, -4.253200054168701, -4.646399974822998, -3.8194000720977783, -4.410600185394287, -4.8292999267578125, -2.303999900817871, -2.4502999782562256, -3.2537999153137207, -3.4170000553131104, -3.4997000694274902, -3.9697000980377197, -4.128799915313721, -4.130199909210205, -4.331399917602539, -4.507800102233887, -4.6219000816345215, -4.666800022125244, -4.669600009918213, -4.700399875640869, -4.806399822235107, -4.887800216674805, -4.960100173950195, -4.96120023727417, -4.964399814605713, -5.019800186157227, -5.0792999267578125, -5.091400146484375, -5.108399868011475, -5.112199783325195, -5.113100051879883, -5.297399997711182, -5.3105998039245605, -5.32289981842041, -5.374199867248535, -5.4756999015808105, -3.2272000312805176, -4.191199779510498, -3.901700019836426, -4.122300148010254, -4.269800186157227, -3.8464999198913574, -3.7695000171661377, -4.373799800872803, -4.218999862670898, -4.615099906921387, -4.162600040435791, -4.297399997711182, -4.944499969482422, -2.6623001098632812, -3.2553000450134277, -3.9763998985290527, -4.065100193023682, -4.125699996948242, -4.184000015258789, -4.195400238037109, -4.365699768066406, -4.379499912261963, -4.508399963378906, -4.5619001388549805, -4.586400032043457, -4.681600093841553, -4.683599948883057, -4.734300136566162, -4.7382001876831055, -4.870800018310547, -4.872000217437744, -4.883200168609619, -4.907700061798096, -4.908899784088135, -4.933800220489502, -4.934100151062012, -4.937900066375732, -4.951499938964844, -5.094699859619141, -5.10129976272583, -5.15369987487793, -5.180500030517578, -5.210100173950195, -3.0687999725341797, -3.830199956893921, -3.9072000980377197, -3.972100019454956, -3.38319993019104, -3.546099901199341, -4.36929988861084, -3.8896000385284424, -3.244499921798706, -4.378600120544434, -3.8396999835968018, -4.314199924468994, -4.7453999519348145, -4.579599857330322, -4.692299842834473, -4.663599967956543, -2.8863000869750977, -3.1672000885009766, -3.8445000648498535, -3.9205000400543213, -4.011499881744385, -4.17110013961792, -4.4145002365112305, -4.430200099945068, -4.520400047302246, -4.823800086975098, -4.82919979095459, -4.836699962615967, -4.839000225067139, -4.9070000648498535, -4.914599895477295, -4.924099922180176, -4.9721999168396, -5.048600196838379, -5.124599933624268, -5.145199775695801, -5.24399995803833, -5.246799945831299, -5.365900039672852, -5.4207000732421875, -5.43179988861084, -5.448500156402588, -5.464900016784668, -5.465099811553955, -5.547299861907959, -5.670899868011475, -4.117199897766113, -3.036799907684326, -4.0183000564575195, -2.744499921798706, -3.6793999671936035, -3.2418999671936035, -4.120200157165527, -4.485199928283691, -4.1234002113342285, -3.9727001190185547, -4.395699977874756, -4.592199802398682, -4.298399925231934, -4.229300022125244, -4.589099884033203, -4.250500202178955, -4.805200099945068, -2.680000066757202, -2.834399938583374, -3.1784000396728516, -3.5302999019622803, -3.8034000396728516, -3.8910000324249268, -4.127299785614014, -4.179699897766113, -4.4309000968933105, -4.441800117492676, -4.462399959564209, -4.5879998207092285, -4.653200149536133, -4.685299873352051, -4.7179999351501465, -4.737800121307373, -4.7667999267578125, -4.835100173950195, -4.842199802398682, -4.846499919891357, -4.896699905395508, -4.947400093078613, -5.10260009765625, -5.145100116729736, -5.170300006866455, -5.1778998374938965, -5.182400226593018, -5.227099895477295, -5.241099834442139, -5.259500026702881, -3.819000005722046, -4.029099941253662, -4.60860013961792, -3.361999988555908, -4.443600177764893, -2.8808999061584473, -4.512499809265137, -4.446899890899658, -4.448299884796143, -4.1595001220703125, -4.702300071716309, -3.3057000637054443, -3.461400032043457, -3.603300094604492, -3.695199966430664, -3.8489999771118164, -3.8629000186920166, -4.1321001052856445, -4.288300037384033, -4.3506999015808105, -4.505000114440918, -4.720900058746338, -4.757299900054932, -4.843400001525879, -4.85230016708374, -4.86899995803833, -4.880300045013428, -4.962800025939941, -4.9770002365112305, -5.017099857330322, -5.019899845123291, -5.059999942779541, -5.116300106048584, -5.152200222015381, -5.1570000648498535, -5.228099822998047, -5.228799819946289, -5.320499897003174, -5.322999954223633, -5.587600231170654, -5.622900009155273, -3.318700075149536, -4.595699787139893, -3.3580000400543213, -3.5499000549316406, -3.5666000843048096, -4.7779998779296875, -4.458799839019775, -4.8094000816345215, -3.850600004196167, -4.287899971008301, -4.626200199127197, -4.666900157928467, -4.512700080871582, -4.471199989318848, -4.648600101470947, -4.762499809265137, -3.0178000926971436, -3.1080000400543213, -3.2771999835968018, -3.5327000617980957, -3.6714999675750732, -4.125999927520752, -4.2606000900268555, -4.400100231170654, -4.443900108337402, -4.665999889373779, -4.928599834442139, -4.961400032043457, -4.987500190734863, -5.073400020599365, -5.2108001708984375, -5.248199939727783, -5.310500144958496, -5.334000110626221, -5.33489990234375, -5.35830020904541, -5.3856000900268555, -5.392399787902832, -5.397900104522705, -5.450500011444092, -5.451099872589111, -5.539000034332275, -5.556600093841553, -5.568999767303467, -5.590700149536133, -5.603099822998047, -2.3060998916625977, -2.884999990463257, -3.9547998905181885, -4.785900115966797, -4.779399871826172, -4.1554999351501465, -4.37939977645874, -4.446899890899658, -3.8034000396728516, -3.615000009536743, -4.71619987487793, -4.074999809265137, -4.527699947357178, -4.6290998458862305, -5.161600112915039, -2.634200096130371, -2.923099994659424, -3.0524001121520996, -3.1675000190734863, -3.2934999465942383, -3.6786999702453613, -3.7128000259399414, -4.064599990844727, -4.332200050354004, -4.352799892425537, -4.513299942016602, -4.556300163269043, -4.646900177001953, -4.662099838256836, -4.682600021362305, -4.776199817657471, -4.795599937438965, -4.839200019836426, -4.85260009765625, -4.911600112915039, -4.921299934387207, -4.965099811553955, -4.984600067138672, -5.022200107574463, -5.1890997886657715, -5.303899765014648, -5.32450008392334, -5.3491997718811035, -5.485599994659424, -5.50439977645874, -3.38100004196167, -4.027400016784668, -3.204200029373169, -3.9742000102996826, -4.286799907684326, -4.315400123596191, -4.504899978637695, -4.485199928283691, -4.637899875640869, -3.0996999740600586, -3.2149999141693115, -3.5910000801086426, -3.7636001110076904, -3.9038000106811523, -3.9154000282287598, -4.3429999351501465, -4.488900184631348, -4.547299861907959, -4.607699871063232, -4.64709997177124, -4.729899883270264, -4.730000019073486, -4.759900093078613, -4.862800121307373, -4.88730001449585, -4.892099857330322, -4.903200149536133, -4.939899921417236, -4.9679999351501465, -5.01039981842041, -5.121600151062012, -5.20419979095459, -5.213900089263916, -5.2789998054504395, -5.281400203704834, -5.345900058746338, -5.357699871063232, -5.405399799346924, -5.53410005569458, -4.046000003814697, -3.6398000717163086, -3.821700096130371, -3.730799913406372, -3.065999984741211, -3.9695000648498535, -4.909299850463867, -4.145199775695801, -3.8420000076293945, -3.6960999965667725, -4.4756999015808105, -4.672299861907959, -4.647500038146973, -4.901400089263916, -2.558799982070923, -3.046299934387207, -3.4784998893737793, -3.836699962615967, -4.108699798583984, -4.162700176239014, -4.172599792480469, -4.214900016784668, -4.281700134277344, -4.354100227355957, -4.477399826049805, -4.501200199127197, -4.505000114440918, -4.517600059509277, -4.524799823760986, -4.744800090789795, -4.765600204467773, -4.773499965667725, -4.872000217437744, -4.922699928283691, -4.936500072479248, -4.970699787139893, -4.992300033569336, -5.130899906158447, -5.201399803161621, -5.255099773406982, -5.299600124359131, -5.4882001876831055, -5.518099784851074, -5.519499778747559, -3.388200044631958, -4.326499938964844, -4.674200057983398, -4.72730016708374, -4.032199859619141, -3.400700092315674, -4.2378997802734375, -4.233699798583984, -4.56220006942749, -4.630899906158447, -4.88730001449585, -3.0869998931884766, -3.2121999263763428, -3.4302000999450684, -3.7327001094818115, -3.7978999614715576, -3.8343000411987305, -3.858599901199341, -3.8612000942230225, -3.9667999744415283, -4.272500038146973, -4.304100036621094, -4.356599807739258, -4.551799774169922, -4.616000175476074, -4.7546000480651855, -4.860199928283691, -4.912799835205078, -4.941400051116943, -4.957499980926514, -4.987199783325195, -5.058000087738037, -5.094399929046631, -5.155300140380859, -5.160799980163574, -5.293600082397461, -5.2982001304626465, -5.388299942016602, -5.491399765014648, -5.520100116729736, -5.534599781036377, -4.833799839019775, -3.371500015258789, -4.518499851226807, -4.941400051116943, -3.7095999717712402, -3.1440999507904053, -4.208199977874756, -4.841100215911865, -4.701399803161621, -4.902599811553955, -4.802299976348877, -4.759900093078613]}, \"token.table\": {\"Topic\": [14, 19, 20, 13, 1, 3, 19, 4, 14, 4, 5, 6, 2, 3, 6, 13, 2, 14, 20, 15, 4, 8, 3, 19, 18, 7, 13, 18, 1, 11, 12, 15, 16, 6, 6, 8, 19, 3, 12, 19, 14, 20, 16, 5, 7, 17, 18, 13, 15, 14, 15, 2, 1, 7, 9, 3, 8, 1, 6, 10, 18, 2, 13, 5, 15, 4, 18, 12, 18, 17, 16, 4, 19, 5, 8, 14, 18, 16, 1, 14, 7, 12, 15, 2, 15, 2, 10, 11, 1, 17, 5, 6, 20, 11, 1, 1, 18, 11, 18, 17, 16, 1, 6, 8, 15, 12, 9, 14, 3, 6, 9, 6, 5, 19, 12, 6, 2, 6, 8, 16, 15, 1, 4, 4, 5, 2, 1, 4, 3, 1, 19, 5, 5, 5, 4, 5, 7, 8, 16, 15, 18, 3, 12, 12, 17, 4, 8, 18, 3, 2, 5, 12, 18, 1, 6, 12, 10, 9, 9, 19, 3, 15, 11, 16, 8, 5, 8, 7, 14, 9, 11, 2, 15, 11, 15, 16, 20, 9, 9, 3, 4, 16, 17, 4, 7, 11, 15, 11, 16, 6, 7, 8, 18, 14, 3, 7, 12, 14, 15, 3, 16, 20, 2, 9, 14, 15, 5, 2, 7, 12, 18, 8, 13, 4, 14, 4, 9, 15, 18, 2, 10, 5, 20, 2, 16, 8, 13, 4, 9, 19, 19, 19, 17, 11, 15, 6, 8, 6, 15, 9, 20, 18, 9, 11, 17, 10, 18, 5, 15, 17, 14, 16, 6, 6, 8, 1, 11, 5, 2, 16, 2, 12, 3, 20, 12, 10, 10, 6, 4, 14, 10, 16, 16, 2, 3, 8, 2, 14, 19, 4, 16, 18, 7, 8, 15, 5, 7, 7, 20, 9, 2, 3, 6, 12, 3, 6, 7, 9, 12, 2, 2, 13, 17, 1, 13, 15, 13, 1, 13, 8, 13, 14, 14, 9, 17, 3, 10, 6, 13, 4, 20, 15, 7, 5, 19, 20, 12, 11, 3, 4, 9, 5, 5, 15, 11, 15, 19, 4, 9, 2, 8, 2, 5, 10, 18, 18, 13, 5, 8, 13, 18, 10, 13, 15, 7, 6, 13, 7, 8, 9, 12, 8, 4, 16, 10, 6, 11, 20, 9, 2, 13, 11, 11, 2, 6, 3, 13, 1, 17, 20, 3, 20, 9, 12, 1, 2, 18, 3, 6, 13, 17, 2, 6, 15, 17, 19, 20, 13, 16, 2, 2, 3, 13, 14, 4, 13, 15, 6, 7, 6, 12, 20, 3, 7, 11, 11, 17, 18, 10, 1, 13, 5, 4, 5, 13, 1, 4, 6, 10, 15, 19, 16, 20, 19, 20, 16, 3, 7, 10, 11, 13, 2, 5, 8, 10, 13, 18, 7, 3, 8, 20, 12, 15, 12, 5, 20, 13, 3, 6, 11, 6, 3, 9, 14, 16, 17, 20, 11, 16, 12, 13, 10, 17, 18, 2, 20, 19, 11, 18, 8, 15, 9, 12, 16, 12, 3, 7, 3, 6, 8, 15, 19, 9, 20, 19, 5, 5, 15, 1, 7, 8, 18, 20, 6, 6, 6, 5, 7, 2, 11, 3, 11, 14, 3, 14, 17, 4, 9, 2, 18, 7, 8, 4, 15, 16, 18, 10, 10, 9, 10, 15, 4, 1, 13, 7, 8, 15, 20, 15, 1, 9, 11, 2, 9, 15, 19, 3, 7, 6, 8, 9, 11, 8, 18, 10, 16, 2, 13, 15, 18, 3, 5, 2, 3, 4, 13, 14, 14, 20, 15, 1, 17, 1, 2, 17, 18, 1, 3, 6, 3, 12, 3, 10, 13, 10, 8, 13, 13, 5, 1, 3, 7, 11, 17, 19, 2, 16, 2, 3, 5, 3, 12, 12, 17, 4, 7, 17, 10, 15, 12, 10, 14, 7, 7, 12, 20, 1, 2, 15, 16, 18, 7, 12, 17, 14, 18, 19, 1, 1, 8, 19, 10, 12, 3, 16, 12, 14, 15, 1, 15, 16, 17, 18, 3, 10, 13, 5, 2, 7, 8, 9, 2, 7, 11, 20, 14, 13, 2, 1, 5, 19, 7, 8, 12, 8, 9, 4, 11, 16, 7, 18, 4, 1, 18, 10, 3, 13, 7, 9, 13, 19, 3, 11, 9, 14, 14, 20, 1, 9, 10, 16, 15, 7, 8, 18, 20, 5, 7, 8, 19, 8, 12, 20, 14, 18, 3, 10, 2, 14, 1, 1, 2, 8, 15, 19, 2, 17, 18, 7, 12, 12, 20, 5, 7, 4, 5, 8, 13, 2, 7, 8, 6, 9, 17, 6, 17, 3, 9, 10, 4, 7, 17, 4, 16, 7, 1, 9, 18, 19, 15, 13, 4, 11, 10, 12, 8, 4, 6, 5, 12, 13, 2, 10, 11, 17, 20, 5, 19, 2, 8, 18, 3, 18, 18, 6, 17, 16, 10, 1, 1, 10, 16, 10, 7, 19, 10, 16, 17, 2, 8, 14, 17, 16, 8, 20, 17, 19, 6, 20, 14, 5, 10, 11, 8, 14, 12, 17, 2, 15, 12, 1, 7, 14, 15, 17, 7, 3, 8, 3, 11, 9, 8, 7, 12, 14, 9, 14, 19, 19, 19, 9, 11, 14, 7, 14, 2, 14, 2, 10, 19, 1, 2, 11, 18, 11, 9, 6, 6, 8, 17, 12, 7, 3, 1, 5, 13, 5, 13, 7, 8, 11, 17, 3, 4, 6, 17, 15, 16, 15, 16, 13, 18, 5, 10, 8, 10, 19, 19, 17, 10, 4, 4, 16, 5, 6, 4, 8, 3, 4, 18, 12, 4, 7, 5, 6, 20, 17, 3, 15, 4, 6, 6, 12, 20, 19, 1, 20, 2, 15, 14, 17, 14, 15, 12, 8, 18, 19, 14, 1, 16, 19, 2, 12, 6, 1, 17, 4, 15, 16, 20, 13, 12, 11, 16, 1, 18, 18, 9, 2, 8, 10, 3, 6, 17, 5, 15, 9, 1, 14, 19, 7, 1, 15, 16, 8, 13, 3, 6, 10, 12, 14, 17, 1, 5, 7, 3, 10, 14, 11, 15, 17, 1, 10, 13, 12, 8, 1, 15, 1, 5, 9, 7, 14, 11, 11, 11, 1, 2, 8, 6, 10, 19, 12, 7, 19, 19, 9, 4, 10, 12, 2, 8, 6, 9, 16, 5, 2, 15, 17, 8, 13, 20, 2, 5, 4, 19, 9, 5, 10, 6, 10, 12, 13, 17, 1, 13, 15, 18, 18, 17, 12, 17, 8, 20, 11, 3, 8, 20, 9, 11, 7, 4, 5, 16, 5, 15, 5, 9, 13, 15, 1, 5, 10, 13, 18, 6, 2, 16, 7, 11, 9, 20, 11, 3, 4, 5, 19, 11, 19, 14, 19, 7, 8, 11, 1, 3, 13, 4, 2, 4, 7, 19, 1, 3, 12, 18, 3, 15, 14, 1, 2, 4, 7, 8, 9, 8, 10], \"Freq\": [0.9982126355171204, 0.9979904890060425, 0.9994975924491882, 0.9979918003082275, 0.9983557462692261, 0.3567764461040497, 0.6412333250045776, 0.9970614910125732, 0.9978688955307007, 0.7355316877365112, 0.26395851373672485, 0.9971798062324524, 0.4864673316478729, 0.1532798856496811, 0.24272160232067108, 0.11743491888046265, 0.9981349110603333, 0.9983797669410706, 0.9967510104179382, 0.996680498123169, 0.9988633990287781, 0.9940048456192017, 0.9986186623573303, 0.9987452626228333, 0.9994935989379883, 0.9979835152626038, 0.22548066079616547, 0.7734670042991638, 0.9995589852333069, 0.381830096244812, 0.21608754992485046, 0.158954456448555, 0.24295707046985626, 0.9986567497253418, 0.2723778188228607, 0.3937190771102905, 0.33381643891334534, 0.29929018020629883, 0.5885682702064514, 0.11192093789577484, 0.9968146085739136, 0.9978516697883606, 0.9970611929893494, 0.7009384632110596, 0.24953965842723846, 0.02192607894539833, 0.027494607493281364, 0.9994298815727234, 0.9960905909538269, 0.9961175322532654, 0.9971538186073303, 0.997684121131897, 0.9929246306419373, 0.9976823925971985, 0.9961017370223999, 0.9986305832862854, 0.9964603185653687, 0.9950842261314392, 0.03156370669603348, 0.8501332402229309, 0.11816825717687607, 0.9987640380859375, 0.9976582527160645, 0.9968886971473694, 0.9994502067565918, 0.9983183145523071, 0.9945279955863953, 0.9977731108665466, 0.9979608058929443, 0.9993367791175842, 0.9997783303260803, 0.9998455047607422, 0.9962916374206543, 0.16925635933876038, 0.4566917419433594, 0.2513807415962219, 0.12218506634235382, 0.9972450733184814, 0.9952886700630188, 0.9974147081375122, 0.4937824606895447, 0.5057914853096008, 0.9990129470825195, 0.9997705221176147, 0.9991387724876404, 0.9210517406463623, 0.0005163811147212982, 0.07840386778116226, 0.9992266297340393, 0.9997114539146423, 0.1660621017217636, 0.8335039615631104, 0.9992533326148987, 0.9991392493247986, 0.9962969422340393, 0.48065245151519775, 0.519095242023468, 0.999275267124176, 0.9967147707939148, 0.9984574913978577, 0.9996955990791321, 0.41323429346084595, 0.16633693873882294, 0.1292443871498108, 0.29094475507736206, 0.9970926642417908, 0.9970152378082275, 0.9983253479003906, 0.9979583621025085, 0.24255873262882233, 0.7569934725761414, 0.9980495572090149, 0.9998236894607544, 0.9953478574752808, 0.9997836351394653, 0.999851644039154, 0.09861619770526886, 0.7014355063438416, 0.19970397651195526, 0.9953626990318298, 0.9967473149299622, 0.3112409710884094, 0.6887121200561523, 0.9987484216690063, 0.9988481402397156, 0.9990590214729309, 0.9962763786315918, 0.9973233938217163, 0.9988926649093628, 0.8757458925247192, 0.12365183234214783, 0.99742591381073, 0.9973104000091553, 0.9967736005783081, 0.7713513374328613, 0.20071722567081451, 0.027370531111955643, 0.26512929797172546, 0.7340261340141296, 0.9985476732254028, 0.9949451684951782, 0.348724901676178, 0.65025395154953, 0.9168582558631897, 0.08287984132766724, 0.999160885810852, 0.14821931719779968, 0.8508886694908142, 0.9984371066093445, 0.9998325705528259, 0.725482702255249, 0.27318063378334045, 0.9973215460777283, 0.9967443943023682, 0.9880158305168152, 0.011762093752622604, 0.9990326762199402, 0.9968359470367432, 0.7792940139770508, 0.22032396495342255, 0.9995042681694031, 0.9982913732528687, 0.9959372878074646, 0.9983755350112915, 0.9965552687644958, 0.9968866109848022, 0.9939354062080383, 0.998558521270752, 0.9995617270469666, 0.6729453802108765, 0.32487019896507263, 0.8070631623268127, 0.19257915019989014, 0.6503987908363342, 0.06503988057374954, 0.2840942144393921, 0.9932641386985779, 0.9982732534408569, 0.9979358315467834, 0.048794716596603394, 0.17518103122711182, 0.7751160264015198, 0.9970031976699829, 0.8097691535949707, 0.1896044909954071, 0.997404158115387, 0.9961948394775391, 0.2992234528064728, 0.6999533772468567, 0.08316169679164886, 0.5155463218688965, 0.11631400138139725, 0.2846040725708008, 0.9979616403579712, 0.26012006402015686, 0.4846195578575134, 0.11105240881443024, 0.1439789980649948, 0.9984050393104553, 0.16984635591506958, 0.8297091722488403, 0.999114990234375, 0.11694503575563431, 0.8827463984489441, 0.8158313035964966, 0.1833328753709793, 0.9974189400672913, 0.889003336429596, 0.10905475914478302, 0.9982948303222656, 0.9985271692276001, 0.9993122816085815, 0.9984624981880188, 0.9989577531814575, 0.9978800415992737, 0.9983928799629211, 0.9969204664230347, 0.9935008883476257, 0.9980039596557617, 0.9996798038482666, 0.9981362819671631, 0.37465497851371765, 0.6219272613525391, 0.997851550579071, 0.9967577457427979, 0.6316637992858887, 0.3678286075592041, 0.10329880565404892, 0.8952563405036926, 0.9985492825508118, 0.9977952241897583, 0.9986740350723267, 0.9948448538780212, 0.9983049631118774, 0.9994695782661438, 0.5454683303833008, 0.4538589417934418, 0.9971074461936951, 0.9977045059204102, 0.04551999270915985, 0.9530748724937439, 0.9947149157524109, 0.9985637664794922, 0.9984958171844482, 0.9988899827003479, 0.9971253871917725, 0.997296929359436, 0.9975971579551697, 0.9960281252861023, 0.9987837672233582, 0.9996916055679321, 0.9960798621177673, 0.9970881938934326, 0.9975107312202454, 0.997939944267273, 0.9936898946762085, 0.998510479927063, 0.9981359243392944, 0.99830162525177, 0.9958710074424744, 0.9985771775245667, 0.997214138507843, 0.20733217895030975, 0.7899618148803711, 0.9986670017242432, 0.9986223578453064, 0.998857855796814, 0.9977812170982361, 0.18485236167907715, 0.8136304616928101, 0.9982549548149109, 0.9931086897850037, 0.999676525592804, 0.8122836351394653, 0.18752680718898773, 0.9943253993988037, 0.9988206028938293, 0.999222993850708, 0.9968341588973999, 0.99809330701828, 0.9966003894805908, 0.9997826218605042, 0.9985173940658569, 0.9991035461425781, 0.9992637634277344, 0.33963730931282043, 0.6596004962921143, 0.998830258846283, 0.9987845420837402, 0.9978958964347839, 0.9992654323577881, 0.09918982535600662, 0.2714669108390808, 0.6290723085403442, 0.364414244890213, 0.10673220455646515, 0.14923448860645294, 0.14561322331428528, 0.2338578850030899, 0.9980565309524536, 0.9113820791244507, 0.08730338513851166, 0.9984789490699768, 0.9997299313545227, 0.7817344069480896, 0.21740542352199554, 0.9946833848953247, 0.9993005990982056, 0.9986544251441956, 0.9985664486885071, 0.11233892291784286, 0.8852977752685547, 0.9977679252624512, 0.9987453818321228, 0.9984574913978577, 0.7815176248550415, 0.2182159572839737, 0.9995359182357788, 0.9981372952461243, 0.7804391980171204, 0.2184724658727646, 0.995929479598999, 0.9979077577590942, 0.9993742108345032, 0.9971438646316528, 0.9993308186531067, 0.9987950921058655, 0.9971384406089783, 0.14947810769081116, 0.48782747983932495, 0.3620931804180145, 0.9980233311653137, 0.13749711215496063, 0.8621440529823303, 0.997593879699707, 0.7285649180412292, 0.2702938914299011, 0.9988017678260803, 0.9964999556541443, 0.13652746379375458, 0.8627373576164246, 0.9976948499679565, 0.7683638334274292, 0.1091461107134819, 0.1215490773320198, 0.9972718954086304, 0.9991478323936462, 0.44156715273857117, 0.23337122797966003, 0.1846190243959427, 0.14026249945163727, 0.9957981109619141, 0.9306662678718567, 0.06792443990707397, 0.9961755871772766, 0.9979285597801208, 0.9982575178146362, 0.997725248336792, 0.9976729154586792, 0.9984559416770935, 0.998976469039917, 0.9958955645561218, 0.9977767467498779, 0.9986386895179749, 0.9973573088645935, 0.9980459809303284, 0.9964953064918518, 0.9932684302330017, 0.9974737167358398, 0.3268105983734131, 0.6727157831192017, 0.9985349178314209, 0.9987384080886841, 0.9994685053825378, 0.9966496229171753, 0.9969319701194763, 0.9993784427642822, 0.9986634254455566, 0.9964109063148499, 0.9965388178825378, 0.9992399215698242, 0.9986966848373413, 0.9996390342712402, 0.9986326098442078, 0.9368187785148621, 0.04101145267486572, 0.022095967084169388, 0.6021996140480042, 0.05405741557478905, 0.27605322003364563, 0.06739158183336258, 0.5029781460762024, 0.0917048528790474, 0.058539263904094696, 0.015084349550306797, 0.15034401416778564, 0.18121199309825897, 0.9974513053894043, 0.9974016547203064, 0.9993105530738831, 0.9988499283790588, 0.3329746425151825, 0.14433589577674866, 0.5226682424545288, 0.8141995072364807, 0.06486079841852188, 0.12063125520944595, 0.9979073405265808, 0.9945403933525085, 0.24440838396549225, 0.7550542950630188, 0.9954602718353271, 0.9993184804916382, 0.9986129403114319, 0.9988358020782471, 0.9980303645133972, 0.9994709491729736, 0.997156023979187, 0.9979755282402039, 0.9024995565414429, 0.09726330637931824, 0.999077558517456, 0.07781944423913956, 0.9214529991149902, 0.9962296485900879, 0.9980869293212891, 0.9987385272979736, 0.11667205393314362, 0.881117045879364, 0.7312616109848022, 0.2680746018886566, 0.5409183502197266, 0.4571478068828583, 0.9997591972351074, 0.9958198666572571, 0.999165952205658, 0.9311559200286865, 0.06857836991548538, 0.9407404661178589, 0.05865391716361046, 0.9976280331611633, 0.9981794953346252, 0.2269122153520584, 0.027458569034934044, 0.1233108714222908, 0.6104899048805237, 0.011792022734880447, 0.9986316561698914, 0.9984573125839233, 0.9375805258750916, 0.06186264008283615, 0.9988245368003845, 0.9988209009170532, 0.9981517195701599, 0.996462881565094, 0.9988818168640137, 0.9969186186790466, 0.9989681839942932, 0.22221098840236664, 0.7777384519577026, 0.9993095993995667, 0.3147817850112915, 0.12201045453548431, 0.08689017593860626, 0.3540644645690918, 0.12201045453548431, 0.9994024634361267, 0.995852530002594, 0.9940524101257324, 0.9986585974693298, 0.9948031902313232, 0.12265472859144211, 0.5270196795463562, 0.34976381063461304, 0.9984237551689148, 0.9970868825912476, 0.9974934458732605, 0.9977242350578308, 0.9972710609436035, 0.3339434564113617, 0.6647064685821533, 0.9966764450073242, 0.9978664517402649, 0.9958997368812561, 0.9979192018508911, 0.9989527463912964, 0.9989863634109497, 0.9984068870544434, 0.9991421103477478, 0.9976468086242676, 0.6436457633972168, 0.35604992508888245, 0.997279942035675, 0.9977601170539856, 0.998634397983551, 0.995802104473114, 0.997451901435852, 0.9975156784057617, 0.52317875623703, 0.044118497520685196, 0.20852233469486237, 0.22392217814922333, 0.9968552589416504, 0.9986216425895691, 0.9995601773262024, 0.9984785318374634, 0.9087520837783813, 0.0909762904047966, 0.9991196393966675, 0.9993422031402588, 0.9994993805885315, 0.8599768877029419, 0.1395735889673233, 0.7922563552856445, 0.12509310245513916, 0.08248893171548843, 0.9961186647415161, 0.9951815009117126, 0.9969119429588318, 0.9978550672531128, 0.3560490906238556, 0.6424127221107483, 0.9982446432113647, 0.7077784538269043, 0.2373676598072052, 0.054777152836322784, 0.9968997836112976, 0.9987085461616516, 0.9994983673095703, 0.7068073749542236, 0.29293304681777954, 0.9971372485160828, 0.5823956727981567, 0.41685372591018677, 0.3377743065357208, 0.16125382483005524, 0.33586597442626953, 0.16507048904895782, 0.9991798400878906, 0.9996193051338196, 0.7497918009757996, 0.24872902035713196, 0.6545020341873169, 0.17976248264312744, 0.16518715023994446, 0.9992626309394836, 0.99942547082901, 0.9984586238861084, 0.9988980293273926, 0.9991874694824219, 0.44655218720436096, 0.5525586605072021, 0.1439884752035141, 0.8556556701660156, 0.9988064169883728, 0.9975301027297974, 0.9983921051025391, 0.9992091059684753, 0.07390211522579193, 0.9248961210250854, 0.7352781295776367, 0.26443567872047424, 0.9973705410957336, 0.3113611936569214, 0.1697508543729782, 0.5183301568031311, 0.9973136186599731, 0.6402897238731384, 0.35935693979263306, 0.9992015957832336, 0.9051393866539001, 0.09428535401821136, 0.9997075200080872, 0.9983313083648682, 0.9985326528549194, 0.9995938539505005, 0.8262589573860168, 0.11112605035305023, 0.06251570582389832, 0.08007802069187164, 0.9196839332580566, 0.11442553251981735, 0.046514444053173065, 0.8388105034828186, 0.9967935085296631, 0.9989694356918335, 0.9982390403747559, 0.9978773593902588, 0.999043881893158, 0.36771005392074585, 0.12650202214717865, 0.04108265042304993, 0.15782245993614197, 0.1281290501356125, 0.17897392809391022, 0.9989607334136963, 0.9994348883628845, 0.15769125521183014, 0.5634068250656128, 0.2783094048500061, 0.9986968636512756, 0.9983605742454529, 0.9986871480941772, 0.9956246018409729, 0.9976292252540588, 0.9982312321662903, 0.9968525171279907, 0.9990667700767517, 0.995373010635376, 0.9990231990814209, 0.9988835453987122, 0.9985803365707397, 0.9968279600143433, 0.9983919858932495, 0.3218177258968353, 0.6760331988334656, 0.8247372508049011, 0.10561179369688034, 0.061322975903749466, 0.008233177475631237, 0.9986433386802673, 0.15539400279521942, 0.8436796069145203, 0.9963818788528442, 0.9973074793815613, 0.2737236022949219, 0.7250633835792542, 0.9992749094963074, 0.8779290318489075, 0.08324476331472397, 0.038590285927057266, 0.5970564484596252, 0.4018251895904541, 0.9988006353378296, 0.9968646168708801, 0.9971221685409546, 0.8625108599662781, 0.13628220558166504, 0.9997824430465698, 0.9955053329467773, 0.9973670840263367, 0.5488540530204773, 0.45065075159072876, 0.9996159076690674, 0.9994149804115295, 0.9990140795707703, 0.9987452626228333, 0.12745162844657898, 0.8721402883529663, 0.859592616558075, 0.13986830413341522, 0.36941632628440857, 0.25869208574295044, 0.3714294731616974, 0.9982507228851318, 0.9994327425956726, 0.9979016780853271, 0.9996124505996704, 0.9266575574874878, 0.060214895755052567, 0.01307501271367073, 0.26203829050064087, 0.2942630648612976, 0.4435146749019623, 0.999825119972229, 0.9978302121162415, 0.9981275796890259, 0.9988886713981628, 0.9980188608169556, 0.8131032586097717, 0.1856350600719452, 0.9978145360946655, 0.9991382956504822, 0.9985167980194092, 0.9986410140991211, 0.9992656111717224, 0.9988037943840027, 0.998249888420105, 0.9988362193107605, 0.9978708624839783, 0.9986752867698669, 0.9993343949317932, 0.9997396469116211, 0.999324381351471, 0.9975123405456543, 0.9996245503425598, 0.9940761923789978, 0.9945894479751587, 0.00529989879578352, 0.9994818568229675, 0.9985588788986206, 0.9987495541572571, 0.11889766156673431, 0.8168423771858215, 0.06330914050340652, 0.9974223375320435, 0.07609492540359497, 0.31841662526130676, 0.6050654649734497, 0.9981854557991028, 0.9990764260292053, 0.13357801735401154, 0.8655615448951721, 0.9994581341743469, 0.9969754219055176, 0.32197102904319763, 0.6778205633163452, 0.5914006233215332, 0.40786251425743103, 0.9994896650314331, 0.7696993350982666, 0.04485977813601494, 0.007673383224755526, 0.03836691752076149, 0.13900628685951233, 0.9996595978736877, 0.9995256066322327, 0.9982590675354004, 0.7845083475112915, 0.21460099518299103, 0.9982315897941589, 0.9993471503257751, 0.9993212223052979, 0.9992379546165466, 0.8656886219978333, 0.1341550052165985, 0.9944514036178589, 0.9941827654838562, 0.1585543155670166, 0.1737562119960785, 0.6676046252250671, 0.7291629314422607, 0.2690792381763458, 0.9968004822731018, 0.7645459771156311, 0.23510995507240295, 0.9988352656364441, 0.998266339302063, 0.998998761177063, 0.9979543685913086, 0.09043460339307785, 0.9087575078010559, 0.8807730078697205, 0.11844374239444733, 0.9981774687767029, 0.940077543258667, 0.059941183775663376, 0.9977104663848877, 0.9983128905296326, 0.9980274438858032, 0.9984543323516846, 0.8940641283988953, 0.10445501655340195, 0.996161699295044, 0.9982463121414185, 0.9978114366531372, 0.7474404573440552, 0.2506590783596039, 0.831740140914917, 0.16659483313560486, 0.9987660050392151, 0.24696709215641022, 0.251271516084671, 0.311533659696579, 0.18993330001831055, 0.9968870878219604, 0.9991596937179565, 0.9984113574028015, 0.13318684697151184, 0.19564169645309448, 0.6712015271186829, 0.9988658428192139, 0.9990682601928711, 0.9976151585578918, 0.9983766078948975, 0.996009886264801, 0.9967150092124939, 0.9992016553878784, 0.9995914697647095, 0.9957261085510254, 0.9975484609603882, 0.9974008202552795, 0.9991912245750427, 0.9995036125183105, 0.9992514848709106, 0.9980232119560242, 0.9544180631637573, 0.045286066830158234, 0.45611849427223206, 0.33841049671173096, 0.20485718548297882, 0.9967246055603027, 0.9956181049346924, 0.9953598976135254, 0.9988570213317871, 0.813210129737854, 0.18636064231395721, 0.9973046779632568, 0.9978113174438477, 0.9987419843673706, 0.9988611340522766, 0.995995283126831, 0.9955861568450928, 0.9928871989250183, 0.9976066946983337, 0.9990771412849426, 0.9944108128547668, 0.1544116735458374, 0.8424232006072998, 0.9986404776573181, 0.29813501238822937, 0.37886425852775574, 0.056885961443185806, 0.20463927090168, 0.06139178201556206, 0.9976204037666321, 0.9982833862304688, 0.9990572929382324, 0.9988135099411011, 0.9977453947067261, 0.9973533749580383, 0.9972400665283203, 0.07499045878648758, 0.36320680379867554, 0.5610731840133667, 0.998500645160675, 0.9997203350067139, 0.9964151382446289, 0.9991177916526794, 0.99402916431427, 0.6510503888130188, 0.23952224850654602, 0.10609710216522217, 0.9995851516723633, 0.999066174030304, 0.9989221096038818, 0.9964342713356018, 0.8822466135025024, 0.11315026879310608, 0.004539715591818094, 0.9262843132019043, 0.003859152551740408, 0.06981557607650757, 0.9964504241943359, 0.999157726764679, 0.9985924959182739, 0.9960430264472961, 0.9986357688903809, 0.9956573843955994, 0.9989864230155945, 0.9992325901985168, 0.997738242149353, 0.9967567324638367, 0.8195107579231262, 0.05663473531603813, 0.12373457849025726, 0.6277247071266174, 0.37215107679367065, 0.9995328783988953, 0.22011594474315643, 0.7794404029846191, 0.9978726506233215, 0.9993536472320557, 0.2518779933452606, 0.746796190738678, 0.999035120010376, 0.4374496638774872, 0.5613292455673218, 0.8823302388191223, 0.1175304725766182, 0.9974995255470276, 0.9995027184486389, 0.9994444847106934, 0.995560348033905, 0.9942142963409424, 0.239728644490242, 0.7595560550689697, 0.9939653277397156, 0.999415397644043, 0.9992070198059082, 0.9976482391357422, 0.9985823035240173, 0.9984854459762573, 0.9982591867446899, 0.9987770915031433, 0.9977853894233704, 0.9966373443603516, 0.9985867142677307, 0.9974532723426819, 0.9992203116416931, 0.9975190162658691, 0.9983609914779663, 0.9995085597038269, 0.9997600317001343, 0.9983512759208679, 0.9933153986930847, 0.9959573745727539, 0.9985584616661072, 0.9989374876022339, 0.9992644786834717, 0.9976809620857239, 0.34579676389694214, 0.3161261975765228, 0.33770477771759033, 0.998211681842804, 0.9980647563934326, 0.9988566637039185, 0.8222098350524902, 0.17700350284576416, 0.9970721006393433, 0.9982540607452393, 0.9242095947265625, 0.07469965517520905, 0.9998412728309631, 0.19382017850875854, 0.8029692769050598, 0.9988921284675598, 0.9976108074188232, 0.9993985891342163, 0.930138349533081, 0.06949688494205475, 0.13427768647670746, 0.8652612566947937, 0.999342143535614, 0.9955673217773438, 0.9958725571632385, 0.9990511536598206, 0.2616376578807831, 0.7375690340995789, 0.9987800121307373, 0.9987596273422241, 0.9994808435440063, 0.996759831905365, 0.9974910020828247, 0.9968867301940918, 0.998418390750885, 0.999025285243988, 0.99762362241745, 0.045873917639255524, 0.2067587524652481, 0.7472448348999023, 0.15421521663665771, 0.6601443290710449, 0.18545956909656525, 0.6913958787918091, 0.3071826696395874, 0.9989929795265198, 0.8113121390342712, 0.0672822818160057, 0.12110810726881027, 0.9982238411903381, 0.23493129014968872, 0.21392911672592163, 0.5504523515701294, 0.9971532225608826, 0.9979415535926819, 0.295497864484787, 0.027873046696186066, 0.1012575551867485, 0.11715389788150787, 0.0298328697681427, 0.42833033204078674, 0.8737051486968994, 0.12579013407230377, 0.9949691295623779, 0.20809262990951538, 0.6780602931976318, 0.11359645426273346, 0.9995136857032776, 0.9981831908226013, 0.9994124174118042, 0.2466091811656952, 0.059459127485752106, 0.6935274004936218, 0.9986318945884705, 0.9996314644813538, 0.9293309450149536, 0.0704432800412178, 0.9999496936798096, 0.9986414909362793, 0.9971641898155212, 0.9980126023292542, 0.9981150031089783, 0.9983481764793396, 0.9977967143058777, 0.996570885181427, 0.7561416625976562, 0.24360235035419464, 0.9993658661842346, 0.2283111959695816, 0.585132896900177, 0.185930073261261, 0.9976892471313477, 0.9992603063583374, 0.9968522191047668, 0.998453676700592, 0.9982082843780518, 0.9960132241249084, 0.9974117875099182, 0.9983306527137756, 0.9975563883781433, 0.9992385506629944, 0.9998577833175659, 0.11329127103090286, 0.8853502869606018, 0.9986913204193115, 0.9144891500473022, 0.050073716789484024, 0.03519466891884804, 0.37615516781806946, 0.6230069994926453, 0.9961140155792236, 0.12574326992034912, 0.8736537098884583, 0.3632569909095764, 0.6345692873001099, 0.9968359470367432, 0.9957089424133301, 0.9979034066200256, 0.9985067248344421, 0.061287567019462585, 0.31232571601867676, 0.5898593664169312, 0.03613022342324257, 0.9962390065193176, 0.9976011514663696, 0.9974127411842346, 0.9952476620674133, 0.9971157312393188, 0.996599018573761, 0.996799647808075, 0.9993739724159241, 0.32177460193634033, 0.677497923374176, 0.9999148845672607, 0.7503378391265869, 0.1630440503358841, 0.08643011003732681, 0.10319814831018448, 0.8953956961631775, 0.9990869760513306, 0.9993870258331299, 0.9999213218688965, 0.9992494583129883, 0.9961001873016357, 0.9967285394668579, 0.9990416169166565, 0.4170306921005249, 0.23457975685596466, 0.3468572497367859, 0.22644449770450592, 0.3022014796733856, 0.12754720449447632, 0.29228419065475464, 0.051239266991615295, 0.9987207651138306, 0.9969491958618164, 0.9979003071784973, 0.125074103474617, 0.8747652769088745, 0.9993101358413696, 0.9934445023536682, 0.9996240735054016, 0.22554604709148407, 0.36829671263694763, 0.40541186928749084, 0.997635006904602, 0.9967366456985474, 0.9998254776000977, 0.9962281584739685, 0.999549150466919, 0.0007844401989132166, 0.7737194895744324, 0.22513434290885925, 0.998284637928009, 0.9973040819168091, 0.9998365640640259, 0.9990317821502686, 0.25790292024612427, 0.14271852374076843, 0.5988671183586121, 0.996311366558075, 0.717139720916748, 0.05759652331471443, 0.1475372463464737, 0.0776790902018547, 0.9983871579170227, 0.9996337294578552, 0.998188316822052, 0.4202423691749573, 0.021220535039901733, 0.2110685259103775, 0.09568187594413757, 0.16502754390239716, 0.08658735454082489, 0.9989686608314514, 0.9994434118270874], \"Term\": [\"ability\", \"able\", \"abortion\", \"absolute\", \"absolutely\", \"aca\", \"aca\", \"access\", \"account\", \"act\", \"act\", \"actual\", \"actually\", \"actually\", \"actually\", \"actually\", \"ad\", \"add\", \"address\", \"administration\", \"advantage\", \"afraid\", \"age\", \"agenda\", \"agree\", \"ahead\", \"allow\", \"allow\", \"almost\", \"also\", \"also\", \"also\", \"also\", \"amazing\", \"america\", \"america\", \"america\", \"american\", \"american\", \"american\", \"amount\", \"amp\", \"anymore\", \"anyone\", \"anyone\", \"anyone\", \"anyone\", \"anything\", \"anyway\", \"apparently\", \"appear\", \"appoint\", \"approach\", \"area\", \"argue\", \"argument\", \"arkansa\", \"around\", \"article\", \"article\", \"article\", \"ask\", \"asshole\", \"assume\", \"attack\", \"attempt\", \"author\", \"average\", \"baby\", \"back\", \"bad\", \"bank\", \"barack\", \"base\", \"base\", \"base\", \"base\", \"basically\", \"battle\", \"be\", \"become\", \"become\", \"begin\", \"believe\", \"bern\", \"bernie\", \"bernie\", \"bernie\", \"bet\", \"big\", \"bill\", \"bill\", \"birth\", \"bit\", \"bite\", \"black\", \"black\", \"block\", \"bother\", \"branch\", \"break\", \"bring\", \"bring\", \"bring\", \"bring\", \"brother\", \"budget\", \"bullshit\", \"bunch\", \"bush\", \"bush\", \"buy\", \"ca\", \"california\", \"call\", \"campaign\", \"candidate\", \"candidate\", \"candidate\", \"capitalism\", \"car\", \"care\", \"care\", \"carolina\", \"carson\", \"case\", \"century\", \"champion\", \"chance\", \"change\", \"change\", \"charge\", \"check\", \"chicago\", \"child\", \"child\", \"child\", \"choice\", \"choice\", \"choose\", \"cite\", \"citizen\", \"citizen\", \"city\", \"city\", \"civil\", \"claim\", \"claim\", \"clearly\", \"clinton\", \"close\", \"close\", \"clue\", \"code\", \"come\", \"come\", \"comment\", \"commerce\", \"common\", \"common\", \"community\", \"company\", \"complain\", \"completely\", \"compromise\", \"concern\", \"conclusion\", \"confirm\", \"congress\", \"consequence\", \"consequence\", \"conservative\", \"conservative\", \"consider\", \"consider\", \"consider\", \"constituent\", \"consumer\", \"continue\", \"control\", \"control\", \"control\", \"cool\", \"corporate\", \"corporate\", \"correct\", \"corruption\", \"cost\", \"cost\", \"could\", \"could\", \"could\", \"could\", \"count\", \"country\", \"country\", \"country\", \"country\", \"county\", \"couple\", \"couple\", \"course\", \"court\", \"court\", \"cover\", \"cover\", \"crazy\", \"create\", \"create\", \"credit\", \"crime\", \"cruz\", \"currency\", \"current\", \"cut\", \"damn\", \"dangerous\", \"dare\", \"date\", \"day\", \"deal\", \"debate\", \"debate\", \"debt\", \"decade\", \"decide\", \"decide\", \"decision\", \"decision\", \"deductible\", \"defend\", \"definitely\", \"degree\", \"democracy\", \"democrat\", \"democratic\", \"democratic\", \"deserve\", \"desperate\", \"destroy\", \"destroy\", \"determine\", \"die\", \"difference\", \"different\", \"disagree\", \"discrimination\", \"discuss\", \"dislike\", \"dnc\", \"do\", \"document\", \"domain\", \"donald\", \"double\", \"drag\", \"draw\", \"dream\", \"drive\", \"drug\", \"due\", \"early\", \"easy\", \"easy\", \"economic\", \"economist\", \"edit\", \"education\", \"effect\", \"effect\", \"effective\", \"efficient\", \"elect\", \"election\", \"election\", \"electorate\", \"else\", \"email\", \"embarrassing\", \"employee\", \"empty\", \"end\", \"endorse\", \"endorsement\", \"enough\", \"entire\", \"entire\", \"entirely\", \"environment\", \"epa\", \"especially\", \"establishment\", \"establishment\", \"establishment\", \"even\", \"even\", \"even\", \"even\", \"even\", \"event\", \"ever\", \"ever\", \"everybody\", \"everyone\", \"everything\", \"everything\", \"exact\", \"exactly\", \"excuse\", \"expect\", \"experience\", \"experience\", \"explain\", \"face\", \"facebook\", \"fact\", \"fact\", \"fail\", \"failure\", \"fair\", \"fair\", \"fairly\", \"fall\", \"family\", \"famous\", \"far\", \"favor\", \"fear\", \"federal\", \"federal\", \"federal\", \"feed\", \"feel\", \"feel\", \"field\", \"fight\", \"fight\", \"figure\", \"filibuster\", \"fill\", \"fill\", \"financial\", \"find\", \"find\", \"find\", \"fire\", \"firewall\", \"first\", \"first\", \"first\", \"first\", \"flat\", \"flint\", \"flint\", \"flip\", \"florida\", \"focus\", \"folk\", \"follow\", \"fool\", \"force\", \"forefront\", \"foreign\", \"forget\", \"form\", \"former\", \"fort\", \"france\", \"fraud\", \"free\", \"free\", \"french\", \"front\", \"fuck\", \"fucking\", \"fun\", \"funny\", \"future\", \"gain\", \"game\", \"general\", \"generation\", \"george\", \"georgia\", \"get\", \"get\", \"get\", \"give\", \"give\", \"give\", \"give\", \"go\", \"go\", \"go\", \"go\", \"go\", \"go\", \"goal\", \"god\", \"goldman\", \"gon\", \"good\", \"good\", \"good\", \"government\", \"government\", \"government\", \"governor\", \"grab\", \"great\", \"great\", \"ground\", \"group\", \"gt\", \"guess\", \"gun\", \"guy\", \"half\", \"hampshire\", \"happen\", \"happen\", \"happy\", \"hard\", \"hard\", \"hat\", \"hate\", \"head\", \"headline\", \"headline\", \"health\", \"health\", \"healthcare\", \"healthcare\", \"hear\", \"heart\", \"hell\", \"help\", \"help\", \"high\", \"high\", \"hilarious\", \"hilary\", \"hillary\", \"hillary\", \"hillary\", \"hillary\", \"hillary\", \"hispanic\", \"history\", \"hold\", \"hold\", \"holy\", \"home\", \"honest\", \"honestly\", \"hope\", \"horrible\", \"hour\", \"house\", \"house\", \"however\", \"http\", \"http\", \"http\", \"http\", \"http\", \"https\", \"huge\", \"human\", \"hundred\", \"husband\", \"idea\", \"idea\", \"idea\", \"idiot\", \"illegal\", \"illinois\", \"imagine\", \"immigration\", \"important\", \"important\", \"impossible\", \"impressive\", \"increasingly\", \"individual\", \"industry\", \"inequality\", \"information\", \"instead\", \"insult\", \"insurance\", \"insurance\", \"intend\", \"interested\", \"interesting\", \"internet\", \"interview\", \"invest\", \"issue\", \"issue\", \"issue\", \"issue\", \"itt\", \"jackson\", \"jeb\", \"jesse\", \"job\", \"job\", \"judge\", \"justice\", \"keep\", \"kind\", \"kind\", \"know\", \"know\", \"know\", \"krugman\", \"label\", \"lack\", \"lady\", \"large\", \"large\", \"largely\", \"last\", \"last\", \"last\", \"late\", \"latino\", \"law\", \"lead\", \"lead\", \"learn\", \"least\", \"least\", \"leave\", \"leave\", \"leave\", \"leave\", \"less\", \"let\", \"level\", \"level\", \"liberal\", \"liberal\", \"liberal\", \"lie\", \"life\", \"lift\", \"like\", \"likely\", \"limit\", \"limit\", \"line\", \"line\", \"link\", \"list\", \"listen\", \"literally\", \"little\", \"little\", \"live\", \"live\", \"lol\", \"long\", \"long\", \"long\", \"longer\", \"look\", \"look\", \"lose\", \"lot\", \"lot\", \"love\", \"main\", \"major\", \"majority\", \"make\", \"make\", \"make\", \"man\", \"man\", \"many\", \"many\", \"many\", \"margin\", \"mark\", \"market\", \"marriage\", \"matter\", \"may\", \"may\", \"may\", \"may\", \"may\", \"may\", \"maybe\", \"mean\", \"medium\", \"medium\", \"medium\", \"meet\", \"member\", \"mention\", \"mexico\", \"michigan\", \"middle\", \"military\", \"millennial\", \"million\", \"mind\", \"minority\", \"miss\", \"mistake\", \"moderate\", \"moment\", \"moment\", \"money\", \"money\", \"money\", \"money\", \"monopoly\", \"month\", \"month\", \"mother\", \"mouth\", \"move\", \"move\", \"movement\", \"much\", \"much\", \"much\", \"must\", \"must\", \"name\", \"narrative\", \"nation\", \"national\", \"national\", \"need\", \"neighborhood\", \"nervous\", \"nevada\", \"nevada\", \"never\", \"new\", \"news\", \"nice\", \"nominate\", \"nominate\", \"nomination\", \"nomination\", \"nominee\", \"nominee\", \"nominee\", \"nonhispanic\", \"not\", \"note\", \"nothing\", \"nt\", \"nt\", \"nt\", \"number\", \"number\", \"number\", \"obama\", \"obstruct\", \"obstructionist\", \"obvious\", \"offer\", \"office\", \"office\", \"official\", \"old\", \"one\", \"open\", \"opinion\", \"other\", \"overall\", \"overturn\", \"page\", \"panic\", \"part\", \"party\", \"pass\", \"paul\", \"pay\", \"peace\", \"people\", \"people\", \"percent\", \"percentage\", \"perhaps\", \"person\", \"person\", \"person\", \"personally\", \"pick\", \"pick\", \"pick\", \"picture\", \"place\", \"plan\", \"plan\", \"play\", \"playing\", \"point\", \"point\", \"policy\", \"policy\", \"politic\", \"political\", \"political\", \"political\", \"political\", \"political\", \"politician\", \"poll\", \"polling\", \"poor\", \"poor\", \"population\", \"position\", \"post\", \"poverty\", \"power\", \"power\", \"pray\", \"predict\", \"president\", \"president\", \"president\", \"presidential\", \"presidential\", \"pretend\", \"pretty\", \"pretty\", \"prevent\", \"price\", \"primary\", \"private\", \"probably\", \"probably\", \"problem\", \"problem\", \"profit\", \"program\", \"program\", \"progress\", \"progressive\", \"project\", \"prominent\", \"protect\", \"protect\", \"proud\", \"prove\", \"provide\", \"public\", \"public\", \"pull\", \"pull\", \"pundit\", \"put\", \"put\", \"put\", \"put\", \"qualified\", \"question\", \"quo\", \"race\", \"race\", \"race\", \"racial\", \"racism\", \"racist\", \"rally\", \"random\", \"rank\", \"rate\", \"rather\", \"rating\", \"ratio\", \"reach\", \"read\", \"real\", \"reality\", \"realize\", \"really\", \"really\", \"reason\", \"reason\", \"reason\", \"reasonable\", \"recently\", \"recognize\", \"record\", \"reddit\", \"reddit\", \"redirect\", \"refer\", \"refuse\", \"regardless\", \"register\", \"reject\", \"remark\", \"remind\", \"remove\", \"reno\", \"replace\", \"replace\", \"represent\", \"republican\", \"republican\", \"republican\", \"republican\", \"republican\", \"research\", \"respect\", \"rest\", \"result\", \"resume\", \"retire\", \"reverse\", \"revolution\", \"revolution\", \"revolution\", \"ridiculous\", \"right\", \"rise\", \"rpolitic\", \"ruin\", \"rule\", \"rule\", \"rule\", \"run\", \"s\", \"sach\", \"sad\", \"sander\", \"sander\", \"sander\", \"say\", \"say\", \"say\", \"scab\", \"scalia\", \"school\", \"scotus\", \"search\", \"seat\", \"second\", \"secretary\", \"sector\", \"security\", \"see\", \"see\", \"see\", \"seem\", \"seem\", \"senate\", \"senator\", \"senator\", \"send\", \"sense\", \"serious\", \"serious\", \"seriously\", \"serve\", \"serve\", \"service\", \"service\", \"set\", \"sexism\", \"shit\", \"shitty\", \"shoot\", \"show\", \"show\", \"sick\", \"side\", \"similar\", \"simple\", \"simply\", \"single\", \"sit\", \"site\", \"situation\", \"size\", \"small\", \"smart\", \"social\", \"socialist\", \"solution\", \"someone\", \"something\", \"sometimes\", \"somewhere\", \"soon\", \"sound\", \"source\", \"south\", \"southern\", \"speak\", \"speak\", \"speak\", \"speaker\", \"special\", \"speech\", \"spend\", \"spend\", \"spending\", \"spot\", \"start\", \"start\", \"state\", \"statement\", \"statement\", \"status\", \"stay\", \"step\", \"still\", \"still\", \"stop\", \"stop\", \"story\", \"straight\", \"strange\", \"street\", \"strong\", \"strong\", \"study\", \"stuff\", \"stupid\", \"subreddit\", \"succeed\", \"successful\", \"suck\", \"super\", \"supply\", \"support\", \"support\", \"support\", \"supporter\", \"supporter\", \"supporter\", \"suppose\", \"suppose\", \"supreme\", \"sure\", \"sure\", \"sure\", \"surprised\", \"system\", \"system\", \"system\", \"t\", \"tactic\", \"take\", \"take\", \"take\", \"take\", \"take\", \"take\", \"talk\", \"talk\", \"targett\", \"tax\", \"tax\", \"tax\", \"tea\", \"team\", \"tell\", \"term\", \"term\", \"term\", \"terrible\", \"thank\", \"thing\", \"thing\", \"think\", \"third\", \"thousand\", \"thread\", \"throw\", \"thumbnail\", \"thus\", \"tilli\", \"time\", \"time\", \"title\", \"today\", \"today\", \"today\", \"tomorrow\", \"top\", \"topic\", \"totally\", \"tough\", \"town\", \"trade\", \"treasury\", \"trick\", \"true\", \"trump\", \"trust\", \"trust\", \"truth\", \"try\", \"try\", \"try\", \"turn\", \"turn\", \"undecided\", \"union\", \"union\", \"universal\", \"universal\", \"uphold\", \"upset\", \"upvote\", \"usa\", \"use\", \"use\", \"use\", \"use\", \"usual\", \"usually\", \"valid\", \"value\", \"vast\", \"vegas\", \"victim\", \"video\", \"view\", \"view\", \"vote\", \"voter\", \"voter\", \"voter\", \"voting\", \"voting\", \"wage\", \"wall\", \"want\", \"warren\", \"washington\", \"waste\", \"watch\", \"water\", \"water\", \"water\", \"way\", \"way\", \"way\", \"way\", \"way\", \"website\", \"weird\", \"welfare\", \"well\", \"well\", \"whatev\", \"wheel\", \"white\", \"whole\", \"whole\", \"whole\", \"wife\", \"willing\", \"win\", \"wing\", \"wo\", \"woman\", \"woman\", \"woman\", \"wonder\", \"word\", \"work\", \"worker\", \"world\", \"world\", \"world\", \"worth\", \"would\", \"would\", \"would\", \"would\", \"write\", \"wrong\", \"wtf\", \"year\", \"year\", \"year\", \"year\", \"year\", \"year\", \"yet\", \"young\"]}, \"R\": 30, \"lambda.step\": 0.01, \"plot.opts\": {\"xlab\": \"PC1\", \"ylab\": \"PC2\"}, \"topic.order\": [15, 17, 19, 8, 3, 12, 14, 6, 20, 9, 16, 2, 5, 13, 18, 10, 4, 7, 1, 11]};\n",
              "\n",
              "function LDAvis_load_lib(url, callback){\n",
              "  var s = document.createElement('script');\n",
              "  s.src = url;\n",
              "  s.async = true;\n",
              "  s.onreadystatechange = s.onload = callback;\n",
              "  s.onerror = function(){console.warn(\"failed to load library \" + url);};\n",
              "  document.getElementsByTagName(\"head\")[0].appendChild(s);\n",
              "}\n",
              "\n",
              "if(typeof(LDAvis) !== \"undefined\"){\n",
              "   // already loaded: just create the visualization\n",
              "   !function(LDAvis){\n",
              "       new LDAvis(\"#\" + \"ldavis_el1291398998212265289569011647\", ldavis_el1291398998212265289569011647_data);\n",
              "   }(LDAvis);\n",
              "}else if(typeof define === \"function\" && define.amd){\n",
              "   // require.js is available: use it to load d3/LDAvis\n",
              "   require.config({paths: {d3: \"https://cdnjs.cloudflare.com/ajax/libs/d3/3.5.5/d3.min\"}});\n",
              "   require([\"d3\"], function(d3){\n",
              "      window.d3 = d3;\n",
              "      LDAvis_load_lib(\"https://cdn.rawgit.com/bmabey/pyLDAvis/files/ldavis.v1.0.0.js\", function(){\n",
              "        new LDAvis(\"#\" + \"ldavis_el1291398998212265289569011647\", ldavis_el1291398998212265289569011647_data);\n",
              "      });\n",
              "    });\n",
              "}else{\n",
              "    // require.js not available: dynamically load d3 & LDAvis\n",
              "    LDAvis_load_lib(\"https://cdnjs.cloudflare.com/ajax/libs/d3/3.5.5/d3.min.js\", function(){\n",
              "         LDAvis_load_lib(\"https://cdn.rawgit.com/bmabey/pyLDAvis/files/ldavis.v1.0.0.js\", function(){\n",
              "                 new LDAvis(\"#\" + \"ldavis_el1291398998212265289569011647\", ldavis_el1291398998212265289569011647_data);\n",
              "            })\n",
              "         });\n",
              "}\n",
              "</script>"
            ],
            "text/plain": [
              "PreparedData(topic_coordinates=              x         y  topics  cluster       Freq\n",
              "topic                                                \n",
              "14    -0.127581  0.139378       1        1  13.388610\n",
              "16     0.119034  0.117987       2        1   7.378056\n",
              "18    -0.065626 -0.266112       3        1   6.205273\n",
              "7      0.012371  0.033251       4        1   5.451911\n",
              "2     -0.223698  0.115674       5        1   5.199551\n",
              "11     0.053511 -0.090014       6        1   5.140554\n",
              "13    -0.055617  0.001575       7        1   4.874213\n",
              "5     -0.090143  0.108539       8        1   4.767360\n",
              "19     0.062600 -0.069427       9        1   4.606367\n",
              "8     -0.081343 -0.032751      10        1   4.541985\n",
              "15     0.113610  0.081050      11        1   4.414512\n",
              "1     -0.035827 -0.176571      12        1   4.305320\n",
              "4     -0.203091  0.025442      13        1   4.251884\n",
              "12     0.024706 -0.177842      14        1   3.997791\n",
              "17     0.165046  0.145279      15        1   3.866604\n",
              "9      0.158012  0.016796      16        1   3.812979\n",
              "3      0.047561 -0.183985      17        1   3.654836\n",
              "6     -0.179227  0.081181      18        1   3.562754\n",
              "0      0.141324  0.115159      19        1   3.404582\n",
              "10     0.164377  0.015389      20        1   3.174854, topic_info=     Category          Freq         Term         Total  loglift  logprob\n",
              "19    Default  25774.000000           nt  25774.000000  30.0000  30.0000\n",
              "267   Default  11619.000000       bernie  11619.000000  29.0000  29.0000\n",
              "55    Default  13396.000000       people  13396.000000  28.0000  28.0000\n",
              "517   Default  11674.000000       sander  11674.000000  27.0000  27.0000\n",
              "47    Default  15087.000000        would  15087.000000  26.0000  26.0000\n",
              "138   Default   7078.000000         want   7078.000000  25.0000  25.0000\n",
              "252   Default   6879.000000        trump   6879.000000  24.0000  24.0000\n",
              "98    Default  11947.000000          get  11947.000000  23.0000  23.0000\n",
              "43    Default  11401.000000          say  11401.000000  22.0000  22.0000\n",
              "28    Default   9457.000000        think   9457.000000  21.0000  21.0000\n",
              "20    Default   6045.000000        obama   6045.000000  20.0000  20.0000\n",
              "45    Default   5845.000000         vote   5845.000000  19.0000  19.0000\n",
              "758   Default   6512.000000      clinton   6512.000000  18.0000  18.0000\n",
              "424   Default   5277.000000       really   5277.000000  17.0000  17.0000\n",
              "508   Default   5050.000000        party   5050.000000  16.0000  16.0000\n",
              "168   Default  10010.000000           go  10010.000000  15.0000  15.0000\n",
              "22    Default   7038.000000    president   7038.000000  14.0000  14.0000\n",
              "161   Default   6619.000000         know   6619.000000  13.0000  13.0000\n",
              "211   Default   4568.000000     campaign   4568.000000  12.0000  12.0000\n",
              "589   Default   3984.000000        state   3984.000000  11.0000  11.0000\n",
              "100   Default   5936.000000      hillary   5936.000000  10.0000  10.0000\n",
              "181   Default   5688.000000         good   5688.000000   9.0000   9.0000\n",
              "204   Default   8557.000000         make   8557.000000   8.0000   8.0000\n",
              "170   Default   3494.000000          win   3494.000000   7.0000   7.0000\n",
              "322   Default   3635.000000        right   3635.000000   6.0000   6.0000\n",
              "210   Default   3479.000000          big   3479.000000   5.0000   5.0000\n",
              "195   Default   4599.000000      support   4599.000000   4.0000   4.0000\n",
              "530   Default   4240.000000        black   4240.000000   3.0000   3.0000\n",
              "79    Default   4070.000000         bill   4070.000000   2.0000   2.0000\n",
              "222   Default   3115.000000          pay   3115.000000   1.0000   1.0000\n",
              "...       ...           ...          ...           ...      ...      ...\n",
              "1641  Topic20    444.016235          amp    444.955902   3.4478  -4.5518\n",
              "1054  Topic20    416.416321      address    417.355988   3.4477  -4.6160\n",
              "1393  Topic20    362.502075  environment    363.441742   3.4473  -4.7546\n",
              "1749  Topic20    326.192596         game    327.132263   3.4470  -4.8602\n",
              "1111  Topic20    309.469513       ground    310.409180   3.4469  -4.9128\n",
              "1548  Topic20    300.736053   interested    301.675720   3.4468  -4.9414\n",
              "1696  Topic20    295.925140      illegal    296.864807   3.4467  -4.9575\n",
              "1138  Topic20    287.265076        heart    288.204742   3.4466  -4.9872\n",
              "1986  Topic20    267.648193        refer    268.587860   3.4464  -5.0580\n",
              "1429  Topic20    258.066833    undecided    259.006500   3.4463  -5.0944\n",
              "2857  Topic20    242.819138    qualified    243.758804   3.4460  -5.1553\n",
              "1190  Topic20    241.496475        peace    242.436142   3.4460  -5.1608\n",
              "1116  Topic20    211.452667        wheel    212.392334   3.4455  -5.2936\n",
              "1683  Topic20    210.484451  constituent    211.424118   3.4455  -5.2982\n",
              "1896  Topic20    192.361557       france    193.301224   3.4450  -5.3883\n",
              "1425  Topic20    173.510010   personally    174.449677   3.4445  -5.4914\n",
              "1897  Topic20    168.593475          itt    169.533142   3.4444  -5.5201\n",
              "2073  Topic20    166.177444    somewhere    167.117111   3.4443  -5.5346\n",
              "3698  Topic20    334.886841      destroy    351.493896   3.4015  -4.8338\n",
              "896   Topic20   1445.416504         plan   1669.436401   3.3058  -3.3715\n",
              "501   Topic20    459.027405         view    677.492859   3.0606  -4.5185\n",
              "1721  Topic20    300.736511         easy    381.031067   3.2133  -4.9414\n",
              "493   Topic20   1030.770142         look   2869.013672   2.4262  -3.7096\n",
              "168   Topic20   1814.475952           go  10010.375000   1.7421  -3.1441\n",
              "260   Topic20    626.045044        speak   1853.690063   2.3644  -4.2082\n",
              "1297  Topic20    332.461609       debate    533.824463   2.9764  -4.8411\n",
              "1687  Topic20    382.324615   healthcare    835.615967   2.6680  -4.7014\n",
              "2716  Topic20    312.625763       moment    462.995026   3.0572  -4.9026\n",
              "464   Topic20    345.625000        leave   2096.074219   1.6474  -4.8023\n",
              "393   Topic20    360.599731        voter   4176.785156   1.0004  -4.7599\n",
              "\n",
              "[919 rows x 6 columns], token_table=      Topic      Freq            Term\n",
              "term                                 \n",
              "675      14  0.998213         ability\n",
              "1309     19  0.997990            able\n",
              "2007     20  0.999498        abortion\n",
              "690      13  0.997992        absolute\n",
              "604       1  0.998356      absolutely\n",
              "2095      3  0.356776             aca\n",
              "2095     19  0.641233             aca\n",
              "1026      4  0.997061          access\n",
              "177      14  0.997869         account\n",
              "987       4  0.735532             act\n",
              "987       5  0.263959             act\n",
              "2069      6  0.997180          actual\n",
              "307       2  0.486467        actually\n",
              "307       3  0.153280        actually\n",
              "307       6  0.242722        actually\n",
              "307      13  0.117435        actually\n",
              "676       2  0.998135              ad\n",
              "2710     14  0.998380             add\n",
              "1054     20  0.996751         address\n",
              "1583     15  0.996680  administration\n",
              "1027      4  0.998863       advantage\n",
              "3340      8  0.994005          afraid\n",
              "378       3  0.998619             age\n",
              "542      19  0.998745          agenda\n",
              "1253     18  0.999494           agree\n",
              "242       7  0.997984           ahead\n",
              "943      13  0.225481           allow\n",
              "943      18  0.773467           allow\n",
              "275       1  0.999559          almost\n",
              "952      11  0.381830            also\n",
              "...     ...       ...             ...\n",
              "512      11  0.996737         willing\n",
              "170      19  0.999825             win\n",
              "1618     14  0.996228            wing\n",
              "330      19  0.999549              wo\n",
              "140       7  0.000784           woman\n",
              "140       8  0.773719           woman\n",
              "140      11  0.225134           woman\n",
              "434       1  0.998285          wonder\n",
              "396       3  0.997304            word\n",
              "141      13  0.999837            work\n",
              "823       4  0.999032          worker\n",
              "1397      2  0.257903           world\n",
              "1397      4  0.142719           world\n",
              "1397      7  0.598867           world\n",
              "513      19  0.996311           worth\n",
              "47        1  0.717140           would\n",
              "47        3  0.057597           would\n",
              "47       12  0.147537           would\n",
              "47       18  0.077679           would\n",
              "789       3  0.998387           write\n",
              "435      15  0.999634           wrong\n",
              "938      14  0.998188             wtf\n",
              "30        1  0.420242            year\n",
              "30        2  0.021221            year\n",
              "30        4  0.211069            year\n",
              "30        7  0.095682            year\n",
              "30        8  0.165028            year\n",
              "30        9  0.086587            year\n",
              "209       8  0.998969             yet\n",
              "1064     10  0.999443           young\n",
              "\n",
              "[1097 rows x 3 columns], R=30, lambda_step=0.01, plot_opts={'xlab': 'PC1', 'ylab': 'PC2'}, topic_order=[15, 17, 19, 8, 3, 12, 14, 6, 20, 9, 16, 2, 5, 13, 18, 10, 4, 7, 1, 11])"
            ]
          },
          "metadata": {
            "tags": []
          },
          "execution_count": 19
        }
      ]
    }
  ]
}